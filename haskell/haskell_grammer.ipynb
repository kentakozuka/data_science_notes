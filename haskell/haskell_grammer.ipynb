{
 "cells": [
  {
   "cell_type": "markdown",
   "metadata": {},
   "source": [
    "# 多相性 (Polymorphism)\n",
    "\n",
    "1. パラメータ多相 (Parametric Polymorphism)\n",
    "    ジェネリクスのようなもの\n",
    "\n",
    "1. アドホック多相 (Ad-hoc Polymorphism)\n",
    "    オブジェクト指向プログラミングでいうオーバーロード\n",
    "    Haskellでは型クラスにより実現する。"
   ]
  },
  {
   "cell_type": "markdown",
   "metadata": {},
   "source": [
    "# 型クラス\n",
    "\n",
    "何らかの振る舞いを定義するインターフェース。  \n",
    "OOPのオーバーロードみたいな機能を提供する。  \n",
    "記述だけみると同一の式に見えても、型によって全く異なる実装の式を使い、型によって柔軟に処理を変えられます。（アドホック多相）  \n",
    "\n",
    "ある型クラスのインスタンスである型は、その型クラスが記述する振る舞いを実装する。  \n",
    "具体的にいうと、型クラスは関数の集まりを定めます。  \n",
    "ある型Tがある型クラスCのインスタンスであるとは、型クラスCが定義する関数（メソッド）たちを型Tに対して使用できる。  \n",
    "\n",
    "型クラスは、二つの部分からなる。  \n",
    "\n",
    "1. 型クラスのインスタンスになるために必要な契約を表わすクラスメソッドの型宣言。これに合うように、型クラスのインスタンスは、メソッドを実装しなくてはいけない。\n",
    "1. デフォルトの実装。これは、インスタンスがクラスメソッドの型宣言で、指定した契約を独自に実装しなかったときに使われる。\n",
    "\n",
    "型クラスは型や型クラスと同じ名前空間に存在する。  \n",
    "型クラスのカインドはConstraint  \n",
    "\n",
    "※ 型クラスのインスタンス指定は（他の言語と違って）型の定義時には行わない  "
   ]
  },
  {
   "cell_type": "markdown",
   "metadata": {},
   "source": [
    "## カインド\n",
    "\n",
    "型コンストラクタと型引数の組み合わせを規定する。\n",
    "\n",
    "Int型\n",
    "\n",
    "```\n",
    "Prelude> :k Int\n",
    "Int :: *\n",
    "```\n",
    "\n",
    "Maybe a型\n",
    "\n",
    "```\n",
    "Prelude> :k Maybe\n",
    "Maybe :: * -> *\n",
    "```\n",
    "\n",
    "Functor型クラス\n",
    "\n",
    "```\n",
    "Prelude> :k Functor\n",
    "Functor :: (* -> *) -> Constraint\n",
    "```"
   ]
  },
  {
   "cell_type": "markdown",
   "metadata": {},
   "source": [
    "## 型クラス定義 class where\n",
    "\n",
    "\n",
    "新しい型クラスを定義する構文\n",
    "将来インスタンスになりえるあらゆる型の１つを表している。\n",
    "\n",
    "\n",
    "```\n",
    "class Eq a where\n",
    "    (==) :: a => a -> -> Bool\n",
    "    (/=) :: a => a -> -> Bool\n",
    "    x == y = not (x /= y)\n",
    "    x /= y = not (x == y)\n",
    "```\n",
    "\n",
    "以下の部分は宣言部分。必須。\n",
    "\n",
    "```\n",
    "(==) :: a => a -> -> Bool\n",
    "(/=) :: a => a -> -> Bool\n",
    "```\n",
    "\n",
    "以下の部分は実装部分で、必須ではない。\n",
    "\n",
    "```\n",
    "x == y = not (x /= y)\n",
    "x /= y = not (x == y)\n",
    "```"
   ]
  },
  {
   "cell_type": "markdown",
   "metadata": {},
   "source": [
    "## インスタンス宣言 instance where\n",
    "\n",
    "型を型クラスのインスタンスにする構文\n",
    "インスタンス宣言時には型クラスが定義する関数（メソッド）を<u>**最小完全定義**</u>を満たすように実装する必要がある。\n",
    "\n",
    "クラス定義\n",
    "\n",
    "```\n",
    "class Eq a where\n",
    "```\n",
    "\n",
    "のa部分が実際の型で置換されている。\n",
    "\n",
    "```\n",
    "instance Eq TrafficLight where\n",
    "    Red == Red = True\n",
    "    Green == Green = True\n",
    "    Yellow == Yellow = True\n",
    "    _ == _ = False\n",
    "```\n",
    "\n"
   ]
  },
  {
   "cell_type": "markdown",
   "metadata": {},
   "source": [
    "型クラスとインスタンスのサンプル"
   ]
  },
  {
   "cell_type": "code",
   "execution_count": 1,
   "metadata": {},
   "outputs": [
    {
     "data": {
      "text/plain": [
       "\"Hi, I'm Kenta.\""
      ]
     },
     "metadata": {},
     "output_type": "display_data"
    },
    {
     "data": {
      "text/plain": [
       "\"Bow!\""
      ]
     },
     "metadata": {},
     "output_type": "display_data"
    }
   ],
   "source": [
    "{-# LANGUAGE OverloadedStrings #-}\n",
    "\n",
    "data Dog    = Dog deriving Show\n",
    "data Cat    = Cat deriving Show\n",
    "data Human  = Human String deriving Show\n",
    "\n",
    "\n",
    "class Greeting a where\n",
    "    name    :: a -> String\n",
    "    hello   :: a -> String\n",
    "    hello _ = \"...\" -- helloのデフォルト実装\n",
    "    bye     :: a -> String\n",
    "    bye   _ = \"...\" -- byeのデフォルト実装\n",
    "\n",
    "instance Greeting Human where\n",
    "    name (Human n)  = n\n",
    "    hello h         = \"Hi, I'm \" ++ name h ++ \".\"\n",
    "    bye _           = \"See you.\"\n",
    "\n",
    "instance Greeting Dog where\n",
    "    name _  = \"a dog\"\n",
    "    hello _ = \"Bow!\"\n",
    "\n",
    "instance Greeting Cat where\n",
    "    name _  = \"a cat\"\n",
    "    hello _ = \"Meow...\"\n",
    "\n",
    "hello (Human \"Kenta\")\n",
    "hello Dog"
   ]
  },
  {
   "cell_type": "markdown",
   "metadata": {},
   "source": [
    "# 型\n",
    "\n",
    "ある型クラスのインスタンス。\n",
    "型とは、値の集合についているラベル。\n",
    "\n",
    "以下の3つの構文で型を定義する。"
   ]
  },
  {
   "cell_type": "markdown",
   "metadata": {},
   "source": [
    "## 値\n"
   ]
  },
  {
   "cell_type": "markdown",
   "metadata": {},
   "source": [
    "### 値コンストラクタ\n",
    "\n",
    "引数をとってそのデータ型の値を返す関数。  \n",
    "型コンストラクタ名と値コンストラクタ名は重複が可能なため、値コンストラクタが1つしかないデータ型はデータ型と値コンストラクタを同じ名前にするのが慣例。\n",
    "（下の例ではPoint）\n",
    "\n",
    "```\n",
    "data Point = Point Float Float Float deriving (Show)\n",
    "```\n",
    "\n",
    "\n",
    "型コンストラクタ名と値コンストラクタ名が異なる例\n",
    "\n",
    "```\n",
    "data Employee = NewEmployee Integer Bool String deriving (Show)\n",
    "```\n",
    "\n",
    "\n",
    "型コンストラクタが複数ある場合\n",
    "\n",
    "```\n",
    "data Bool = False | True\n",
    "```\n",
    "\n",
    "```\n",
    "data Shape = Circle Float Float Float | Rectangle Float Float Float Float\n",
    "```\n",
    "\n",
    "```\n",
    "data cmdOption =  COptInt Integer\n",
    "                | COptBool Bool\n",
    "                | COptStr String\n",
    "                deriving (Show)\n",
    "```"
   ]
  },
  {
   "cell_type": "markdown",
   "metadata": {},
   "source": [
    "#### レコード記法\n",
    "\n",
    "値コンストラクタの定義時に各引数に名前をつけることができます。\n",
    "\n",
    "呼び出すときにはフィールドの名前を指定することが可能です。\n",
    "フィールドはただの関数である\n",
    "\n"
   ]
  },
  {
   "cell_type": "code",
   "execution_count": 3,
   "metadata": {},
   "outputs": [
    {
     "data": {
      "text/plain": [
       "27"
      ]
     },
     "metadata": {},
     "output_type": "display_data"
    }
   ],
   "source": [
    "data Employee = NewEmployee {\n",
    "                      age       :: Integer\n",
    "                    , isManager :: Bool\n",
    "                    , name      :: String\n",
    "                } deriving (Show)\n",
    "\n",
    "employee :: Employee\n",
    "employee = NewEmployee {\n",
    "                  name       = \"Kenta Kozuka\"\n",
    "                , age        = 27\n",
    "                , isManager  = False\n",
    "            }\n",
    "\n",
    "-- age :: Employee -> Integer\n",
    "age employee"
   ]
  },
  {
   "cell_type": "markdown",
   "metadata": {},
   "source": [
    "## 型宣言 data\n",
    "\n",
    "新しい型を定義する構文。  \n",
    "既存の型を別の新しい鷹で包む\n",
    "\n",
    "* 複数の値コンストラクタを持つデータ型を作ることができ、各値コンストラクタには0以上の個数のフィールドを持たせることが可能。"
   ]
  },
  {
   "cell_type": "code",
   "execution_count": 4,
   "metadata": {},
   "outputs": [],
   "source": [
    "-- data 型コンストラクタ = 値コンストラクタ フィールドの型1 フィールドの型2 ...\n",
    "\n",
    "data Point = Point Float Float Float deriving (Show)\n",
    "data Bool = False | True"
   ]
  },
  {
   "cell_type": "markdown",
   "metadata": {},
   "source": [
    "## newtype\n",
    "\n",
    "「１つの型を取り、それを何かにくるんで別の型に見せかけたい」という場合に作られたもの。\n",
    "\n",
    "* newtypeはdataよりも高速\n",
    "* 値コンストラクタは1種類しか作れず、フィールドも1つだけ。"
   ]
  },
  {
   "cell_type": "code",
   "execution_count": 7,
   "metadata": {},
   "outputs": [],
   "source": [
    "newtype ZipList a  = ZipList {\n",
    "                        getZipList :: [a]\n",
    "                    }"
   ]
  },
  {
   "cell_type": "markdown",
   "metadata": {},
   "source": [
    "deriving も使用可能"
   ]
  },
  {
   "cell_type": "code",
   "execution_count": 6,
   "metadata": {},
   "outputs": [
    {
     "data": {
      "text/html": [
       "<style>/* Styles used for the Hoogle display in the pager */\n",
       ".hoogle-doc {\n",
       "display: block;\n",
       "padding-bottom: 1.3em;\n",
       "padding-left: 0.4em;\n",
       "}\n",
       ".hoogle-code {\n",
       "display: block;\n",
       "font-family: monospace;\n",
       "white-space: pre;\n",
       "}\n",
       ".hoogle-text {\n",
       "display: block;\n",
       "}\n",
       ".hoogle-name {\n",
       "color: green;\n",
       "font-weight: bold;\n",
       "}\n",
       ".hoogle-head {\n",
       "font-weight: bold;\n",
       "}\n",
       ".hoogle-sub {\n",
       "display: block;\n",
       "margin-left: 0.4em;\n",
       "}\n",
       ".hoogle-package {\n",
       "font-weight: bold;\n",
       "font-style: italic;\n",
       "}\n",
       ".hoogle-module {\n",
       "font-weight: bold;\n",
       "}\n",
       ".hoogle-class {\n",
       "font-weight: bold;\n",
       "}\n",
       ".get-type {\n",
       "color: green;\n",
       "font-weight: bold;\n",
       "font-family: monospace;\n",
       "display: block;\n",
       "white-space: pre-wrap;\n",
       "}\n",
       ".show-type {\n",
       "color: green;\n",
       "font-weight: bold;\n",
       "font-family: monospace;\n",
       "margin-left: 1em;\n",
       "}\n",
       ".mono {\n",
       "font-family: monospace;\n",
       "display: block;\n",
       "}\n",
       ".err-msg {\n",
       "color: red;\n",
       "font-style: italic;\n",
       "font-family: monospace;\n",
       "white-space: pre;\n",
       "display: block;\n",
       "}\n",
       "#unshowable {\n",
       "color: red;\n",
       "font-weight: bold;\n",
       "}\n",
       ".err-msg.in.collapse {\n",
       "padding-top: 0.7em;\n",
       "}\n",
       ".highlight-code {\n",
       "white-space: pre;\n",
       "font-family: monospace;\n",
       "}\n",
       ".suggestion-warning { \n",
       "font-weight: bold;\n",
       "color: rgb(200, 130, 0);\n",
       "}\n",
       ".suggestion-error { \n",
       "font-weight: bold;\n",
       "color: red;\n",
       "}\n",
       ".suggestion-name {\n",
       "font-weight: bold;\n",
       "}\n",
       "</style><div class=\"suggestion-name\" style=\"clear:both;\">Use String</div><div class=\"suggestion-row\" style=\"float: left;\"><div class=\"suggestion-warning\">Found:</div><div class=\"highlight-code\" id=\"haskell\">[Char]</div></div><div class=\"suggestion-row\" style=\"float: left;\"><div class=\"suggestion-warning\">Why Not:</div><div class=\"highlight-code\" id=\"haskell\">String</div></div>"
      ],
      "text/plain": [
       "Line 2: Use String\n",
       "Found:\n",
       "[Char]\n",
       "Why not:\n",
       "String"
      ]
     },
     "metadata": {},
     "output_type": "display_data"
    }
   ],
   "source": [
    "newtype CharList = CharList {\n",
    "                        getCharList :: [Char]\n",
    "                    } deriving (Eq, Show)"
   ]
  },
  {
   "cell_type": "markdown",
   "metadata": {},
   "source": [
    "例）  \n",
    "タプルをFunctorのインスタンスにして、fmapをタプルの第一要素を変更するようにしたい。"
   ]
  },
  {
   "cell_type": "code",
   "execution_count": 5,
   "metadata": {},
   "outputs": [
    {
     "data": {
      "text/plain": [
       "(200,3)"
      ]
     },
     "metadata": {},
     "output_type": "display_data"
    }
   ],
   "source": [
    "newtype Pair b a = Pair { getPair :: (a, b) }\n",
    "\n",
    "instance Functor (Pair c) where\n",
    "    fmap f (Pair (x, y)) = Pair (f x, y)\n",
    "\n",
    "getPair $ fmap (*100) (Pair (2, 3))"
   ]
  },
  {
   "cell_type": "markdown",
   "metadata": {},
   "source": [
    "## 型シノニム type\n",
    "```\n",
    "newtype Pair b a = Pair { getPair :: (a, b) }\n",
    "\n",
    "instance Functor (Pair c) where\n",
    "    fmap f (Pair (x, y)) = Pair (f x, y)\n",
    "```\n",
    "\n",
    "```\n",
    "Prelude> getPair $ fmap (*100) (Pair (2, 3))\n",
    "(200, 3)\n",
    "```\n",
    "\n",
    "ある型に別の名前を与えて、コードドキュメントを他の人が読みやすくする。\n",
    "\n",
    "```\n",
    "type String = [Char]\n",
    "```"
   ]
  },
  {
   "cell_type": "markdown",
   "metadata": {},
   "source": [
    "## 型コンストラクタ\n",
    "\n",
    "型製造機\n",
    "0個以上の具体型を受け取り、実際の値に割り当て可能な具体型を生成する。\n",
    "型コンストラクタの引数は**型引数**と呼ばれる。\n",
    "\n",
    "* 部分適用ができる\n",
    "* 型コンストラクタはすべての引数を埋めて初めて新しい何かしらの値の型になる。\n",
    "* （関数が値を引数にとって値を生み出すように）いずれは具体型になる\n",
    "* だから、型クラスのインスタンスの型引数として、ある型を加工（部分適用）することができる。\n",
    "\n",
    "```\n",
    "data Maybe a = Nothing | Just a\n",
    "```\n",
    "\n",
    "上記の例でいえば、Maybeが型コンストラクタで、\n",
    "Just aが値コンストラクタ。\n",
    "この型コンストラクタからMaybe Int, Maybe Car, Maybe Stringなどの型を作れる。\n",
    "単なるMaybeという型の値は存在できない。なぜならMaybeは型コンストラクタであって、型ではない。\n",
    "\n",
    "型コンストラクタが部分適用されている様子\n",
    "\n",
    "```\n",
    ">>> :kind Either\n",
    "Either :: * -> * -> *\n",
    ">>> :kind Either Int\n",
    "Either Int :: * -> *\n",
    ">>> :kind Either Int String\n",
    "Either Int String :: *\n",
    "```\n",
    "\n",
    "他の例として、 Functor 型クラスを見てみると、この型クラスのインスタンスになるためには、* -> * の種類の型コンストラクタでなくてはならないことがわかる。\n",
    "Functorクラス宣言\n",
    "\n",
    "```\n",
    "class Functor f where\n",
    "    fmap :: (a -> b) -> f a -> f b\n",
    " ```\n",
    "\n",
    "ここで、 f a は関数の型宣言にて値の型として使われていることから具体型でなくてはならない。\n",
    "つまり、f は型引数を一つとることで具体型となる型コンストラクタであることがわかる。\n",
    "\n",
    "\n",
    "型クラス\n",
    "\n",
    "```\n",
    "Prelude> :info Num\n",
    "class Num a where\n",
    "  (+) :: a -> a -> a\n",
    "  (-) :: a -> a -> a\n",
    "  (*) :: a -> a -> a\n",
    "  negate :: a -> a\n",
    "  abs :: a -> a\n",
    "  signum :: a -> a\n",
    "  fromInteger :: Integer -> a\n",
    "  {-# MINIMAL (+), (*), abs, signum, fromInteger, (negate | (-)) #-}\n",
    "  \t-- Defined in ‘GHC.Num’\n",
    "instance Num Word -- Defined in ‘GHC.Num’\n",
    "instance Num Integer -- Defined in ‘GHC.Num’\n",
    "instance Num Int -- Defined in ‘GHC.Num’\n",
    "instance Num Float -- Defined in ‘GHC.Float’\n",
    "instance Num Double -- Defined in ‘GHC.Float’\n",
    "```"
   ]
  },
  {
   "cell_type": "markdown",
   "metadata": {},
   "source": [
    "## 種類\n",
    "\n",
    "型の集合についているラベルのようなもの。\n",
    "\n",
    "|種類|意味|例|\n",
    "|---|---|---|\n",
    "|*|具体型。具体型の型コンストラクタは型引数を取らない。値に付けられる型。|Int|\n",
    "|* -> *|一つの具体型をとって具体型を返す型コンストラクタ|Maybe|\n",
    "|* -> * -> *|二つの具体型をとって具体型を返す型コンストラクタ|Either|"
   ]
  },
  {
   "cell_type": "markdown",
   "metadata": {},
   "source": [
    "### 具体型\n",
    "\n",
    "型引数を取らない型の集合\n",
    "値につけられる型は具体型だけ\n",
    "\n",
    "* Int, Bool\n",
    "\n",
    "data Bool = False | True"
   ]
  },
  {
   "cell_type": "markdown",
   "metadata": {},
   "source": [
    "* Maybe Char や Maybe Bool"
   ]
  },
  {
   "cell_type": "code",
   "execution_count": 11,
   "metadata": {},
   "outputs": [
    {
     "data": {
      "text/html": [
       "<style>/* Styles used for the Hoogle display in the pager */\n",
       ".hoogle-doc {\n",
       "display: block;\n",
       "padding-bottom: 1.3em;\n",
       "padding-left: 0.4em;\n",
       "}\n",
       ".hoogle-code {\n",
       "display: block;\n",
       "font-family: monospace;\n",
       "white-space: pre;\n",
       "}\n",
       ".hoogle-text {\n",
       "display: block;\n",
       "}\n",
       ".hoogle-name {\n",
       "color: green;\n",
       "font-weight: bold;\n",
       "}\n",
       ".hoogle-head {\n",
       "font-weight: bold;\n",
       "}\n",
       ".hoogle-sub {\n",
       "display: block;\n",
       "margin-left: 0.4em;\n",
       "}\n",
       ".hoogle-package {\n",
       "font-weight: bold;\n",
       "font-style: italic;\n",
       "}\n",
       ".hoogle-module {\n",
       "font-weight: bold;\n",
       "}\n",
       ".hoogle-class {\n",
       "font-weight: bold;\n",
       "}\n",
       ".get-type {\n",
       "color: green;\n",
       "font-weight: bold;\n",
       "font-family: monospace;\n",
       "display: block;\n",
       "white-space: pre-wrap;\n",
       "}\n",
       ".show-type {\n",
       "color: green;\n",
       "font-weight: bold;\n",
       "font-family: monospace;\n",
       "margin-left: 1em;\n",
       "}\n",
       ".mono {\n",
       "font-family: monospace;\n",
       "display: block;\n",
       "}\n",
       ".err-msg {\n",
       "color: red;\n",
       "font-style: italic;\n",
       "font-family: monospace;\n",
       "white-space: pre;\n",
       "display: block;\n",
       "}\n",
       "#unshowable {\n",
       "color: red;\n",
       "font-weight: bold;\n",
       "}\n",
       ".err-msg.in.collapse {\n",
       "padding-top: 0.7em;\n",
       "}\n",
       ".highlight-code {\n",
       "white-space: pre;\n",
       "font-family: monospace;\n",
       "}\n",
       ".suggestion-warning { \n",
       "font-weight: bold;\n",
       "color: rgb(200, 130, 0);\n",
       "}\n",
       ".suggestion-error { \n",
       "font-weight: bold;\n",
       "color: red;\n",
       "}\n",
       ".suggestion-name {\n",
       "font-weight: bold;\n",
       "}\n",
       "</style><span class='get-type'>Just \"hey\" :: Maybe [Char]</span>"
      ],
      "text/plain": [
       "Just \"hey\" :: Maybe [Char]"
      ]
     },
     "metadata": {},
     "output_type": "display_data"
    }
   ],
   "source": [
    ":t Just \"hey\""
   ]
  },
  {
   "cell_type": "code",
   "execution_count": 10,
   "metadata": {},
   "outputs": [
    {
     "data": {
      "text/html": [
       "<style>/* Styles used for the Hoogle display in the pager */\n",
       ".hoogle-doc {\n",
       "display: block;\n",
       "padding-bottom: 1.3em;\n",
       "padding-left: 0.4em;\n",
       "}\n",
       ".hoogle-code {\n",
       "display: block;\n",
       "font-family: monospace;\n",
       "white-space: pre;\n",
       "}\n",
       ".hoogle-text {\n",
       "display: block;\n",
       "}\n",
       ".hoogle-name {\n",
       "color: green;\n",
       "font-weight: bold;\n",
       "}\n",
       ".hoogle-head {\n",
       "font-weight: bold;\n",
       "}\n",
       ".hoogle-sub {\n",
       "display: block;\n",
       "margin-left: 0.4em;\n",
       "}\n",
       ".hoogle-package {\n",
       "font-weight: bold;\n",
       "font-style: italic;\n",
       "}\n",
       ".hoogle-module {\n",
       "font-weight: bold;\n",
       "}\n",
       ".hoogle-class {\n",
       "font-weight: bold;\n",
       "}\n",
       ".get-type {\n",
       "color: green;\n",
       "font-weight: bold;\n",
       "font-family: monospace;\n",
       "display: block;\n",
       "white-space: pre-wrap;\n",
       "}\n",
       ".show-type {\n",
       "color: green;\n",
       "font-weight: bold;\n",
       "font-family: monospace;\n",
       "margin-left: 1em;\n",
       "}\n",
       ".mono {\n",
       "font-family: monospace;\n",
       "display: block;\n",
       "}\n",
       ".err-msg {\n",
       "color: red;\n",
       "font-style: italic;\n",
       "font-family: monospace;\n",
       "white-space: pre;\n",
       "display: block;\n",
       "}\n",
       "#unshowable {\n",
       "color: red;\n",
       "font-weight: bold;\n",
       "}\n",
       ".err-msg.in.collapse {\n",
       "padding-top: 0.7em;\n",
       "}\n",
       ".highlight-code {\n",
       "white-space: pre;\n",
       "font-family: monospace;\n",
       "}\n",
       ".suggestion-warning { \n",
       "font-weight: bold;\n",
       "color: rgb(200, 130, 0);\n",
       "}\n",
       ".suggestion-error { \n",
       "font-weight: bold;\n",
       "color: red;\n",
       "}\n",
       ".suggestion-name {\n",
       "font-weight: bold;\n",
       "}\n",
       "</style><span class='get-type'>Just True :: Maybe Bool</span>"
      ],
      "text/plain": [
       "Just True :: Maybe Bool"
      ]
     },
     "metadata": {},
     "output_type": "display_data"
    }
   ],
   "source": [
    ":t Just True"
   ]
  },
  {
   "cell_type": "markdown",
   "metadata": {},
   "source": [
    "## 型宣言\n",
    "\n",
    "関数の型を明示的に与えること。\n",
    "\n",
    "```\n",
    "addTree :: Int -> Int -> Int -> Int\n",
    "```"
   ]
  },
  {
   "cell_type": "markdown",
   "metadata": {},
   "source": [
    "## 型変数\n",
    "\n",
    "型安全を保ったまま、関数を複数の型に対して動作できるようにする。\n",
    "以下のa"
   ]
  },
  {
   "cell_type": "code",
   "execution_count": 12,
   "metadata": {},
   "outputs": [
    {
     "data": {
      "text/html": [
       "<style>/* Styles used for the Hoogle display in the pager */\n",
       ".hoogle-doc {\n",
       "display: block;\n",
       "padding-bottom: 1.3em;\n",
       "padding-left: 0.4em;\n",
       "}\n",
       ".hoogle-code {\n",
       "display: block;\n",
       "font-family: monospace;\n",
       "white-space: pre;\n",
       "}\n",
       ".hoogle-text {\n",
       "display: block;\n",
       "}\n",
       ".hoogle-name {\n",
       "color: green;\n",
       "font-weight: bold;\n",
       "}\n",
       ".hoogle-head {\n",
       "font-weight: bold;\n",
       "}\n",
       ".hoogle-sub {\n",
       "display: block;\n",
       "margin-left: 0.4em;\n",
       "}\n",
       ".hoogle-package {\n",
       "font-weight: bold;\n",
       "font-style: italic;\n",
       "}\n",
       ".hoogle-module {\n",
       "font-weight: bold;\n",
       "}\n",
       ".hoogle-class {\n",
       "font-weight: bold;\n",
       "}\n",
       ".get-type {\n",
       "color: green;\n",
       "font-weight: bold;\n",
       "font-family: monospace;\n",
       "display: block;\n",
       "white-space: pre-wrap;\n",
       "}\n",
       ".show-type {\n",
       "color: green;\n",
       "font-weight: bold;\n",
       "font-family: monospace;\n",
       "margin-left: 1em;\n",
       "}\n",
       ".mono {\n",
       "font-family: monospace;\n",
       "display: block;\n",
       "}\n",
       ".err-msg {\n",
       "color: red;\n",
       "font-style: italic;\n",
       "font-family: monospace;\n",
       "white-space: pre;\n",
       "display: block;\n",
       "}\n",
       "#unshowable {\n",
       "color: red;\n",
       "font-weight: bold;\n",
       "}\n",
       ".err-msg.in.collapse {\n",
       "padding-top: 0.7em;\n",
       "}\n",
       ".highlight-code {\n",
       "white-space: pre;\n",
       "font-family: monospace;\n",
       "}\n",
       ".suggestion-warning { \n",
       "font-weight: bold;\n",
       "color: rgb(200, 130, 0);\n",
       "}\n",
       ".suggestion-error { \n",
       "font-weight: bold;\n",
       "color: red;\n",
       "}\n",
       ".suggestion-name {\n",
       "font-weight: bold;\n",
       "}\n",
       "</style><span class='get-type'>head :: forall a. [a] -> a</span>"
      ],
      "text/plain": [
       "head :: forall a. [a] -> a"
      ]
     },
     "metadata": {},
     "output_type": "display_data"
    }
   ],
   "source": [
    ":t head"
   ]
  },
  {
   "cell_type": "markdown",
   "metadata": {},
   "source": [
    "## 型シグネチャ\n",
    "\n",
    "型を表す文字列のこと。\n",
    "例えば、\n",
    "```\n",
    "quicksort :: (Ord a) => [a] -> [a]\n",
    "```\n",
    "の::以降\n",
    "Haskellでは::の右側は型の世界。\n"
   ]
  },
  {
   "cell_type": "markdown",
   "metadata": {},
   "source": [
    "## 型クラス制約\n",
    "\n",
    "型シグネチャ宣言において型変数に与える制約。\n",
    "=> の左辺\n",
    "文脈 (context) とも呼ばれる。\n",
    "上記の例では、「等値性関数は、同じ型の任意の2つの引数を取り、Boolを返す。<u>引数の2つの値の型はEqクラスのインスタンスでなければならない</u>」\n",
    "\n",
    "```\n",
    "(==) :: (Eq a) => a -> a -> Bool\n",
    "```"
   ]
  },
  {
   "cell_type": "markdown",
   "metadata": {},
   "source": [
    "## 型注釈\n",
    "\n",
    "式が取るべき型をHaskellに明示的に教えてあげる手段。\n",
    "式の終わりに\n",
    "\n",
    ">::\n",
    "\n",
    "を追記し、それから型を指定します。"
   ]
  },
  {
   "cell_type": "code",
   "execution_count": 13,
   "metadata": {},
   "outputs": [
    {
     "data": {
      "text/plain": [
       "5"
      ]
     },
     "metadata": {},
     "output_type": "display_data"
    }
   ],
   "source": [
    "read \"5\" :: Int"
   ]
  },
  {
   "cell_type": "code",
   "execution_count": 14,
   "metadata": {},
   "outputs": [
    {
     "data": {
      "text/plain": [
       "5.0"
      ]
     },
     "metadata": {},
     "output_type": "display_data"
    }
   ],
   "source": [
    "read \"5\" :: Float"
   ]
  },
  {
   "cell_type": "markdown",
   "metadata": {},
   "source": [
    "# パターンマッチ\n",
    "\n",
    "ある種のデータが従うべきパターンを指定し、そのパターンに従ってデータを分解するために使用する。\n",
    "\n",
    "```\n",
    "lucky :: Int -> String\n",
    "lucky 7 = \"Lucky Number Seven!\"\n",
    "lucky x = \"Sorry, you're out of luck, pal!\"\n",
    "```"
   ]
  },
  {
   "cell_type": "markdown",
   "metadata": {},
   "source": [
    "# ポイントフリースタイル\n",
    "\n",
    "```\n",
    "sum' :: (Num a) => [a] -> a\n",
    "sum' xs = foldl (+) 0 xs\n",
    "```\n",
    "をポイントフリースタイルで書くと\n",
    "\n",
    "```\n",
    "sum' :: (Num a) => [a] -> a\n",
    "sum' = foldl (+) 0\n",
    "```\n",
    "となる。\n",
    "関数の定義を書いていると考えればよい。\n",
    "\n",
    "*ポイントとは\n",
    "```\n",
    "fn x = f (g x)\n",
    "```\n",
    "のような関数定義に登場する一時変数xのことです。このポイントを使わないで関数を定義するスタイルなので、ポイントフリースタイル。"
   ]
  },
  {
   "cell_type": "markdown",
   "metadata": {},
   "source": [
    "# レコード構文\n",
    "\n",
    "# 多相型\n",
    "\n",
    "型変数を用いた関数は多相的関数\n",
    "\n",
    "# either\n",
    "# ioアクション\n",
    "# do\n",
    "# deriving\n",
    "# 持ち上げ lifting\n",
    "\n",
    "# Monoid モノイド\n",
    "\n",
    "# as\n",
    "# ガード\n",
    "# where\n",
    "# let\n",
    "# セクション\n",
    "# $\n",
    "# 関数合成\n",
    "\n",
    "# ファンクタ、アプリカティブ・ファンクタ、モナド\n",
    "\n",
    "* functorは Functor 型クラスを実装したデータ型。\n",
    "* applicativeは Applicative 型クラスを実装したデータ型。\n",
    "* モナドは Monad 型クラスを実装したデータ型。\n",
    "\n",
    "Maybe はこの3つをすべて実装しており、functorでありapplicativeでありモナドでもある。\n",
    "\n",
    "この3つの違いは何か?\n",
    "\n",
    "<img src=\"https://camo.qiitausercontent.com/39a9d575095ac6384bde8cf4a6419b62b7bb498b/68747470733a2f2f71696974612d696d6167652d73746f72652e73332e616d617a6f6e6177732e636f6d2f302f3838392f38656461363532662d313839662d326432322d636133662d6363393065366537373337642e706e67\" style=\"width:800px\" height=\"300px\" />\n",
    "\n",
    "\n",
    "\n",
    "* functor: fmap や <$> を使って、箱の中の値に関数を適用できる\n",
    "* applicative: liftA や <*> を使って、箱のなかの関数を箱の中の値に適用できる\n",
    "* モナド: liftM や >>= を使って、箱に入った値を返す関数を箱の中の値に適用できる\n",
    "\n"
   ]
  },
  {
   "cell_type": "markdown",
   "metadata": {},
   "source": [
    "# 複雑系モナド\n",
    "\n",
    "## Stetaモナドなしの場合"
   ]
  },
  {
   "cell_type": "code",
   "execution_count": 19,
   "metadata": {},
   "outputs": [
    {
     "data": {
      "text/plain": [
       "(3,[4,5])"
      ]
     },
     "metadata": {},
     "output_type": "display_data"
    }
   ],
   "source": [
    "add = calc (+)\n",
    "sub = calc (-)\n",
    "mul = calc (*)\n",
    "cdiv = calc div\n",
    "\n",
    "\n",
    "bind :: (Stack -> (Integer, Stack)) -> (Integer -> (Stack -> (Integer, Stack))) -> (Stack -> (Integer, Stack))\n",
    "bind opstack1 opstack2 = \n",
    "    \\s -> let (i1, s1) = opstack1 s\n",
    "    in (opstack2 i1) s1\n",
    "\n",
    "poppp :: Stack -> (Integer, Stack)\n",
    "poppp = pop `bind` \\_ -> pop `bind` \\_ -> pop\n",
    "\n",
    "pushshop :: Stack -> (Integer, Stack)\n",
    "pushshop = (push 1) `bind` \\_ -> (push 2) `bind` \\_ -> pop\n",
    "\n",
    "calc :: (Integer -> Integer -> Integer) -> Stack -> (Integer, Stack)\n",
    "calc op = pop `bind` \\i1 -> pop `bind` \\i2 -> push (op i1 i2)\n",
    "\n",
    "type Stack = [Integer]\n",
    "\n",
    "push :: Integer -> Stack -> (Integer, Stack)\n",
    "push c cs = (c, c:cs)\n",
    "\n",
    "pop :: Stack -> (Integer, Stack)\n",
    "pop (c:cs) = (c, cs)\n",
    "\n",
    "-- run\n",
    "let stack = [1..5]\n",
    "-- this should be (3, [4, 5])\n",
    "poppp stack"
   ]
  },
  {
   "cell_type": "markdown",
   "metadata": {},
   "source": [
    "## Stateモナドを使った場合\n",
    "\n",
    "bindは>>=と同じ働き\n",
    "\n",
    "```\n",
    "Monad.State 型クラス\n",
    "    get = state $ \\s -> (s, s) -- 現在の状態を取ってくる\n",
    "    -- 状態型の引数を取り、「その状態を現在の状態に上書きする状態付き関数」を返す\n",
    "    put newsState = state $ \\s -> ((), newState)\n",
    "```"
   ]
  },
  {
   "cell_type": "code",
   "execution_count": 28,
   "metadata": {},
   "outputs": [
    {
     "data": {
      "text/plain": [
       "(3,[4,5])"
      ]
     },
     "metadata": {},
     "output_type": "display_data"
    }
   ],
   "source": [
    "import Control.Monad.State\n",
    "\n",
    "add = calc (+)\n",
    "sub = calc (-)\n",
    "mul = calc (*)\n",
    "cdiv = calc div\n",
    "\n",
    "type Op = State [Integer] Integer\n",
    "\n",
    "--  push c = do\n",
    "--      cs <- get\n",
    "--      put (c:cs)\n",
    "--      return c\n",
    "push :: Integer -> Op\n",
    "push c = get >>= \\cs -> put (c:cs) >>= \\_ -> return c\n",
    "\n",
    "--  pop = do\n",
    "--      cs <- get\n",
    "--      put (tail cs)\n",
    "--      return\n",
    "--  \n",
    "pop :: Op\n",
    "pop = get >>= \\cs -> put (tail cs) >>= \\_ -> return (head cs)\n",
    "\n",
    "--  calc op = do\n",
    "--      i1 <- pop\n",
    "--      i2 <- pop\n",
    "--      push (op i1 i2)\n",
    "calc :: (Integer -> Integer -> Integer) -> Op\n",
    "calc op = pop >>= \\i1 -> pop >>= \\i2 -> push (op i1 i2)\n",
    "\n",
    "--  poppp = do pop;pop;pop\n",
    "poppp :: Op\n",
    "poppp = pop >>= \\_ -> pop >>= \\_ -> pop\n",
    "\n",
    "--  pushshop = do push 1; push 2; pop\n",
    "pushshop :: Op\n",
    "pushshop = (push 1) >>= \\_ -> (push 2) >>= \\_ -> pop\n",
    "\n",
    "runState poppp [1..5]"
   ]
  }
 ],
 "metadata": {
  "kernelspec": {
   "display_name": "Haskell",
   "language": "haskell",
   "name": "haskell"
  },
  "language_info": {
   "codemirror_mode": "ihaskell",
   "file_extension": ".hs",
   "name": "haskell",
   "version": "8.0.2"
  },
  "toc": {
   "nav_menu": {},
   "number_sections": true,
   "sideBar": true,
   "skip_h1_title": false,
   "toc_cell": false,
   "toc_position": {},
   "toc_section_display": "block",
   "toc_window_display": true
  }
 },
 "nbformat": 4,
 "nbformat_minor": 2
}
