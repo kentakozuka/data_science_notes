{
 "cells": [
  {
   "cell_type": "markdown",
   "metadata": {},
   "source": [
    "# 数学用語\n",
    "\n",
    "* 定義　――　Definition  \n",
    "ある概念の内容やある言葉の意味を他の概念や言葉と区別できるように明確い限定すること。またその限定  \n",
    "\n",
    "\n",
    "* 公理　――　Axiom  \n",
    "数学の理論体系で定理を証明する前提として仮定するいくつかの事柄。ある体系の基盤となる決めごと。疑ってはいけない。\n",
    "\n",
    "\n",
    "* 命題　――　Proposition  \n",
    "判断を言語的に表現したもの。論理学では真偽を問いうる有意義な文をさす。\n",
    "\n",
    "\n",
    "* 証明　――　Proof  \n",
    "真であると前提されるいくつかの命題・公理を用いて、ある命題（定理）が真であることを論理的手続きによって導くこと。\n",
    "\n",
    "\n",
    "* 定理　――　Theorem  \n",
    "公理に基づき、論証によって証明された命題。定義と公理を使って証明される。\n",
    "\n",
    "\n",
    "* 補助定理（補題）　――　Lemma  \n",
    "主要な定理を証明するために準備として証明され、使われる定理。\n",
    "\n",
    "\n",
    "* 系　――　Corollary  \n",
    "一つの定理から派生的に導かれる命題。"
   ]
  },
  {
   "cell_type": "markdown",
   "metadata": {},
   "source": [
    "# 圏論とHaskell\n",
    "\n",
    "|圏論|Haskell|\n",
    "|---|---|\n",
    "|対象（オブジェクト）|型|\n",
    "|射|関数|"
   ]
  },
  {
   "cell_type": "markdown",
   "metadata": {},
   "source": [
    "# 圏論　――　Category Theory\n",
    "\n",
    "## 定義　――　Definition\n",
    "* 対象 (object) の集まり $ ob(\\mathcal{A}) $\n",
    "\n",
    "\n",
    "* 各$A, B \\in ob(\\mathcal{A})$について、AからBへの射（morphism）または、矢印（arrow）の集まり。\n",
    "\n",
    "\n",
    "* 各$A, B, C \\in ob(\\mathcal{A})$について、合成（composition）と呼ばれる関数\n",
    "\n",
    "\n",
    "$$ \\mathcal{A}(B,C) \\times \\mathcal{A}(A,B) \\rightarrow \\mathcal{A}(A,C)$$\n",
    "$$ (g, f) \\rightarrow g \\circ f$$\n",
    "\n",
    "\n",
    "* 各$A \\in ob(\\mathcal{A})$について、A上の恒等射（identity）と呼ばれる$\\mathcal{A}(A,A)$の元$1_{A}$"
   ]
  },
  {
   "cell_type": "markdown",
   "metadata": {},
   "source": [
    "## 公理　――　Axiom\n",
    "\n",
    "* 結合法則\n",
    "任意の$f \\in \\mathcal{a}(A,B), g \\in \\mathcal{A}(B,C), h \\in \\mathcal{A}(C,D)$について以下が成り立つ。\n",
    "\n",
    "$$ (h \\circ g) \\circ f = h \\circ ( g \\circ f ) $$\n",
    "\n",
    "* 単位法則\n",
    "任意の$ f \\in \\mathcal{A}(A,B)$について以下が成り立つ\n",
    "\n",
    "$$ f \\circ 1_{A} = f = 1_{B} \\circ f $$\n"
   ]
  },
  {
   "cell_type": "markdown",
   "metadata": {},
   "source": [
    "同型写像　――　Isomorphism\n",
    "monomorphism\n",
    "\n",
    "単射　――　Injective Function\n",
    "one to one\n",
    "\n",
    "$$ \\forall x, y, \\hspace{15px} x \\neq y, \\hspace{15px} fx \\neq fy $$\n",
    "\n",
    "全射　――　Surjective Function\n",
    "epimorphism\n",
    "onto\n",
    "\n",
    "$$ \\forall y \\in Y, \\hspace{15px} \\exists x \\in X, \\hspace{15px} f(x) = y $$"
   ]
  },
  {
   "cell_type": "markdown",
   "metadata": {},
   "source": [
    "epimorphism\n",
    "\n",
    "$$ \\forall c, \\hspace{15px} \\forall g_{1}, g_{2} :: \\mathcal{B} \\rightarrow \\mathcal{C}, \\hspace{15px} g_{1} \\circ f = g_{2} \\circ f $$\n",
    "$$ \\Rightarrow g_{1} = g_{2} $$"
   ]
  },
  {
   "cell_type": "markdown",
   "metadata": {},
   "source": [
    "monomorphism\n",
    "\n",
    "$$ \\forall c, \\hspace{15px} \\forall g_{1}, g_{2} :: \\mathcal{C} \\rightarrow \\mathcal{A} $$\n",
    "$$ f \\circ g_{1} = f \\circ g_{2} \\Rightarrow g_{1} = g_{2} $$"
   ]
  },
  {
   "cell_type": "markdown",
   "metadata": {},
   "source": [
    "<img src=\"./image/001.png\" height=\"150px\" />"
   ]
  },
  {
   "cell_type": "markdown",
   "metadata": {},
   "source": [
    "型のはなし\n",
    "\n",
    "Void <--> False\n",
    "\n",
    "absurb :: Void -> a  \n",
    "idvoid :: Void -> Void  \n",
    "\n",
    "Unit () : () <--> True  \n",
    "unit :: a -> ()  \n",
    "one :: () -> a  \n"
   ]
  },
  {
   "cell_type": "markdown",
   "metadata": {},
   "source": [
    "Monoid\n",
    "\n",
    "associativity\n",
    "\n",
    "$$ \\exists e, \\forall a, e \\times a = a \\times e = a $$"
   ]
  },
  {
   "cell_type": "markdown",
   "metadata": {},
   "source": [
    "4.1 Kleisli Category\n",
    "\n"
   ]
  },
  {
   "cell_type": "markdown",
   "metadata": {},
   "source": [
    "<img src=\"./image/002.png\" height=\"150px\" />"
   ]
  },
  {
   "cell_type": "markdown",
   "metadata": {},
   "source": [
    "a -> ma (a, string)\n",
    "\n",
    "↑モナド\n",
    "\n",
    "initial object\n",
    "terminal object\n",
    "\n",
    "$$ \\forall a, \\exists f :: a \\rightarrow () $$\n",
    "$$ \\forall a \\rightarrow (), g :: a \\rightarrow () \\Rightarrow f = g $$"
   ]
  },
  {
   "cell_type": "markdown",
   "metadata": {},
   "source": [
    "4.2\n",
    "\n",
    "直積　――　Cartesian Product\n",
    "\n"
   ]
  },
  {
   "cell_type": "markdown",
   "metadata": {},
   "source": [
    "<img src=\"./image/003.png\" height=\"150px\" />"
   ]
  },
  {
   "cell_type": "markdown",
   "metadata": {},
   "source": [
    "$$ p \\circ m = p' $$\n",
    "$$ q \\circ m = q' $$\n",
    "$$ m :: c' \\rightarrow c $$"
   ]
  },
  {
   "cell_type": "markdown",
   "metadata": {},
   "source": [
    "5.1 Coproduct, Sum types\n",
    "\n",
    "injections 入ってくる射\n",
    "projections 出ていく射\n",
    "\n",
    "余積　co-product\n",
    "an object with a pair of injections morphisms going into it such that for any other objects, supply with two injectives, there is a unique morphism from c to c'\n",
    "\n",
    "e.g."
   ]
  },
  {
   "cell_type": "code",
   "execution_count": null,
   "metadata": {},
   "outputs": [],
   "source": [
    "data Either ab = Left a | Right b\n",
    "    x :: Either Int Bool\n",
    "    f :: Either Int Bool -> Bool\n",
    "    f(Left i) = i > 0\n",
    "    f(Right b) = b"
   ]
  },
  {
   "cell_type": "markdown",
   "metadata": {},
   "source": [
    "<img src=\"./image/003.png\" height=\"150px\" />"
   ]
  },
  {
   "cell_type": "markdown",
   "metadata": {},
   "source": [
    "$$ i' = m \\circ i $$\n",
    "$$ j' = m \\circ j $$"
   ]
  },
  {
   "cell_type": "markdown",
   "metadata": {},
   "source": [
    "5.2 代数データ型　――　Algebraic data type\n",
    "\n",
    "なぜ代数と呼ばれるのか  \n",
    "⇛　型の計算だから\n",
    "\n",
    "\n",
    "isomorphic\n",
    "\n",
    "$ a \\times b = b \\times a $\n",
    "\n",
    "(a, b) ~ (b, a)  \n",
    "swap :: (a, b) -> (b, a)  \n",
    "swap p = (snd p, fst p)  \n",
    "\n",
    "$ (a \\times b) \\times c = a \\times (b \\times c) $\n",
    "\n",
    "((a, b), c) ~ (a, (b, c))   \n",
    "asoc ((a, b), c) = (a, (b, c))  \n",
    "\n",
    "$ a \\times 1 = a $\n",
    "\n",
    "munit = fst  \n",
    "munit_inv x = (x, ())  \n",
    "\n",
    "Either ab ~ Either b a\n",
    "data Triple a b c = Left a\n",
    "                    | Right c\n",
    "                    | Middle b\n",
    "\n",
    "$ a + 0 = a $\n",
    "Either a Void ~ a\n",
    "\n",
    "$ a \\times 0 = 0 $\n",
    "(a, Void) ~ Void\n",
    "\n",
    "$ a \\times (b + c) = a \\times b + a \\times c $\n",
    "(a, Either b c) ~ Either (a, b) (a, c)\n",
    "\n",
    "\n",
    "$ l(a) = 1 + a \\times l(a) $  \n",
    "$ l(a) - a \\times l(a) = 1 $  \n",
    "$ l(a)(1-a) = 1 $  \n",
    "$ l(a) = \\frac{1}{1-a} = \\sum_{n=0}^{\\infty} = 1 + a + a \\times a + a \\times a \\times a + \\cdots $  "
   ]
  },
  {
   "cell_type": "markdown",
   "metadata": {},
   "source": [
    "6.1 Functors"
   ]
  },
  {
   "cell_type": "markdown",
   "metadata": {},
   "source": [
    "<img src=\"./image/005.png\" height=\"150px\" />"
   ]
  },
  {
   "cell_type": "markdown",
   "metadata": {},
   "source": [
    "離散カテゴリ　――　Discrete category\n",
    "\n",
    "単位元しか持たない圏\n",
    "\n",
    "Faithful: injective on hom-sets  \n",
    "Ful: surjective on homsets  \n",
    "\n",
    "e.g.\n"
   ]
  },
  {
   "cell_type": "code",
   "execution_count": null,
   "metadata": {},
   "outputs": [],
   "source": [
    "data Maybe a = Nothing\n",
    "                | Just a\n",
    "\n",
    "fmap :: (a -> b) -> (Maybe a -> Maybe b)\n",
    "fmap f Nothing = Nothing\n",
    "fmap f (Just x) = Just (f x)"
   ]
  },
  {
   "cell_type": "markdown",
   "metadata": {},
   "source": [
    "6.2 Functors in Programming"
   ]
  },
  {
   "cell_type": "markdown",
   "metadata": {},
   "source": [
    "$ fmap \\ id = id $  \n",
    "$ fmap \\ id_{a} = id_{Maybe \\ a} $  \n",
    "$ fmap \\ ( g \\circ f ) = fmap \\ g \\circ \\ fmap \\ f $  "
   ]
  },
  {
   "cell_type": "code",
   "execution_count": null,
   "metadata": {},
   "outputs": [],
   "source": [
    "fmap id Nothing = Nothing = id Nothing\n",
    "fmap id (Just x) = Just (id x) = Just x\n",
    "id (Just x) = Just x"
   ]
  },
  {
   "cell_type": "markdown",
   "metadata": {},
   "source": [
    "持ち上げ　――　Lifting\n",
    "\n",
    "上に持ち上げているイメージ"
   ]
  },
  {
   "cell_type": "markdown",
   "metadata": {},
   "source": [
    "<img src=\"./image/006.jpg\" height=\"150px\" />"
   ]
  },
  {
   "cell_type": "markdown",
   "metadata": {},
   "source": [
    "Type class"
   ]
  },
  {
   "cell_type": "code",
   "execution_count": null,
   "metadata": {},
   "outputs": [],
   "source": [
    "class Eq a where\n",
    "    (==) :: a -> a -> Bool\n",
    "\n",
    "class Functor f where\n",
    "    fmap :: (a -> b) -> (f a -> f b)"
   ]
  },
  {
   "cell_type": "markdown",
   "metadata": {},
   "source": [
    "データコンストラクタはパターンに使える特殊な関数"
   ]
  },
  {
   "cell_type": "code",
   "execution_count": null,
   "metadata": {},
   "outputs": [],
   "source": [
    "data List a = Nil | Cons a (List a)\n",
    "\n",
    "instance Functor List where\n",
    "    fmap _ Nil = Nil\n",
    "    fmap f (Cons h t) = Cons (f h) (fmap f t)"
   ]
  },
  {
   "cell_type": "markdown",
   "metadata": {},
   "source": [
    "Cons(Consist)\n",
    "\n",
    "リストの先頭に要素を追加する関数  \n",
    "\n",
    "Haskellでは「：」"
   ]
  },
  {
   "cell_type": "code",
   "execution_count": null,
   "metadata": {},
   "outputs": [],
   "source": [
    "(:) :: a -> [a] -> [a]"
   ]
  },
  {
   "cell_type": "markdown",
   "metadata": {},
   "source": [
    "$ fmap :: (a \\rightarrow b) \\rightarrow (r \\rightarrow a) \\rightarrow (r \\rightarrow b) $  \n",
    "$ fmap \\ f \\ g = f \\circ g = ( \\circ ) \\ f \\ g $  \n",
    "$ \\Rightarrow fmap = ( \\circ ) $  "
   ]
  },
  {
   "cell_type": "markdown",
   "metadata": {},
   "source": [
    "7.1 Functoriality, Bifunctors"
   ]
  },
  {
   "cell_type": "markdown",
   "metadata": {},
   "source": [
    "<img src=\"./image/007.jpg\" height=\"150px\" />"
   ]
  },
  {
   "cell_type": "code",
   "execution_count": null,
   "metadata": {},
   "outputs": [],
   "source": [
    "tail :: [a] -> [a]\n",
    "\n",
    "safeTail :: [a] -> Maybe [a]\n",
    "safeTail [] = Nothing\n",
    "safeTail (x:xs) = Just xs"
   ]
  },
  {
   "cell_type": "code",
   "execution_count": null,
   "metadata": {},
   "outputs": [],
   "source": [
    "mis :: Maybe [Int]\n",
    "sq :: Int -> Int\n",
    "fmap (fmap sq) mis\n",
    "(fmap . fmap) sq mis"
   ]
  },
  {
   "cell_type": "markdown",
   "metadata": {},
   "source": [
    "Bifunctor\n",
    "\n",
    "functor of pruduct category\n",
    "\n",
    "$ \\mathcal{C} \\times \\mathcal{D} \\rightarrow \\mathcal{E} $  "
   ]
  },
  {
   "cell_type": "code",
   "execution_count": null,
   "metadata": {},
   "outputs": [],
   "source": [
    "(a, b) (,) a b\n",
    "fmap f (e, x) = (e, f x)"
   ]
  },
  {
   "cell_type": "markdown",
   "metadata": {},
   "source": [
    "$ (f', g') \\circ (f, g) = (f' \\circ f, g' \\circ g) $  \n",
    "$ (id_a, i_d) = id_{(a, b)} $  "
   ]
  },
  {
   "cell_type": "code",
   "execution_count": null,
   "metadata": {},
   "outputs": [],
   "source": [
    "class Bifunctor f where\n",
    "    bimap :: (a -> a') -> (b -> b') -> (f a b -> f a' b')"
   ]
  },
  {
   "cell_type": "markdown",
   "metadata": {},
   "source": [
    "<img src=\"./image/012.jpg\" height=\"150px\" />"
   ]
  },
  {
   "cell_type": "markdown",
   "metadata": {},
   "source": [
    "universal property\n",
    "\n",
    "ある特定の状況下において、一意に射を定めるような抽象的性質が特定の構成を定義、あるいは特徴付けたりする性質。  \n",
    "Either は Bifunctor"
   ]
  },
  {
   "cell_type": "markdown",
   "metadata": {},
   "source": [
    "7.2 Monoidal Categories, Functoriality of ADTs, Profunctors"
   ]
  },
  {
   "cell_type": "markdown",
   "metadata": {},
   "source": [
    "<img src=\"./image/013.jpg\" height=\"150px\" />"
   ]
  },
  {
   "cell_type": "markdown",
   "metadata": {},
   "source": [
    "(a, ()) ~ a\n",
    "\n",
    "(): terminal object"
   ]
  },
  {
   "cell_type": "code",
   "execution_count": null,
   "metadata": {},
   "outputs": [],
   "source": [
    "data Const c a = Const c\n",
    "instance Functor (Const c) where\n",
    "    -- fmap :: (a -> b) -> Const c a -> Const c b\n",
    "    fmap f (Const c) = Const c\n",
    "data Identity a = Identity a\n",
    "    fmap f (Identiry a) = Identity f a\n",
    "    (-> a b) = a -> b\n",
    "\n",
    "newtype Reader c a = Reader (c -> a)\n",
    "    fmap = (_)\n",
    "\n",
    "data Op c a = Op (a -> c)\n",
    "    fmap :: (a -> b) -> Op c a -> Op c b"
   ]
  },
  {
   "cell_type": "markdown",
   "metadata": {},
   "source": [
    "$ \\mathcal{C} \\rightarrow \\mathcal{D} $  "
   ]
  },
  {
   "cell_type": "code",
   "execution_count": null,
   "metadata": {},
   "outputs": [],
   "source": [
    "class Contravariant f where\n",
    "    contramap :: (b -> a) -> (f a -> f b)"
   ]
  },
  {
   "cell_type": "markdown",
   "metadata": {},
   "source": [
    "$ \\mathcal{C}^{Op} \\times \\mathcal{C} \\rightarrow \\mathcal{D} $  "
   ]
  },
  {
   "cell_type": "code",
   "execution_count": null,
   "metadata": {},
   "outputs": [],
   "source": [
    "class Profunctor p where\n",
    "    dimap :: (a' -> a) -> (b -> b') -> p a b -> p a' b'"
   ]
  },
  {
   "cell_type": "markdown",
   "metadata": {},
   "source": [
    "<img src=\"./image/014.jpg\" height=\"150px\" />"
   ]
  },
  {
   "cell_type": "markdown",
   "metadata": {},
   "source": [
    "$ g \\circ h \\circ f $  "
   ]
  },
  {
   "cell_type": "markdown",
   "metadata": {},
   "source": [
    "8.1 Function Objects, exponentials\n",
    "\n",
    "Universal Construction\n",
    "\n",
    "1. Pattern\n",
    "1. Ranking\n",
    "1. Find the best"
   ]
  },
  {
   "cell_type": "markdown",
   "metadata": {},
   "source": [
    "<img src=\"./image/015.jpg\" height=\"150px\" />"
   ]
  },
  {
   "cell_type": "markdown",
   "metadata": {},
   "source": [
    "$ g' = g \\circ ( h \\times id ) $  "
   ]
  },
  {
   "cell_type": "markdown",
   "metadata": {},
   "source": [
    "<img src=\"./image/016.jpg\" height=\"150px\" />"
   ]
  },
  {
   "cell_type": "markdown",
   "metadata": {},
   "source": [
    "$ g = eval \\circ ( h \\times is) $  "
   ]
  },
  {
   "cell_type": "code",
   "execution_count": null,
   "metadata": {},
   "outputs": [],
   "source": [
    "h :: z -> (a -> b)\n",
    "g :: (z, a) -> b\n",
    "curry :: ((a, b) -> c) -> (a -> (b -> c))\n",
    "curry f  = \\a -> (\\b -> f(a, b))\n",
    "uncurry :: (a -> (b -> c)) -> ((a, b) -> c)\n",
    "uncurry f = \\(a, b) -> (f a) b"
   ]
  },
  {
   "cell_type": "markdown",
   "metadata": {},
   "source": [
    "$ a^{0} = 1 $  \n",
    "$ (Void \\rightarrow a \\sim ()) $  \n",
    "$ (absurd) $  \n",
    "$ a^{1} = a $  \n",
    "$ () \\rightarrow a \\sim a $  \n"
   ]
  },
  {
   "cell_type": "markdown",
   "metadata": {},
   "source": [
    "8.2 Type Algebra, Curry-Howard-Lambak isomorphism\n",
    "\n",
    "Type Algebra\n",
    "\n",
    "$ a^{b+c} = a^b \\times a^c $  \n",
    "$ Either b c \\rightarrow a $  \n",
    "$ (b \\rightarrow a, c \\rightarrow a) $  \n",
    "\n",
    "$ (a^b)^c = a^{b \\rightarrow c} $  \n",
    "$ c \\rightarrow (b \\rightarrow a) \\sim (b, c) \\rightarrow a $  \n",
    "\n",
    "$ (a \\times b)^c = a^c \\times b^c $  \n",
    "$ c \\rightarrow (a, b) \\sim (c \\rightarrow a, c \\rightarrow b) $  \n"
   ]
  },
  {
   "cell_type": "markdown",
   "metadata": {},
   "source": [
    "|true|false|$a \\wedge b$|$a \\vee b$|$a \\Rightarrow b$|\n",
    "|---|---|---|---|---|\n",
    "|()|Void|(a, b)|Either a b|$a \\rightarrow b$|\n",
    "|terminal|initial|$a \\times b$|$a \\mid b$|$b^a$|"
   ]
  },
  {
   "cell_type": "markdown",
   "metadata": {},
   "source": [
    "9.1 自然変換　――　Natural Transformation"
   ]
  },
  {
   "cell_type": "markdown",
   "metadata": {},
   "source": [
    "<img src=\"./image/017.jpg\" height=\"150px\" />"
   ]
  },
  {
   "cell_type": "markdown",
   "metadata": {},
   "source": [
    "$ \\alpha_{b} \\circ F f = G f \\circ \\alpha_{a} $  \n",
    "\n",
    "のとき自然変換である"
   ]
  },
  {
   "cell_type": "markdown",
   "metadata": {},
   "source": [
    "<img src=\"./image/018.jpg\" height=\"150px\" />"
   ]
  },
  {
   "cell_type": "markdown",
   "metadata": {},
   "source": [
    "$ \\alpha :: \\forall a \\circ F \\ a \\rightarrow G \\ a $  \n",
    "$ \\alpha_{b} \\circ fmap_{F} \\ f = fmap_{c} \\ f \\circ \\alpha_{a} $  "
   ]
  },
  {
   "cell_type": "code",
   "execution_count": null,
   "metadata": {},
   "outputs": [],
   "source": [
    "safeHead :: [a] -> Maybe a\n",
    "safeHead [] = Nothing\n",
    "safeHead (x:xs) = Just x\n",
    "safeHead . fmap f (x: xs)"
   ]
  },
  {
   "cell_type": "markdown",
   "metadata": {},
   "source": [
    "<img src=\"./image/019.jpg\" height=\"150px\" />"
   ]
  },
  {
   "cell_type": "markdown",
   "metadata": {},
   "source": [
    "9.2 Bicategories\n"
   ]
  },
  {
   "cell_type": "markdown",
   "metadata": {},
   "source": [
    "<img src=\"./image/010.jpg\" height=\"150px\" />"
   ]
  },
  {
   "cell_type": "markdown",
   "metadata": {},
   "source": [
    "ここで抽象度を1つ上げる\n",
    "\n",
    "Object -> Category  \n",
    "Morphism -> Functor  \n",
    "\n",
    "として考えることができる\n",
    "\n",
    "\n",
    "homset:  \n",
    "任意のオブジェクトaからbまでの射の集合"
   ]
  },
  {
   "cell_type": "markdown",
   "metadata": {},
   "source": [
    "<img src=\"./image/020.jpg\" height=\"150px\" />"
   ]
  },
  {
   "cell_type": "markdown",
   "metadata": {},
   "source": [
    "$\\mathcal{C}$から$\\mathcal{D}$の射を$[\\mathcal{C}, \\mathcal{D}]$または$\\mathcal{D}^{\\mathcal{C}}$と書く"
   ]
  },
  {
   "cell_type": "markdown",
   "metadata": {},
   "source": [
    "<img src=\"./image/021.jpg\" height=\"150px\" />"
   ]
  },
  {
   "cell_type": "markdown",
   "metadata": {},
   "source": [
    "10.1 Monads\n",
    "\n",
    "fish operator"
   ]
  },
  {
   "cell_type": "code",
   "execution_count": null,
   "metadata": {},
   "outputs": [],
   "source": [
    "(>=>) :: (a -> m b) -> (b -> m c) -> (a -> m c)\n",
    "f >=> g = \\a -> let m b = f a\n",
    "                in m b >>= g\n",
    "(>>=) :: m a -> (a -> m b) -> m b\n",
    "m a >>= f = join (fmap f m a)\n",
    "join :: m (m a) -> m a"
   ]
  },
  {
   "cell_type": "code",
   "execution_count": null,
   "metadata": {},
   "outputs": [],
   "source": [
    "class Monad m where\n",
    "    (>>=) :: m a -> (a -> m b) -> m b\n",
    "    return :: a -> m a\n",
    "\n",
    "class Functor m => Monad m where\n",
    "    join :: m (m a) -> m a\n",
    "    return :: a -> m a"
   ]
  },
  {
   "cell_type": "markdown",
   "metadata": {},
   "source": [
    "What's Monad\n",
    "\n",
    "コンテナと呼ばれる性質を持つFunctor。\n",
    "\n",
    "コンテナの機能\n",
    "\n",
    "1. 一方の世界のものを他方の世界で表現したものに移す。（return）\n",
    "1. Functorを2回適応したものは1回適応したものと同じ（join）"
   ]
  },
  {
   "cell_type": "markdown",
   "metadata": {},
   "source": [
    "<img src=\"./image/009.jpg\" height=\"150px\" />"
   ]
  },
  {
   "cell_type": "markdown",
   "metadata": {},
   "source": [
    "$ m \\rightarrow T $  \n",
    "$ join \\rightarrow \\mu $  \n",
    "$ return \\rightarrow \\eta $  \n",
    "\n",
    "\n",
    "$ m (m a) \\rightarrow -> m a $  \n",
    "$ T \\circ T \\rightarrow T $  \n",
    "$ \\eta :: id \\rightarrow T $  \n",
    "$ \\mu :: T^2 \\rightarrow T $  \n",
    "$ T^3 = T^2 \\circ T $  "
   ]
  },
  {
   "cell_type": "markdown",
   "metadata": {},
   "source": [
    "10.2 Monoid in the Category of endofunctors\n",
    "\n",
    "Monoid  \n",
    "Single object category\n",
    "1. assosiativity\n",
    "1. unit\n",
    "\n",
    "$ \\mu :: a \\times a -> a $  \n",
    "$ \\eta :: () -> a $  \n",
    "$ \\mu ( \\mu (x, y), z) = \\mu (x, \\mu (y, z)) $  \n",
    "$ \\mu ( \\eta (), x) = x $  \n",
    "$ \\mu (x, \\eta ()) = x $  "
   ]
  },
  {
   "cell_type": "markdown",
   "metadata": {},
   "source": [
    "<img src=\"./image/008.jpg\" height=\"150px\" />"
   ]
  },
  {
   "cell_type": "markdown",
   "metadata": {},
   "source": [
    "$ \\alpha :: ((a, b), c) \\rightarrow (a, (b, c)) $  \n",
    "$ \\alpha ((x, y), z) = (x, (y, z)) $  \n",
    "$ \\lambda :: ((), a) \\rightarrow a $  \n",
    "$ \\lambda (_, x) = x $  \n",
    "$ \\lambda_{-1} x = ((), x) $  "
   ]
  },
  {
   "cell_type": "code",
   "execution_count": null,
   "metadata": {},
   "outputs": [],
   "source": []
  }
 ],
 "metadata": {
  "kernelspec": {
   "display_name": "Haskell",
   "language": "haskell",
   "name": "haskell"
  },
  "language_info": {
   "codemirror_mode": "ihaskell",
   "file_extension": ".hs",
   "name": "haskell",
   "version": "8.0.2"
  },
  "toc": {
   "nav_menu": {},
   "number_sections": true,
   "sideBar": true,
   "skip_h1_title": false,
   "toc_cell": false,
   "toc_position": {},
   "toc_section_display": "block",
   "toc_window_display": true
  }
 },
 "nbformat": 4,
 "nbformat_minor": 2
}
