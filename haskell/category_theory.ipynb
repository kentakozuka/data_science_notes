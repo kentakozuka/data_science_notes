{
 "cells": [
  {
   "cell_type": "markdown",
   "metadata": {},
   "source": [
    "# 数学用語\n",
    "\n",
    "* 定義　――　Definition  \n",
    "ある概念の内容やある言葉の意味を他の概念や言葉と区別できるように明確い限定すること。またその限定  \n",
    "\n",
    "\n",
    "* 公理　――　Axiom  \n",
    "数学の理論体系で定理を証明する前提として仮定するいくつかの事柄。ある体系の基盤となる決めごと。疑ってはいけない。\n",
    "\n",
    "\n",
    "* 命題　――　Proposition  \n",
    "判断を言語的に表現したもの。論理学では真偽を問いうる有意義な文をさす。\n",
    "\n",
    "\n",
    "* 証明　――　Proof  \n",
    "真であると前提されるいくつかの命題・公理を用いて、ある命題（定理）が真であることを論理的手続きによって導くこと。\n",
    "\n",
    "\n",
    "* 定理　――　Theorem  \n",
    "公理に基づき、論証によって証明された命題。定義と公理を使って証明される。\n",
    "\n",
    "\n",
    "* 補助定理（補題）　――　Lemma  \n",
    "主要な定理を証明するために準備として証明され、使われる定理。\n",
    "\n",
    "\n",
    "* 系　――　Corollary  \n",
    "一つの定理から派生的に導かれる命題。"
   ]
  },
  {
   "cell_type": "markdown",
   "metadata": {},
   "source": [
    "# 圏論　――　Category Theory\n",
    "\n",
    "## 定義　――　Definition\n",
    "* 対象 (object) の集まり $ ob(\\mathcal{A}) $\n",
    "\n",
    "\n",
    "* 各$A, B \\in ob(\\mathcal{A})$について、AからBへの射（morphism）または、矢印（arrow）の集まり。\n",
    "\n",
    "\n",
    "* 各$A, B, C \\in ob(\\mathcal{A})$について、合成（composition）と呼ばれる関数\n",
    "\n",
    "\n",
    "$$ \\mathcal{A}(B,C) \\times \\mathcal{A}(A,B) \\rightarrow \\mathcal{A}(A,C)$$\n",
    "$$ (g, f) \\rightarrow g \\circ f$$\n",
    "\n",
    "\n",
    "* 各$A \\in ob(\\mathcal{A})$について、A上の恒等射（identity）と呼ばれる$\\mathcal{A}(A,A)$の元$1_{A}$"
   ]
  },
  {
   "cell_type": "markdown",
   "metadata": {},
   "source": [
    "## 公理　――　Axiom\n",
    "\n",
    "* 結合法則\n",
    "任意の$f \\in \\mathcal{a}(A,B), g \\in \\mathcal{A}(B,C), h \\in \\mathcal{A}(C,D)$について以下が成り立つ。\n",
    "\n",
    "$$ (h \\circ g) \\circ f = h \\circ ( g \\circ f ) $$\n",
    "\n",
    "* 単位法則\n",
    "任意の$ f \\in \\mathcal{A}(A,B)$について以下が成り立つ\n",
    "\n",
    "$$ f \\circ 1_{A} = f = 1_{B} \\circ f $$\n"
   ]
  }
 ],
 "metadata": {
  "kernelspec": {
   "display_name": "Haskell",
   "language": "haskell",
   "name": "haskell"
  },
  "language_info": {
   "codemirror_mode": "ihaskell",
   "file_extension": ".hs",
   "name": "haskell",
   "version": "8.0.2"
  },
  "toc": {
   "nav_menu": {},
   "number_sections": true,
   "sideBar": true,
   "skip_h1_title": false,
   "toc_cell": false,
   "toc_position": {},
   "toc_section_display": "block",
   "toc_window_display": true
  }
 },
 "nbformat": 4,
 "nbformat_minor": 2
}
