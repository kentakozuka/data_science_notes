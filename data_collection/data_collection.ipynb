{
 "cells": [
  {
   "cell_type": "markdown",
   "metadata": {},
   "source": [
    "# Wikipedia\n",
    "\n",
    "## データセットをダウンロード"
   ]
  },
  {
   "cell_type": "code",
   "execution_count": 2,
   "metadata": {},
   "outputs": [],
   "source": [
    "#wget https://dumps.wikimedia.org/jawiki/20170920/jawiki-20170920-pages-articles1.xml-p1p168815.bz2"
   ]
  },
  {
   "cell_type": "markdown",
   "metadata": {},
   "source": [
    "# Twitter"
   ]
  },
  {
   "cell_type": "markdown",
   "metadata": {},
   "source": [
    "# YouTube"
   ]
  },
  {
   "cell_type": "markdown",
   "metadata": {},
   "source": [
    "# Amazon"
   ]
  },
  {
   "cell_type": "markdown",
   "metadata": {},
   "source": [
    "# 日本政府\n",
    "\n",
    "## DATA GO JP\n",
    "\n",
    "日本政府のオーブンデータ\n",
    "\n",
    "http://www.data.go.jp\n",
    "\n",
    "## OPEN DATA METI\n",
    "経済産業省のオープンデータ\n",
    "\n",
    "http://datameti.go.jp\n",
    "\n",
    "# e-Stat\n",
    "\n",
    "日本の統計データ\n",
    "\n",
    "http://www.estat.go.jp\n",
    "\n",
    "# OpenGovLab\n",
    "政府や自治体のオープンデータ\n",
    "\n",
    "http://openlabs.go.jp\n",
    "\n",
    "# LinkData.org\n",
    "オープンデータやオープンデータを使ったアプリを共有可能\n",
    "\n",
    "http://linkdata.org\n"
   ]
  },
  {
   "cell_type": "markdown",
   "metadata": {},
   "source": [
    "# アメリカ政府のオープンデータ\n",
    "\n",
    "https://www.data.gov/"
   ]
  },
  {
   "cell_type": "code",
   "execution_count": null,
   "metadata": {},
   "outputs": [],
   "source": []
  }
 ],
 "metadata": {
  "kernelspec": {
   "display_name": "Python 3",
   "language": "python",
   "name": "python3"
  },
  "language_info": {
   "codemirror_mode": {
    "name": "ipython",
    "version": 3
   },
   "file_extension": ".py",
   "mimetype": "text/x-python",
   "name": "python",
   "nbconvert_exporter": "python",
   "pygments_lexer": "ipython3",
   "version": "3.5.4"
  }
 },
 "nbformat": 4,
 "nbformat_minor": 2
}
