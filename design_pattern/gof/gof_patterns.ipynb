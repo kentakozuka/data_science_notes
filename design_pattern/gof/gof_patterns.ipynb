{
 "cells": [
  {
   "cell_type": "markdown",
   "metadata": {
    "toc": true
   },
   "source": [
    "<h1>Table of Contents<span class=\"tocSkip\"></span></h1>\n",
    "<div class=\"toc\" style=\"margin-top: 1em;\"><ul class=\"toc-item\"><li><span><a href=\"#生成に関するパターン\" data-toc-modified-id=\"生成に関するパターン-1\"><span class=\"toc-item-num\">1&nbsp;&nbsp;</span>生成に関するパターン</a></span><ul class=\"toc-item\"><li><span><a href=\"#Factory-Method\" data-toc-modified-id=\"Factory-Method-1.1\"><span class=\"toc-item-num\">1.1&nbsp;&nbsp;</span>Factory Method</a></span></li><li><span><a href=\"#Abstract-Factory\" data-toc-modified-id=\"Abstract-Factory-1.2\"><span class=\"toc-item-num\">1.2&nbsp;&nbsp;</span>Abstract Factory</a></span></li><li><span><a href=\"#Singleton\" data-toc-modified-id=\"Singleton-1.3\"><span class=\"toc-item-num\">1.3&nbsp;&nbsp;</span>Singleton</a></span></li><li><span><a href=\"#Builder\" data-toc-modified-id=\"Builder-1.4\"><span class=\"toc-item-num\">1.4&nbsp;&nbsp;</span>Builder</a></span></li><li><span><a href=\"#Prototype\" data-toc-modified-id=\"Prototype-1.5\"><span class=\"toc-item-num\">1.5&nbsp;&nbsp;</span>Prototype</a></span></li></ul></li><li><span><a href=\"#構造に関するパターン\" data-toc-modified-id=\"構造に関するパターン-2\"><span class=\"toc-item-num\">2&nbsp;&nbsp;</span>構造に関するパターン</a></span><ul class=\"toc-item\"><li><span><a href=\"#Composite\" data-toc-modified-id=\"Composite-2.1\"><span class=\"toc-item-num\">2.1&nbsp;&nbsp;</span>Composite</a></span></li><li><span><a href=\"#Adapter\" data-toc-modified-id=\"Adapter-2.2\"><span class=\"toc-item-num\">2.2&nbsp;&nbsp;</span>Adapter</a></span><ul class=\"toc-item\"><li><span><a href=\"#継承を用いたパターン\" data-toc-modified-id=\"継承を用いたパターン-2.2.1\"><span class=\"toc-item-num\">2.2.1&nbsp;&nbsp;</span>継承を用いたパターン</a></span></li><li><span><a href=\"#委譲を用いたパターン\" data-toc-modified-id=\"委譲を用いたパターン-2.2.2\"><span class=\"toc-item-num\">2.2.2&nbsp;&nbsp;</span>委譲を用いたパターン</a></span></li></ul></li><li><span><a href=\"#Decorator\" data-toc-modified-id=\"Decorator-2.3\"><span class=\"toc-item-num\">2.3&nbsp;&nbsp;</span>Decorator</a></span></li><li><span><a href=\"#Bridge\" data-toc-modified-id=\"Bridge-2.4\"><span class=\"toc-item-num\">2.4&nbsp;&nbsp;</span>Bridge</a></span></li><li><span><a href=\"#Facade\" data-toc-modified-id=\"Facade-2.5\"><span class=\"toc-item-num\">2.5&nbsp;&nbsp;</span>Facade</a></span></li><li><span><a href=\"#Flyweight\" data-toc-modified-id=\"Flyweight-2.6\"><span class=\"toc-item-num\">2.6&nbsp;&nbsp;</span>Flyweight</a></span></li><li><span><a href=\"#Proxy\" data-toc-modified-id=\"Proxy-2.7\"><span class=\"toc-item-num\">2.7&nbsp;&nbsp;</span>Proxy</a></span></li></ul></li><li><span><a href=\"#振る舞いに関するパターン\" data-toc-modified-id=\"振る舞いに関するパターン-3\"><span class=\"toc-item-num\">3&nbsp;&nbsp;</span>振る舞いに関するパターン</a></span><ul class=\"toc-item\"><li><span><a href=\"#Iterator\" data-toc-modified-id=\"Iterator-3.1\"><span class=\"toc-item-num\">3.1&nbsp;&nbsp;</span>Iterator</a></span></li><li><span><a href=\"#Strategy\" data-toc-modified-id=\"Strategy-3.2\"><span class=\"toc-item-num\">3.2&nbsp;&nbsp;</span>Strategy</a></span></li><li><span><a href=\"#Template-Method\" data-toc-modified-id=\"Template-Method-3.3\"><span class=\"toc-item-num\">3.3&nbsp;&nbsp;</span>Template Method</a></span></li><li><span><a href=\"#Visiter\" data-toc-modified-id=\"Visiter-3.4\"><span class=\"toc-item-num\">3.4&nbsp;&nbsp;</span>Visiter</a></span></li><li><span><a href=\"#Chain-of-Responsibility\" data-toc-modified-id=\"Chain-of-Responsibility-3.5\"><span class=\"toc-item-num\">3.5&nbsp;&nbsp;</span>Chain of Responsibility</a></span></li><li><span><a href=\"#Command\" data-toc-modified-id=\"Command-3.6\"><span class=\"toc-item-num\">3.6&nbsp;&nbsp;</span>Command</a></span></li><li><span><a href=\"#Interpreter\" data-toc-modified-id=\"Interpreter-3.7\"><span class=\"toc-item-num\">3.7&nbsp;&nbsp;</span>Interpreter</a></span></li><li><span><a href=\"#Mediator\" data-toc-modified-id=\"Mediator-3.8\"><span class=\"toc-item-num\">3.8&nbsp;&nbsp;</span>Mediator</a></span></li><li><span><a href=\"#Memento\" data-toc-modified-id=\"Memento-3.9\"><span class=\"toc-item-num\">3.9&nbsp;&nbsp;</span>Memento</a></span></li><li><span><a href=\"#Observer\" data-toc-modified-id=\"Observer-3.10\"><span class=\"toc-item-num\">3.10&nbsp;&nbsp;</span>Observer</a></span></li><li><span><a href=\"#State\" data-toc-modified-id=\"State-3.11\"><span class=\"toc-item-num\">3.11&nbsp;&nbsp;</span>State</a></span></li></ul></li></ul></div>"
   ]
  },
  {
   "cell_type": "markdown",
   "metadata": {},
   "source": [
    "# 生成に関するパターン"
   ]
  },
  {
   "cell_type": "markdown",
   "metadata": {},
   "source": [
    "参考にしたサイト  \n",
    "https://qiita.com/nirperm/  \n",
    "http://atsuya046.hatenablog.com/  \n",
    "https://python.civic-apps.com/  \n",
    "https://ja.wikipedia.org/wiki/  "
   ]
  },
  {
   "cell_type": "markdown",
   "metadata": {},
   "source": [
    "## Factory Method"
   ]
  },
  {
   "cell_type": "code",
   "execution_count": 20,
   "metadata": {},
   "outputs": [
    {
     "data": {
      "image/png": "[encoded data removed]",
      "text/plain": [
       "<IPython.core.display.Image object>"
      ]
     },
     "execution_count": 20,
     "metadata": {
      "image/png": {
       "height": 500,
       "width": 600
      }
     },
     "output_type": "execute_result"
    }
   ],
   "source": [
    "url='https://upload.wikimedia.org/wikipedia/commons/thumb/8/8e/Factory_Method_UML_class_diagram.svg/800px-Factory_Method_UML_class_diagram.svg.png'\n",
    "\n",
    "from IPython.display import Image\n",
    "Image(url, width=600, height=500)"
   ]
  },
  {
   "cell_type": "markdown",
   "metadata": {},
   "source": [
    "インスタンスの作り方をスーパークラスで定め、具体的な処理をサブクラスで行うパターン  \n",
    "\n",
    "オブジェクトの生成と具体的な処理を分離することで、より柔軟にオブジェクトを利用することができる。\n",
    "簡単に言えば、オブジェクト生成を容易にするデザインパターンです。\n",
    "Template Methodパターンをオブジェクト生成の場面に適応させたデザインパターン。\n",
    "\n",
    "Abstract FactoryパターンとFactory Methodパターン\n",
    "\n",
    "Abstract FactoryパターンとFactory Methodパターンでは以下の違いがあります\n",
    "\n",
    "Factory Methodパターン\n",
    "\n",
    "    Factoryクラスがオブジェクトの生成処理に加えて生成するオブジェクトの種類の変更をファクトリの処理の中で動的に行う\n",
    "\n",
    "Abstruct Factoryパターン\n",
    "\n",
    "    生成するオブジェクトごとにファクトリを用意することで、オブジェクトの生成処理を柔軟に行える\n",
    "\n",
    "Factoryパターンでは、生成するオブジェクトの種類の増加や生成処理手順が複雑化に伴って、ファクトリ内の処理が冗長で複雑化してしまいます。\n",
    "Abstruct Factoryパターンでは、サブクラスで生成処理を行うため生成処理を簡潔にすることができますが、生成するオブジェクトの種類を変更する場合、ファクトリクラスを切り替える必要があります。"
   ]
  },
  {
   "cell_type": "code",
   "execution_count": 52,
   "metadata": {},
   "outputs": [
    {
     "name": "stdout",
     "output_type": "stream",
     "text": [
      "\"i\" is created\n",
      "\"am\" is created\n",
      "\"awesome!\" is created\n",
      "I AM AWESOME!\n"
     ]
    }
   ],
   "source": [
    "from abc import ABCMeta, abstractmethod\n",
    "\n",
    "class Factory(metaclass=ABCMeta):\n",
    "    '''Creator'''\n",
    "    @abstractmethod\n",
    "    def create(self, owner):\n",
    "        pass\n",
    "\n",
    "class Product(metaclass=ABCMeta):\n",
    "    '''Product'''\n",
    "    @abstractmethod\n",
    "    def write(self):\n",
    "        pass\n",
    "    \n",
    "class Word(Product):\n",
    "    '''ConcreteProduct'''\n",
    "    def __init__(self, word):\n",
    "        self.word = word\n",
    "\n",
    "    def write(self):\n",
    "        return self.word\n",
    "\n",
    "class UpperCaseFactory(Factory):\n",
    "    '''ConcreteCreator'''\n",
    "    def __init__(self):\n",
    "        pass\n",
    "\n",
    "    def create(self, word):\n",
    "        print('\"' + word + '\"' + ' is created')\n",
    "        return Word(word.upper())\n",
    "\n",
    "if __name__ == '__main__':\n",
    "    factory = UpperCaseFactory()\n",
    "    word1 = factory.create('i')\n",
    "    word2 = factory.create('am')\n",
    "    word3 = factory.create('awesome!')\n",
    "\n",
    "    print(' '.join([word1.write(), word2.write(), word3.write()]))"
   ]
  },
  {
   "cell_type": "markdown",
   "metadata": {},
   "source": [
    "## Abstract Factory"
   ]
  },
  {
   "cell_type": "code",
   "execution_count": 5,
   "metadata": {},
   "outputs": [
    {
     "data": {
      "image/png": "[encoded data removed]",
      "text/plain": [
       "<IPython.core.display.Image object>"
      ]
     },
     "execution_count": 5,
     "metadata": {
      "image/png": {
       "height": 500,
       "width": 800
      }
     },
     "output_type": "execute_result"
    }
   ],
   "source": [
    "url='https://upload.wikimedia.org/wikipedia/commons/thumb/6/67/Abstract_Factory_UML_class_diagram.svg/800px-Abstract_Factory_UML_class_diagram.svg.png'\n",
    "\n",
    "from IPython.display import Image\n",
    "Image(url, width=900, height=500)"
   ]
  },
  {
   "cell_type": "code",
   "execution_count": 10,
   "metadata": {},
   "outputs": [
    {
     "name": "stdout",
     "output_type": "stream",
     "text": [
      "Render a button in a MacOS style\n",
      "Render a button in a Windows style\n"
     ]
    }
   ],
   "source": [
    "from abc import ABCMeta, abstractmethod\n",
    "\n",
    "class Button(metaclass=ABCMeta):\n",
    "    @abstractmethod\n",
    "    def paint(self):\n",
    "        pass\n",
    "\n",
    "class WindowsButton(Button):\n",
    "    def paint(self):\n",
    "        return \"Render a button in a Windows style\"\n",
    "\n",
    "class MacOSButton(Button):\n",
    "    def paint(self):\n",
    "        return \"Render a button in a MacOS style\"\n",
    "\n",
    "class GUIFactory(metaclass=ABCMeta):\n",
    "    ''' abstruct factory'''\n",
    "    @abstractmethod\n",
    "    def create_button(self):\n",
    "        pass\n",
    "\n",
    "class WindowsFactory(GUIFactory):\n",
    "    ''' concrete factory'''\n",
    "    def create_button(self):\n",
    "        return WindowsButton()\n",
    "\n",
    "class MacOSFactory(GUIFactory):\n",
    "    ''' concrete factory'''\n",
    "    def create_button(self):\n",
    "        return MacOSButton()\n",
    "\n",
    "factory1 = MacOSFactory()\n",
    "factory2 = WindowsFactory()\n",
    "button1 = factory1.create_button()\n",
    "button2 = factory2.create_button()\n",
    "print(button1.paint())\n",
    "print(button2.paint())"
   ]
  },
  {
   "cell_type": "markdown",
   "metadata": {},
   "source": [
    "## Singleton"
   ]
  },
  {
   "cell_type": "code",
   "execution_count": 2,
   "metadata": {},
   "outputs": [
    {
     "data": {
      "image/png": "[encoded data removed]",
      "text/plain": [
       "<IPython.core.display.Image object>"
      ]
     },
     "execution_count": 2,
     "metadata": {
      "image/png": {
       "height": 300,
       "width": 400
      }
     },
     "output_type": "execute_result"
    }
   ],
   "source": [
    "url='https://upload.wikimedia.org/wikipedia/commons/thumb/f/fb/Singleton_UML_class_diagram.svg/500px-Singleton_UML_class_diagram.svg.png'\n",
    "\n",
    "from IPython.display import Image\n",
    "Image(url, width=400, height=300)"
   ]
  },
  {
   "cell_type": "markdown",
   "metadata": {},
   "source": [
    "システムの中でインスタンスをひとつだけ存在させておきたい場合に使う"
   ]
  },
  {
   "cell_type": "code",
   "execution_count": 5,
   "metadata": {},
   "outputs": [
    {
     "name": "stdout",
     "output_type": "stream",
     "text": [
      "139710925179312 139710925179312\n",
      "bbb bbb\n"
     ]
    }
   ],
   "source": [
    "class Singleton(object):\n",
    "    __instance = None\n",
    "\n",
    "    def __new__(cls, *args, **keys):\n",
    "        if not cls.__instance:\n",
    "            cls.__instance = object.__new__(cls)\n",
    "        return cls.__instance\n",
    "\n",
    "    def __init__(self, name):\n",
    "        self.__name = name\n",
    "\n",
    "    def get_name(self):\n",
    "        return self.__name\n",
    "\n",
    "if __name__ == '__main__':\n",
    "    s1 = Singleton('aaa')\n",
    "    s2 = Singleton('bbb')\n",
    "    print(id(s1), id(s2))\n",
    "    print(s1.get_name(), s2.get_name())\n"
   ]
  },
  {
   "cell_type": "markdown",
   "metadata": {},
   "source": [
    "## Builder"
   ]
  },
  {
   "cell_type": "code",
   "execution_count": 7,
   "metadata": {},
   "outputs": [
    {
     "data": {
      "image/png": "[encoded data removed]",
      "text/plain": [
       "<IPython.core.display.Image object>"
      ]
     },
     "execution_count": 7,
     "metadata": {
      "image/png": {
       "height": 500,
       "width": 800
      }
     },
     "output_type": "execute_result"
    }
   ],
   "source": [
    "url='https://upload.wikimedia.org/wikipedia/commons/thumb/f/f3/Builder_UML_class_diagram.svg/800px-Builder_UML_class_diagram.svg.png'\n",
    "\n",
    "from IPython.display import Image\n",
    "Image(url, width=800, height=500)"
   ]
  },
  {
   "cell_type": "markdown",
   "metadata": {},
   "source": [
    "オブジェクトの生成手順が複雑な場合に、その生成過程をカプセル化し、構造を持ったインスタンスを組み上げていく。  \n",
    "また、色々なパターンのビルダーを用意することで様々なパターンの製造に対応ができ、  \n",
    "複雑なメソッドの組み合わせでも、一括して実行ができます。\n",
    "\n",
    "サンプルとして、Builderパターンを使って「文章」を作成するプログラムを作ります。  \n",
    "ここで作る文章は以下のような構造を持っています。\n",
    "\n",
    "    タイトルを1つ含む\n",
    "    文字列をいくつか含む\n",
    "    箇条書きの項目をいくつか含む\n",
    "\n",
    "Builderクラスでは、文書を構成するためのメソッドを定めます。  \n",
    "そして、Directorクラスがそのメソッドを使って、具体的な1つの文書を作ります、\n",
    "\n",
    "Builderクラスは抽象クラスで、実際の処理は書かれていません。抽象メソッドが宣言されているだけです。  \n",
    "文章作成のための具体的な処理を決定するのは、Builderクラスのサブクラスです。\n",
    "\n",
    "    TextBuilderクラス ・・・ プレーンテキスト（普通の文字列）を使って文書を作る\n",
    "    HTMLBuilderクラス ・・・ HTMLを使って文書を作る\n",
    "\n",
    "DirectorがTextBuilderを使うとプレーンテキストの文書ができ、HTMLBuilderを使うとHTMLの文書ができます。"
   ]
  },
  {
   "cell_type": "code",
   "execution_count": 18,
   "metadata": {},
   "outputs": [
    {
     "name": "stdout",
     "output_type": "stream",
     "text": [
      "====================\n",
      "[Greeting]\n",
      "\n",
      "\n",
      "\n",
      "■朝から昼にかけて\n",
      "\n",
      "\n",
      "\n",
      "●おはようございます。\n",
      "\n",
      "●こんにちは。\n",
      "\n",
      "\n",
      "\n",
      "■夜に\n",
      "\n",
      "\n",
      "\n",
      "●こんばんは。\n",
      "\n",
      "●おやすみなさい。\n",
      "\n",
      "●さようなら。\n",
      "\n",
      "\n",
      "\n",
      "====================\n",
      "None\n",
      "<!DOCTYPE html><html><head><meta http-equiv=\"Content-Type\" content=\"text/html; charset=UTF-8\" /><title>Greeting</title></head><body>\n",
      "<h1>Greeting<h1>\n",
      "<h1>朝から昼にかけて</p>\n",
      "<ul>\n",
      "<li>おはようございます。</li>\n",
      "<li>こんにちは。</li>\n",
      "</ul>\n",
      "<h1>夜に</p>\n",
      "<ul>\n",
      "<li>こんばんは。</li>\n",
      "<li>おやすみなさい。</li>\n",
      "<li>さようなら。</li>\n",
      "</ul>\n",
      "</body></html>\n",
      "None\n"
     ]
    }
   ],
   "source": [
    "from abc import ABCMeta, abstractmethod\n",
    "\n",
    "class Builder(metaclass=ABCMeta):\n",
    "    @abstractmethod\n",
    "    def make_title(self, title):\n",
    "        pass\n",
    "\n",
    "    @abstractmethod\n",
    "    def make_string(self, string):\n",
    "        pass\n",
    "\n",
    "    @abstractmethod\n",
    "    def make_items(self, items):\n",
    "        pass\n",
    "\n",
    "    @abstractmethod\n",
    "    def close(self):\n",
    "        pass\n",
    "\n",
    "class Director():\n",
    "    def __init__(self, builder):\n",
    "        self.builder = builder\n",
    "\n",
    "    def construct(self):\n",
    "        self.builder.make_title('Greeting')\n",
    "        self.builder.make_string('朝から昼にかけて')\n",
    "        string = ['おはようございます。', 'こんにちは。']\n",
    "        self.builder.make_items(string)\n",
    "        self.builder.make_string('夜に')\n",
    "        string = ['こんばんは。', 'おやすみなさい。', 'さようなら。']\n",
    "        self.builder.make_items(string)\n",
    "        self.builder.close()\n",
    "\n",
    "class TextBuilder(Builder):\n",
    "    buffer = []\n",
    "\n",
    "    def make_title(self, title):\n",
    "        self.buffer.append('=' * 20)\n",
    "        self.buffer.append('[' + title + ']\\n')\n",
    "        self.buffer.append('\\n')\n",
    "\n",
    "    def make_string(self, string):\n",
    "        self.buffer.append('■' + string + '\\n')\n",
    "        self.buffer.append('\\n')\n",
    "\n",
    "    def make_items(self, items):\n",
    "        for i in range(0, len(items)):\n",
    "            self.buffer.append('●' + items[i] + '\\n')\n",
    "        self.buffer.append('\\n')\n",
    "\n",
    "    def close(self):\n",
    "        self.buffer.append('=' * 20)\n",
    "\n",
    "    def get_result(self):\n",
    "        for b in self.buffer:\n",
    "            print(b)\n",
    "\n",
    "class HTMLBuilder(Builder):\n",
    "    buffer = []\n",
    "\n",
    "    def make_title(self, title):\n",
    "        self.buffer.append('<!DOCTYPE html><html><head><meta http-equiv=\"Content-Type\" content=\"text/html; charset=UTF-8\" /><title>' + title + '</title></head><body>')\n",
    "        self.buffer.append('<h1>' + title + '<h1>')\n",
    "\n",
    "    def make_string(self, string):\n",
    "        self.buffer.append('<h1>' + string + '</p>')\n",
    "\n",
    "    def make_items(self, items):\n",
    "        self.buffer.append('<ul>')\n",
    "        for i in range(0, len(items)):\n",
    "            self.buffer.append('<li>' + items[i] + '</li>')\n",
    "        self.buffer.append('</ul>')\n",
    "\n",
    "    def close(self):\n",
    "        self.buffer.append('</body></html>')\n",
    "\n",
    "    def get_result(self):\n",
    "        for b in self.buffer:\n",
    "            print(b)\n",
    "\n",
    "if __name__ == \"__main__\":\n",
    "    director = Director(TextBuilder())\n",
    "    director.construct()\n",
    "    result = text_builder.get_result()\n",
    "    print(result)\n",
    "    director = Director(TextBuilder())\n",
    "    director.construct()\n",
    "    result = html_builder.get_result()\n",
    "    print(result)\n"
   ]
  },
  {
   "cell_type": "markdown",
   "metadata": {},
   "source": [
    "## Prototype"
   ]
  },
  {
   "cell_type": "code",
   "execution_count": 19,
   "metadata": {
    "scrolled": true
   },
   "outputs": [
    {
     "data": {
      "image/png": "[encoded data removed]",
      "text/plain": [
       "<IPython.core.display.Image object>"
      ]
     },
     "execution_count": 19,
     "metadata": {
      "image/png": {
       "height": 500,
       "width": 800
      }
     },
     "output_type": "execute_result"
    }
   ],
   "source": [
    "url='https://upload.wikimedia.org/wikipedia/commons/thumb/1/14/Prototype_UML.svg/678px-Prototype_UML.svg.png'\n",
    "\n",
    "from IPython.display import Image\n",
    "Image(url, width=800, height=500)"
   ]
  },
  {
   "cell_type": "markdown",
   "metadata": {},
   "source": [
    "**インスタンスをコピーして作る**"
   ]
  },
  {
   "cell_type": "markdown",
   "metadata": {},
   "source": [
    "クラスからインスタンスをつくるのではなく、インスタンスをコピーすることで、\n",
    "インスタンスから別のインスタンスをつくるというもの。\n",
    "\n",
    "生成されるオブジェクトの種別がプロトタイプ（典型）的なインスタンスであるときに使用され、  \n",
    "このプロトタイプを複製して新しいオブジェクトを生成する。\n",
    "\n",
    "このパターンは\n",
    "* Abstract Factory パターンでなされるように、クライアント・アプリケーションにおいてオブジェクトの生成者をサブクラスにすることを回避する\n",
    "* 標準的な方法（例えば'new'）で新しいオブジェクトを作ることによる固有のコストが所与のアプリケーションにとって高すぎる時にそれを回避する\n",
    "\n",
    "ために用いられる。\n",
    "\n",
    "このパターンを実装するには、clone()メソッドを指定する抽象的（abstract）な基底クラスを宣言する。  \n",
    "「多態性を持つコンストラクタ」の能力を必要とする全てのクラスは抽象的な基底クラスから自身を派生させ、clone()の操作を実装する。\n"
   ]
  },
  {
   "cell_type": "code",
   "execution_count": 25,
   "metadata": {},
   "outputs": [
    {
     "name": "stdout",
     "output_type": "stream",
     "text": [
      "\"Hello, world.\"\n",
      " ~~~~~~~~~~~~~ \n",
      "*****************\n",
      "* Hello, world. *\n",
      "*****************\n",
      "/////////////////\n",
      "/ Hello, world. /\n",
      "/////////////////\n"
     ]
    }
   ],
   "source": [
    "import copy\n",
    "from abc import ABCMeta, abstractmethod\n",
    "        \n",
    "class Product(metaclass=ABCMeta):\n",
    "    '''Prototype'''\n",
    "    @abstractmethod\n",
    "    def use(self, s):\n",
    "        pass\n",
    "    @abstractmethod\n",
    "    def createClone(self):\n",
    "        pass\n",
    "\n",
    "class Manager(object):\n",
    "    '''Client'''\n",
    "    showcase = dict()\n",
    "    def register(self, name, proto):\n",
    "        self.showcase[name] = proto\n",
    "    def create(self, protoname):\n",
    "        p = self.showcase.get(protoname)\n",
    "        return p.createClone()\n",
    "\n",
    "class MessageBox(Product):\n",
    "    '''Concrete Prototype'''\n",
    "    def __init__(self, decochar):\n",
    "        self.decochar = decochar\n",
    "    def use(self, s):\n",
    "        length = len(s)\n",
    "        deco = self.decochar * (length + 4 )\n",
    "        print(deco)\n",
    "        print(self.decochar,s,self.decochar)\n",
    "        print(deco)\n",
    "    \n",
    "    def createClone(self):\n",
    "        p = copy.deepcopy(self)\n",
    "        return p\n",
    "\n",
    "class UnderlinePen(Product):\n",
    "    '''Concrete Prototype'''\n",
    "    def __init__(self, ulchar):\n",
    "        self.ulchar = ulchar\n",
    "    \n",
    "    def use(self, s):\n",
    "        length = len(s)\n",
    "        print('\"%s\"' %s)\n",
    "        print(\" %s \" %(self.ulchar * length))\n",
    "    \n",
    "    def createClone(self):\n",
    "        p = copy.deepcopy(self)\n",
    "        return p\n",
    "\n",
    "\n",
    "if __name__== \"__main__\":\n",
    "    manager = Manager()\n",
    "    upen = UnderlinePen(\"~\")\n",
    "    mbox = MessageBox(\"*\")\n",
    "    sbox = MessageBox(\"/\")\n",
    "    manager.register(\"strong message\", upen)\n",
    "    manager.register(\"warning box\", mbox)\n",
    "    manager.register(\"slash box\", sbox)\n",
    "    \n",
    "    p1 = manager.create(\"strong message\")\n",
    "    p1.use(\"Hello, world.\")\n",
    "    p2 = manager.create(\"warning box\")\n",
    "    p2.use(\"Hello, world.\")\n",
    "    p3 = manager.create(\"slash box\")\n",
    "    p3.use(\"Hello, world.\")\n"
   ]
  },
  {
   "cell_type": "markdown",
   "metadata": {},
   "source": [
    "# 構造に関するパターン"
   ]
  },
  {
   "cell_type": "markdown",
   "metadata": {},
   "source": [
    "## Composite"
   ]
  },
  {
   "cell_type": "code",
   "execution_count": 54,
   "metadata": {},
   "outputs": [
    {
     "data": {
      "image/png": "[encoded data removed]",
      "text/plain": [
       "<IPython.core.display.Image object>"
      ]
     },
     "execution_count": 54,
     "metadata": {
      "image/png": {
       "height": 500,
       "width": 600
      }
     },
     "output_type": "execute_result"
    }
   ],
   "source": [
    "url='https://upload.wikimedia.org/wikipedia/commons/thumb/6/68/Composite_UML_class_diagram.svg/800px-Composite_UML_class_diagram.svg.png'\n",
    "\n",
    "from IPython.display import Image\n",
    "Image(url, width=600, height=500)"
   ]
  },
  {
   "cell_type": "markdown",
   "metadata": {},
   "source": [
    "**木構造を表現する**"
   ]
  },
  {
   "cell_type": "markdown",
   "metadata": {},
   "source": [
    "1つの抽象クラスがプリミティブとコンテナの両方を表すこと。\n",
    "\n",
    "幸いな事に、Compositeパターンには犯しやすい間違いが１つしかありません。  \n",
    "そして悪い事に、多くの人がその間違いをよく犯します。  \n",
    "ツリーの深さが１段しかない、  \n",
    "つまりコンポジットオブジェクトの子コンポーネントが全て葉オブジェクトであると想定してしまうのです。\n",
    "\n",
    "Compositeパターンには、一つの決断をしなくてはいけません。\n",
    "\n",
    "つまり、葉のオブジェクトでadd_sub_taskやremove_sub_taskをどう扱うかです。\n",
    "\n",
    "1. 子を扱わないのだから、add_sub_task等は実装しない\n",
    "1. add_sub_task等を呼び出そうとしたら例外を投げる\n",
    "1. add_sub_task等を呼び出しても無視する\n",
    "\n",
    "Compositeパターンのゴールは、全階層のオブジェクトを同じように扱えるようにする事です。  \n",
    "しかし、葉とコンポジットオブジェクトは同じではないのです。\n"
   ]
  },
  {
   "cell_type": "code",
   "execution_count": 2,
   "metadata": {},
   "outputs": [
    {
     "name": "stdout",
     "output_type": "stream",
     "text": [
      "Ellipse: 1\n",
      "Ellipse: 2\n",
      "Ellipse: 3\n",
      "Ellipse: 4\n"
     ]
    }
   ],
   "source": [
    "class FileInterface:\n",
    "    '''Component'''\n",
    "    def ls(self):\n",
    "        raise NotImplementedError(\"You should implement this.\")\n",
    "\n",
    "class Directory(FileInterface):\n",
    "    '''Composit'''\n",
    "    def __init__(self):\n",
    "        self.graphics = []\n",
    "\n",
    "    def ls(self):\n",
    "        #再帰的にrender()を呼び出す\n",
    "        for graphic in self.graphics:\n",
    "            graphic.render()\n",
    "\n",
    "    def add(self, graphic):\n",
    "        self.graphics.append(graphic)\n",
    "\n",
    "    def remove(self, graphic):\n",
    "        self.graphics.remove(graphic)\n",
    "\n",
    "class File(FileInterface):\n",
    "    '''Leaf'''\n",
    "    def __init__(self, name):\n",
    "        self.name = name\n",
    "\n",
    "    def ls(self):\n",
    "        print(\"Ellipse: {}\".format(self.name))\n",
    "\n",
    "if __name__ == '__main__':\n",
    "    file1 = File(\"1\")\n",
    "    file2 = File(\"2\")\n",
    "    file3 = File(\"3\")\n",
    "    file4 = File(\"4\")\n",
    "\n",
    "    dir1 = Directory()\n",
    "    dir2 = Directory()\n",
    "\n",
    "    dir1.add(file1)\n",
    "    dir1.add(file2)\n",
    "    dir1.add(file3)\n",
    "    dir2.add(file4)\n",
    "\n",
    "    root_dir = Directory()\n",
    "\n",
    "    root_dir.add(dir1)\n",
    "    root_dir.add(dir2)\n",
    "\n",
    "    root_dir.ls()"
   ]
  },
  {
   "cell_type": "markdown",
   "metadata": {},
   "source": [
    "## Adapter"
   ]
  },
  {
   "cell_type": "markdown",
   "metadata": {},
   "source": [
    "** 直接ではなく、ラップして使う**"
   ]
  },
  {
   "cell_type": "markdown",
   "metadata": {},
   "source": [
    "Adapterとは適合するという意味で、Wrapperパターンと呼ばれることもあります。  \n",
    "「すでに提供されているもの」を「利用できるもの」にするためのデザインパターンで、本書ではAC電源とノートパソコンの間のACアダプターを例として説明されています。\n",
    "\n",
    "利用場面として以下が考えられます\n",
    "\n",
    "    関連性のないクラス通しを既存のクラスを変えずに関連付けする場合\n",
    "    既存のクラスをある新しいインターフェイスを通じて再利用したい場合\n",
    "    既存のクラス・インターフェイスをアプリケーション固有なものに(使いやすく)したい場合"
   ]
  },
  {
   "cell_type": "markdown",
   "metadata": {},
   "source": [
    "既存のクラスに対して修正を加えることなく、インタフェースを変更することができる。  \n",
    "Adapter パターンを実現するための手法として継承を利用した手法と委譲を利用した手法が存在する。\n",
    "\n",
    "２つのクラス間に変換構造を作り、別の用途に使えるように変換する。  \n",
    "Apdaterは中間層の役割で、使う方と、使われる方は中身を知らなくても良い。  \n",
    "クラスで返すのか、インスタンスで返すのかの違いかな。"
   ]
  },
  {
   "cell_type": "markdown",
   "metadata": {},
   "source": [
    "\n",
    "    既存のクラスを書き換えずにAdapterパターンを利用することのメリット\n",
    "        既存のクラス(Adaptee)をもう一度テストする必要がなくなる\n",
    "        Adapterパターンによってバグが発生しても、既存のクラス(Adaptee)にバグがないことが保証される\n",
    "    Adaptee役とTargetの機能がかけ離れてる場合は、Adapterパターンは非推奨\n",
    "    Targetをクラスすることで、委譲を利用したAdapterパターンも可能(AdapterでAdapteeのインスタンスを保持)\n"
   ]
  },
  {
   "cell_type": "markdown",
   "metadata": {},
   "source": [
    "### 継承を用いたパターン"
   ]
  },
  {
   "cell_type": "code",
   "execution_count": 1,
   "metadata": {},
   "outputs": [
    {
     "data": {
      "image/png": "[encoded data removed]",
      "text/plain": [
       "<IPython.core.display.Image object>"
      ]
     },
     "execution_count": 1,
     "metadata": {
      "image/png": {
       "height": 500,
       "width": 600
      }
     },
     "output_type": "execute_result"
    }
   ],
   "source": [
    "url='https://upload.wikimedia.org/wikipedia/commons/thumb/f/fd/Adapter_using_inheritance_UML_class_diagram.svg/800px-Adapter_using_inheritance_UML_class_diagram.svg.png'\n",
    "\n",
    "from IPython.display import Image\n",
    "Image(url, width=600, height=500)"
   ]
  },
  {
   "cell_type": "code",
   "execution_count": null,
   "metadata": {},
   "outputs": [],
   "source": [
    "from abc import ABCMeta, abstractmethod\n",
    "\n",
    "class Banner():\n",
    "    '''Adaptee'''\n",
    "\n",
    "    def __init__(self, string):\n",
    "        self.__string = string\n",
    "\n",
    "    def show_with_paren(self):\n",
    "        print('({0})'.format(self.__string))\n",
    "\n",
    "    def show_with_aster(self):\n",
    "        print('*{0}*'.format(self.__string))\n",
    "\n",
    "\n",
    "class Printer(metaclass=ABCMeta):\n",
    "    '''Target'''\n",
    "\n",
    "    @abstractmethod\n",
    "    def print_weak(self):\n",
    "        pass\n",
    "\n",
    "    @abstractmethod      \n",
    "    def print_strong(self):\n",
    "        pass    \n",
    "\n",
    "class PrinterBanner(Banner):\n",
    "    '''Adapter'''\n",
    "\n",
    "    def __init__(self, string):\n",
    "        super().__init__(string)\n",
    "\n",
    "    def print_weak(self):\n",
    "        self.show_with_paren()\n",
    "\n",
    "    def print_strong(self):\n",
    "        self.show_with_aster()\n",
    "        \n",
    "# 抽象クラスのPrinterへPrinterBanner登録\n",
    "Printer.register(PrinterBanner)\n",
    "\n",
    "if __name__ == '__main__':\n",
    "    pb = PrinterBanner('Bye')\n",
    "    pb.print_weak() \n",
    "    pb.print_strong()"
   ]
  },
  {
   "cell_type": "markdown",
   "metadata": {},
   "source": [
    "### 委譲を用いたパターン"
   ]
  },
  {
   "cell_type": "code",
   "execution_count": 3,
   "metadata": {},
   "outputs": [
    {
     "data": {
      "image/png": "[encoded data removed]",
      "text/plain": [
       "<IPython.core.display.Image object>"
      ]
     },
     "execution_count": 3,
     "metadata": {
      "image/png": {
       "height": 500,
       "width": 600
      }
     },
     "output_type": "execute_result"
    }
   ],
   "source": [
    "url='https://upload.wikimedia.org/wikipedia/commons/thumb/8/8c/Adapter_using_delegation_UML_class_diagram.svg/800px-Adapter_using_delegation_UML_class_diagram.svg.png'\n",
    "\n",
    "from IPython.display import Image\n",
    "Image(url, width=600, height=500)"
   ]
  },
  {
   "cell_type": "code",
   "execution_count": 12,
   "metadata": {},
   "outputs": [
    {
     "name": "stdout",
     "output_type": "stream",
     "text": [
      "(Bye)\n",
      "*Bye*\n"
     ]
    }
   ],
   "source": [
    "from abc import ABCMeta, abstractmethod\n",
    "\n",
    "class Banner():\n",
    "\n",
    "    def __init__(self, string):\n",
    "        self.__string = string\n",
    "\n",
    "    def show_with_paren(self):\n",
    "        print('({0})'.format(self.__string))\n",
    "\n",
    "    def show_with_aster(self):\n",
    "        print('*{0}*'.format(self.__string))\n",
    "\n",
    "class Printer(metaclass=ABCMeta):\n",
    "\n",
    "    @abstractmethod\n",
    "    def print_weak(self):\n",
    "        pass\n",
    "\n",
    "    @abstractmethod      \n",
    "    def print_strong(self):\n",
    "        pass    \n",
    "\n",
    "class PrinterBanner(Printer):\n",
    "\n",
    "    def __init__(self, string):\n",
    "        self.banner = Banner(string)\n",
    "\n",
    "    def print_weak(self):\n",
    "        self.banner.show_with_paren()\n",
    "\n",
    "    def print_strong(self):\n",
    "        self.banner.show_with_aster()    \n",
    "            \n",
    "# 抽象クラスのPrinterへPrinterBanner登録\n",
    "Printer.register(PrinterBanner)\n",
    "\n",
    "if __name__ == '__main__':\n",
    "    pb = PrinterBanner('Bye')\n",
    "    pb.print_weak() \n",
    "    pb.print_strong()"
   ]
  },
  {
   "cell_type": "markdown",
   "metadata": {},
   "source": [
    "## Decorator"
   ]
  },
  {
   "cell_type": "code",
   "execution_count": 55,
   "metadata": {},
   "outputs": [
    {
     "data": {
      "image/png": "[encoded data removed]",
      "text/plain": [
       "<IPython.core.display.Image object>"
      ]
     },
     "execution_count": 55,
     "metadata": {
      "image/png": {
       "height": 500,
       "width": 600
      }
     },
     "output_type": "execute_result"
    }
   ],
   "source": [
    "url='https://upload.wikimedia.org/wikipedia/commons/thumb/e/e9/Decorator_UML_class_diagram.svg/757px-Decorator_UML_class_diagram.svg.png'\n",
    "\n",
    "from IPython.display import Image\n",
    "Image(url, width=600, height=500)"
   ]
  },
  {
   "cell_type": "markdown",
   "metadata": {},
   "source": [
    "**既存のオブジェクトを新しい Decorator オブジェクトでラップすることである。**   \n",
    "\n",
    "その方法として、Decorator のコンストラクタの引数でラップ対象の Component オブジェクトを読み込み、  \n",
    "コンストラクタの内部でそのオブジェクトをメンバに設定する。\n",
    "Decorator パターンは、既存のクラスを拡張する際にクラスの継承の代替手段として用いられる。  \n",
    "継承がコンパイル時に機能を拡張するのに対し、Decorator パターンはプログラムの実行時に機能追加をする点が異なる。"
   ]
  },
  {
   "cell_type": "code",
   "execution_count": 18,
   "metadata": {},
   "outputs": [
    {
     "name": "stdout",
     "output_type": "stream",
     "text": [
      "hello, world!\n",
      "<b>hello, world!</b>\n",
      "<i><b>hello, world!</b></i>\n"
     ]
    }
   ],
   "source": [
    "class TextTag(object):\n",
    "    \"\"\"Component\n",
    "        Represents a base text tag\"\"\"\n",
    "    def __init__(self, text):\n",
    "        self._text = text\n",
    "\n",
    "    def render(self):\n",
    "        return self._text\n",
    "\n",
    "class BoldWrapper(TextTag):\n",
    "    \"\"\"Concrete Component and Decorator\n",
    "        Wraps a tag in <b>\"\"\"\n",
    "    def __init__(self, wrapped):\n",
    "        self._wrapped = wrapped\n",
    "\n",
    "    def render(self):\n",
    "        return \"<b>{}</b>\".format(self._wrapped.render())\n",
    "\n",
    "class ItalicWrapper(TextTag):\n",
    "    \"\"\"Concrete Component and Decorator\n",
    "        Wraps a tag in <i>\"\"\"\n",
    "    def __init__(self, wrapped):\n",
    "        self._wrapped = wrapped\n",
    "\n",
    "    def render(self):\n",
    "        return \"<i>{}</i>\".format(self._wrapped.render())\n",
    "\n",
    "if __name__ == '__main__':\n",
    "    simple_hello = TextTag(\"hello, world!\")\n",
    "    bold_hello = BoldWrapper(simple_hello)\n",
    "    special_hello = ItalicWrapper(bold_hello)\n",
    "    print(simple_hello.render())\n",
    "    print(bold_hello.render())\n",
    "    print(special_hello.render())"
   ]
  },
  {
   "cell_type": "markdown",
   "metadata": {},
   "source": [
    "## Bridge"
   ]
  },
  {
   "cell_type": "code",
   "execution_count": 26,
   "metadata": {},
   "outputs": [
    {
     "data": {
      "image/png": "[encoded data removed]",
      "text/plain": [
       "<IPython.core.display.Image object>"
      ]
     },
     "execution_count": 26,
     "metadata": {
      "image/png": {
       "height": 500,
       "width": 600
      }
     },
     "output_type": "execute_result"
    }
   ],
   "source": [
    "url='https://upload.wikimedia.org/wikipedia/commons/thumb/c/cf/Bridge_UML_class_diagram.svg/800px-Bridge_UML_class_diagram.svg.png'\n",
    "\n",
    "from IPython.display import Image\n",
    "Image(url, width=600, height=500)"
   ]
  },
  {
   "cell_type": "markdown",
   "metadata": {},
   "source": [
    "**機能の組み合わせと実装を分割する**"
   ]
  },
  {
   "cell_type": "markdown",
   "metadata": {},
   "source": [
    "「橋渡し」のクラスを用意することによって、クラスを複数の方向に拡張させることを目的とする。  \n",
    "あるクラスclsがあって、clsに新しい機能を追加する（新しいメソッドの追加）ときにはclsのサブクラスとしてcls2をつくる。\n",
    "\n",
    "これで一段階のクラス階層ができる。さらにcls2に新しい機能を追加するならcls2のサブクラスcls3をつくる。これで二段階の\n",
    "\n",
    "クラス階層ができて、この階層は機能の追加のためにつくられた階層となる。これを機能のクラス階層とすると。\n",
    "\n",
    "これに対して、あるクラスclsではメソッドの宣言だけを行い、そのメソッドの実装をclsのサブクラスcls2で行った場合、clsとcls2に\n",
    "\n",
    "よってできるクラス階層を実装のクラス階層とする。\n",
    "\n",
    "クラス階層が１つだと機能のクラス階層と実装のクラス階層が混ざってしまい、クラス階層が複雑になりプログラムの見通しが悪く\n",
    "\n",
    "なる危険がある。そこで、機能のクラス階層と実装のクラス階層を２つの独立したクラス階層に分けることが大事みたい。しかし、分けただけではダメで２つのクラス階層をつなぐことが必要。Bridgeパターンはそのつなぐ役割を果たす。"
   ]
  },
  {
   "cell_type": "code",
   "execution_count": null,
   "metadata": {},
   "outputs": [],
   "source": [
    "import sys\n",
    "from abc import ABCMeta, abstractmethod\n",
    "\n",
    "class Display():\n",
    "    '''Abstraction\n",
    "        機能のクラス 1'''\n",
    "    def __init__(self, impl):\n",
    "        self.impl = impl\n",
    "    def opening(self):\n",
    "        self.impl.rawOpening()\n",
    "    def printing(self):\n",
    "        self.impl.rawPrinting()\n",
    "    def closing(self):\n",
    "        self.impl.rawClosing()\n",
    "    def display(self):\n",
    "        self.opening()\n",
    "        self.printing()\n",
    "        self.closing()\n",
    "\n",
    "class CountDisplay(Display):\n",
    "    '''Refine Abstraction\n",
    "        機能のクラス 2'''\n",
    "    def __init__(self, impl):\n",
    "        super().__init__(impl)\n",
    "        \n",
    "    def multiDisplay(self, times):\n",
    "        self.opening()\n",
    "        for i in range(times):\n",
    "            self.printing()\n",
    "        self.closing()\n",
    "\n",
    "class IncreasingDisplay(CountDisplay):\n",
    "    '''Refine Abstractioin\n",
    "        機能のクラス 3'''\n",
    "    def __init__(self, impl):\n",
    "        super().__init__(impl)\n",
    "        \n",
    "    def increasing_Display(self, max_number):\n",
    "        self.max_number = max_number\n",
    "        for i in range(1, max_number+1):\n",
    "            self.multiDisplay(i)\n",
    "            \n",
    "class DisplayImpl(metaclass=ABCMeta):\n",
    "    '''Concrete Implementer\n",
    "        実装のクラス 1'''\n",
    "    @abstractmethod\n",
    "    def rawOpening(self):\n",
    "        pass\n",
    "    @abstractmethod\n",
    "    def rawPrinting(self):\n",
    "        pass\n",
    "    @abstractmethod\n",
    "    def rawClosing(self):\n",
    "        pass\n",
    "\n",
    "class StringDisplayImpl(DisplayImpl):\n",
    "    '''Concrete Implementer\n",
    "        実装のクラス 2-1'''\n",
    "    def __init__(self, st):\n",
    "        self.st = st\n",
    "        self.width = len(st)\n",
    "    def rawOpening(self):\n",
    "        self.printLine()\n",
    "    def rawPrinting(self):\n",
    "        print(\"|%s|\" %self.st)\n",
    "    def rawClosing(self):\n",
    "        self.printLine()\n",
    "    def printLine(self):\n",
    "        print(\"+%s+\" %(\"-\"*self.width))\n",
    "\n",
    "if __name__==\"__main__\":\n",
    "    d1 = Display(StringDisplayImpl(\"Hello, Plainer.\"))\n",
    "    d2 = CountDisplay(StringDisplayImpl(\"Hello, Counterant.\"))\n",
    "    d3 = IncreasingDisplay(StringDisplayImpl(\"Hello, Increasant.\"))\n",
    "    d1.display()\n",
    "    d2.multiDisplay(4)\n",
    "    d3.increasing_Display(3)"
   ]
  },
  {
   "cell_type": "markdown",
   "metadata": {},
   "source": [
    "## Facade"
   ]
  },
  {
   "cell_type": "code",
   "execution_count": 1,
   "metadata": {},
   "outputs": [
    {
     "data": {
      "image/png": "[encoded data removed]",
      "text/plain": [
       "<IPython.core.display.Image object>"
      ]
     },
     "execution_count": 1,
     "metadata": {
      "image/png": {
       "height": 500,
       "width": 600
      }
     },
     "output_type": "execute_result"
    }
   ],
   "source": [
    "url='https://upload.wikimedia.org/wikipedia/commons/thumb/d/d4/Facade_UML_class_diagram.svg/800px-Facade_UML_class_diagram.svg.png'\n",
    "\n",
    "from IPython.display import Image\n",
    "Image(url, width=600, height=500)"
   ]
  },
  {
   "cell_type": "markdown",
   "metadata": {},
   "source": [
    "**モジュールを組み合わせて使う**"
   ]
  },
  {
   "cell_type": "markdown",
   "metadata": {},
   "source": [
    "Facade（ファサード）とは「建物の正面」を意味する。  \n",
    "異なるサブシステムを単純な操作だけを持ったFacadeクラスで結び、サブシステム間の独立性を高める事を目的とする。\n",
    "\n",
    "\n",
    "Facadeパターンの例として、サブシステムとしてのコンパイラーを考える。  \n",
    "システムとしてのコンパイラーは字句解析器や構文解析器などから構成されている。  \n",
    "これらの構成要素は、新たなコンパイラーやその他ソフトウェアを作成する上でサブシステムとして利用することが出来る。  \n",
    "しかし、一般ユーザーにとってコンパイラーはソースコードからプログラムを生成するためのものであり、  \n",
    "ソースコードをコンパイルできる機能があれば十分である。  \n",
    "そこでサブシステムから一般ユーザーのために一般ユーザーが必要としているコンパイル機能だけを呼び出すクラスを提供する。  \n",
    "ここで提供されたコンパイル機能を持つクラスがFacadeクラスである。  \n",
    "Facadeクラスが提供された事により一般ユーザーはサブシステムの詳細を知る必要がなくなり、サブシステムの実装から解放されるのである。\n",
    "\n",
    "Facadeパターンの要件\n",
    "\n",
    "* Facadeクラスはあくまでサブシステム内部に仕事を投げるだけで複雑な実装は持たない。\n",
    "* 多様な機能の塊であるサブシステムから、サブシステムを利用するユーザーの用途に合わせた窓口(インターフェース)を提供するだけである。\n",
    "* Facadeクラスをサブシステム自体が利用する事はない。\n",
    "* Facadeクラスはあくまでサブシステム末端の窓口であるため、同じサブシステムから利用される事はない。\n",
    "* Facadeパターンはサブシステムの直接使用を妨げない。\n",
    "* Facadeクラスの利用は強制ではなく、必要であればサブシステムの機能を直接利用できる。言語によっては無名名前空間やPackageスコープによりサブシステムを利用者から隔離できるが、Facadeパターンはそのような制限はしない。 "
   ]
  },
  {
   "cell_type": "code",
   "execution_count": 2,
   "metadata": {},
   "outputs": [
    {
     "name": "stdout",
     "output_type": "stream",
     "text": [
      "Freezing processor.\n",
      "Loading from 0x00 data: 'Some data from sector 100 with size 1024'.\n",
      "Jumping to: 0x00\n"
     ]
    }
   ],
   "source": [
    "# Complex computer parts\n",
    "class CPU():\n",
    "    \"\"\"\n",
    "    Module\n",
    "    Simple CPU representation.\n",
    "    \"\"\"\n",
    "    def freeze(self):\n",
    "        print(\"Freezing processor.\")\n",
    "\n",
    "    def jump(self, position):\n",
    "        print(\"Jumping to:\", position)\n",
    "\n",
    "    def execute(self):\n",
    "        print(\"Executing.\")\n",
    "\n",
    "class Memory():\n",
    "    \"\"\"\n",
    "    Module\n",
    "    Simple memory representation.\n",
    "    \"\"\"\n",
    "    def load(self, position, data):\n",
    "        print(\"Loading from {0} data: '{1}'.\".format(position, data))\n",
    "\n",
    "\n",
    "class SolidStateDrive():\n",
    "    \"\"\"\n",
    "    Module\n",
    "    Simple solid state drive representation.\n",
    "    \"\"\"\n",
    "    def read(self, lba, size):\n",
    "        return \"Some data from sector {0} with size {1}\".format(lba, size)\n",
    "\n",
    "class ComputerFacade():\n",
    "    \"\"\"\n",
    "    Faceda\n",
    "    Represents a facade for varius computer parts.\n",
    "    \"\"\"\n",
    "    def __init__(self):\n",
    "        self.cpu = CPU()\n",
    "        self.memory = Memory()\n",
    "        self.ssd = SolidStateDrive()\n",
    "\n",
    "    def start(self):\n",
    "        self.cpu.freeze()\n",
    "        self.memory.load(\"0x00\", self.ssd.read(\"100\", \"1024\"))\n",
    "        self.cpu.jump(\"0x00\")\n",
    "        self.cpu.execute\n",
    "\n",
    "computer_facade = ComputerFacade()\n",
    "computer_facade.start()"
   ]
  },
  {
   "cell_type": "markdown",
   "metadata": {},
   "source": [
    "## Flyweight"
   ]
  },
  {
   "cell_type": "code",
   "execution_count": 4,
   "metadata": {},
   "outputs": [
    {
     "data": {
      "image/png": "[encoded data removed]",
      "text/plain": [
       "<IPython.core.display.Image object>"
      ]
     },
     "execution_count": 4,
     "metadata": {
      "image/png": {
       "height": 500,
       "width": 600
      }
     },
     "output_type": "execute_result"
    }
   ],
   "source": [
    "url='https://upload.wikimedia.org/wikipedia/commons/thumb/b/be/Flyweight_UML_class_diagram.svg/800px-Flyweight_UML_class_diagram.svg.png'\n",
    "from IPython.display import Image\n",
    "Image(url, width=600, height=500)"
   ]
  },
  {
   "cell_type": "markdown",
   "metadata": {},
   "source": [
    "**インスタンスを使いまわす**"
   ]
  },
  {
   "cell_type": "markdown",
   "metadata": {},
   "source": [
    "等価なインスタンスを別々の箇所で使用する際に、一つのインスタンスを再利用することによってプログラムを省リソース化することを目的とする。\n",
    "\n",
    "FlyweightFactory クラスは Flyweight インスタンスのコンテナをメンバ変数として持ち、Flyweight オブジェクトを返すメンバ関数 getFlyweight() を実装する。\n",
    "\n",
    "Flyweight パターンで設計された API では、利用者は Flyweight クラスにあたるインスタンスを取得する場合に、直接そのクラスのコンストラクタを呼び出す代わりに FlyweightFactory#getFlyweight() にアクセスする。   \n",
    "一方、呼び出された FlyweightFactory オブジェクトは、状況に応じて以下のように振舞う。\n",
    "\n",
    "その時点で対象のインスタンスが生成されていない場合\n",
    "\n",
    "1. 対象のインスタンスを新たに生成する。\n",
    "1. 生成したインスタンスをプールする（言い換えると、メンバのコンテナオブジェクトに格納する）。\n",
    "1. 生成されたインスタンスを返す。\n",
    "\n",
    "対象のインスタンスが既に生成されていた場合\n",
    "\n",
    "1. 対象のインスタンスをプールから呼び出す。\n",
    "1. 対象のインスタンスを返す。\n",
    "\n",
    "このように FlyweightFactory では状況によって異なる処理が行われるが、利用者側が得る結果は全く同じであるため、  \n",
    "利用者は FlyweightFactory の内部構造を意識せずに使うことが出来るという点が特徴である。\n",
    "\n",
    "Flyweight パターンを採用すべき典型的な例は、不変なクラスを扱う場合である。  \n",
    "不変なクラスとはインスタンスが生成された後にそのインスタンスの状態が変化しないようなイミュータブルなクラスである。"
   ]
  },
  {
   "cell_type": "code",
   "execution_count": 24,
   "metadata": {},
   "outputs": [
    {
     "name": "stdout",
     "output_type": "stream",
     "text": [
      "Flyweight.__new__(<class '__main__.Flyweight'>, 'a')\n",
      "  Flyweight.return <__main__.Flyweight object at 0x7feee8062d30>\n",
      "Flyweight.__init__(<__main__.Flyweight object at 0x7feee8062d30>, 'a')\n",
      "Flyweight.__new__(<class '__main__.Flyweight'>, 'b')\n",
      "  Flyweight.return <__main__.Flyweight object at 0x7feee80622b0>\n",
      "Flyweight.__init__(<__main__.Flyweight object at 0x7feee80622b0>, 'b')\n",
      "Flyweight.__new__(<class '__main__.Flyweight'>, 'a')\n",
      "  Flyweight.return <__main__.Flyweight object at 0x7feee8062d30>\n",
      "Flyweight.__init__(<__main__.Flyweight object at 0x7feee8062d30>, 'a')\n"
     ]
    }
   ],
   "source": [
    "class Flyweight():\n",
    "    '''FlyweightFactory\n",
    "        pythonにはもともとFlyweightの機能がある'''\n",
    "    # クラス変数\n",
    "    _InstancePool = {}\n",
    " \n",
    "    def __new__(cls, name):\n",
    "        '''クラスメソッド\n",
    "            インスタンス生成に使う'''\n",
    "        print(\"Flyweight.__new__({}, {})\".format(cls, repr(name)))\n",
    "        obj = Flyweight._InstancePool.get(name, None)\n",
    " \n",
    "        if not obj:\n",
    "            # 新しいインスタンスを生成する\n",
    "            obj = object.__new__(cls)\n",
    "            Flyweight._InstancePool[name] = obj\n",
    " \n",
    "        print(\"  Flyweight.return {}\".format(obj))\n",
    "        return obj\n",
    " \n",
    "    def __init__(self, name):\n",
    "        '''インスタンスのメソッド\n",
    "            初期化に使う'''\n",
    "        print(\"Flyweight.__init__({}, {})\".format(self, repr(name)))\n",
    "        self.name = name\n",
    "        \n",
    "if __name__==\"__main__\":\n",
    "    a = Flyweight('a')\n",
    "    b = Flyweight('b')\n",
    "    a = Flyweight('a')"
   ]
  },
  {
   "cell_type": "markdown",
   "metadata": {},
   "source": [
    "## Proxy"
   ]
  },
  {
   "cell_type": "code",
   "execution_count": 25,
   "metadata": {},
   "outputs": [
    {
     "data": {
      "image/png": "[encoded data removed]",
      "text/plain": [
       "<IPython.core.display.Image object>"
      ]
     },
     "execution_count": 25,
     "metadata": {
      "image/png": {
       "height": 500,
       "width": 600
      }
     },
     "output_type": "execute_result"
    }
   ],
   "source": [
    "url='https://upload.wikimedia.org/wikipedia/commons/thumb/7/75/Proxy_pattern_diagram.svg/439px-Proxy_pattern_diagram.svg.png'\n",
    "from IPython.display import Image\n",
    "Image(url, width=600, height=500)"
   ]
  },
  {
   "cell_type": "markdown",
   "metadata": {},
   "source": [
    "**同じクラスのインスタンスを間に挟む**"
   ]
  },
  {
   "cell_type": "markdown",
   "metadata": {},
   "source": [
    "Proxy（プロキシ、代理人）とは、大まかに言えば、別の物のインタフェースとして機能するクラスである。  \n",
    "その「別の物」とは何でもよく、ネットワーク接続だったり、複製がコスト高あるいは不可能な何らかのリソースなどである。\n",
    "\n",
    "Proxy パターンのよく知られている例として、参照カウント付きポインタオブジェクトがある。\n",
    "\n",
    "複雑なオブジェクトの複数のコピーが必須となる状況では、Proxy パターンに Flyweight パターンを加えることでメモリ使用量を抑えることができる。  \n",
    "通常、複雑なオブジェクトのインスタンスは1つだけ生成し、プロキシオブジェクトを複数生成する。  \n",
    "それらプロキシオブジェクトは唯一の複雑なオブジェクトへの参照を含む。  \n",
    "プロキシへの操作は、オリジナルのオブジェクトにフォワードされる。  \n",
    "プロキシオブジェクトが全て破棄されると、参照されていた複雑なオブジェクトの使用していたメモリも解放される。"
   ]
  },
  {
   "cell_type": "code",
   "execution_count": 30,
   "metadata": {},
   "outputs": [
    {
     "name": "stdout",
     "output_type": "stream",
     "text": [
      "Sorry Kid, you are too young to drive.\n",
      "HOOOOOOOO!\n"
     ]
    }
   ],
   "source": [
    "from abc import ABCMeta, abstractmethod\n",
    "\n",
    "NOT_IMPLEMENTED = \"You should implement this.\"\n",
    "\n",
    "class AbstractCar(metaclass=ABCMeta):\n",
    "    '''Subject'''\n",
    "\n",
    "    @abstractmethod\n",
    "    def drive(self):\n",
    "        raise NotImplementedError(NOT_IMPLEMENTED)\n",
    "\n",
    "class Car(AbstractCar):\n",
    "    '''Real Subject'''\n",
    "    def drive(self):\n",
    "        print(\"HOOOOOOOO!\")\n",
    "\n",
    "class Driver():\n",
    "    def __init__(self, age):\n",
    "        self.age = age\n",
    "\n",
    "class theWallofAge(AbstractCar):\n",
    "    '''Proxy'''\n",
    "    def __init__(self, driver):\n",
    "        self.car = Car()\n",
    "        self.driver = driver\n",
    "\n",
    "    def drive(self):\n",
    "        if self.driver.age <= 16:\n",
    "            print(\"Sorry Kid, you are too young to drive.\")\n",
    "        else:\n",
    "            self.car.drive()\n",
    "\n",
    "if __name__==\"__main__\":\n",
    "    driver = Driver(16)\n",
    "    car = theWallofAge(driver)\n",
    "    car.drive()\n",
    "\n",
    "    driver = Driver(25)\n",
    "    car = theWallofAge(driver)\n",
    "    car.drive()\n"
   ]
  },
  {
   "cell_type": "markdown",
   "metadata": {},
   "source": [
    "# 振る舞いに関するパターン"
   ]
  },
  {
   "cell_type": "markdown",
   "metadata": {},
   "source": [
    "## Iterator"
   ]
  },
  {
   "cell_type": "code",
   "execution_count": 13,
   "metadata": {},
   "outputs": [
    {
     "data": {
      "image/png": "[encoded data removed]",
      "text/plain": [
       "<IPython.core.display.Image object>"
      ]
     },
     "execution_count": 13,
     "metadata": {
      "image/png": {
       "height": 500,
       "width": 600
      }
     },
     "output_type": "execute_result"
    }
   ],
   "source": [
    "url='https://upload.wikimedia.org/wikipedia/commons/thumb/1/13/Iterator_UML_class_diagram.svg/800px-Iterator_UML_class_diagram.svg.png'\n",
    "\n",
    "from IPython.display import Image\n",
    "Image(url, width=600, height=500)"
   ]
  },
  {
   "cell_type": "markdown",
   "metadata": {},
   "source": [
    "**どんなものでも同じようにイテレーションする**"
   ]
  },
  {
   "cell_type": "code",
   "execution_count": 33,
   "metadata": {},
   "outputs": [
    {
     "name": "stdout",
     "output_type": "stream",
     "text": [
      "A\n",
      "B\n",
      "C\n",
      "D\n"
     ]
    }
   ],
   "source": [
    "from abc import ABCMeta, abstractmethod\n",
    "\n",
    "class Iterator(metaclass=ABCMeta):\n",
    "    '''Iterator'''\n",
    "    @abstractmethod\n",
    "    def hasNext(self):\n",
    "        pass\n",
    "    \n",
    "    @abstractmethod\n",
    "    def next():\n",
    "        pass\n",
    "\n",
    "class ConcreteIterator(Iterator):\n",
    "    '''ConcreteIterator'''\n",
    "    def __init__(self, concreteAggregate):\n",
    "        self.concreteAggregate = concreteAggregate\n",
    "        self.index = 0\n",
    "        \n",
    "    def hasNext(self):\n",
    "        if self.index < self.concreteAggregate.getSize():\n",
    "            return True\n",
    "        else:\n",
    "            return False\n",
    "        \n",
    "    def next(self):\n",
    "        self.index += 1\n",
    "        return self.concreteAggregate.getItemAt(self.index - 1)\n",
    "\n",
    "class Aggregate(metaclass=ABCMeta):\n",
    "    '''Aggregate'''\n",
    "    @abstractmethod\n",
    "    def iterator(self):\n",
    "        pass\n",
    "    \n",
    "class ConcreteAggregate(Aggregate):\n",
    "    '''Concrete Aggregate'''\n",
    "    def __init__(self):\n",
    "        super()\n",
    "        self.items = []\n",
    "        \n",
    "    def addItem(self, item):\n",
    "        self.items.append(item)\n",
    "        \n",
    "    def getSize(self):\n",
    "        return len(self.items)\n",
    "    \n",
    "    def getItemAt(self, index):\n",
    "        return self.items[index]\n",
    "    \n",
    "    def iterator(self):\n",
    "        return ConcreteIterator(self)\n",
    "\n",
    "class Item():\n",
    "    def __init__(self, name):\n",
    "        self.name = name\n",
    "        \n",
    "    def Item(self, name):\n",
    "        self.name = name\n",
    "        \n",
    "    def getName(self):\n",
    "        return self.name;\n",
    "\n",
    "if __name__ == '__main__':\n",
    "    a = ConcreteAggregate()\n",
    "    a.addItem(Item(\"A\"))\n",
    "    a.addItem(Item(\"B\"))\n",
    "    a.addItem(Item(\"C\"))\n",
    "    a.addItem(Item(\"D\"))\n",
    "    it = a.iterator()\n",
    "    while it.hasNext():\n",
    "        item = it.next()\n",
    "        print(item.getName())"
   ]
  },
  {
   "cell_type": "markdown",
   "metadata": {},
   "source": [
    "## Strategy"
   ]
  },
  {
   "cell_type": "code",
   "execution_count": 53,
   "metadata": {},
   "outputs": [
    {
     "data": {
      "image/png": "[encoded data removed]",
      "text/plain": [
       "<IPython.core.display.Image object>"
      ]
     },
     "execution_count": 53,
     "metadata": {
      "image/png": {
       "height": 500,
       "width": 600
      }
     },
     "output_type": "execute_result"
    }
   ],
   "source": [
    "url='https://upload.wikimedia.org/wikipedia/commons/thumb/0/08/StrategyPatternClassDiagram.svg/757px-StrategyPatternClassDiagram.svg.png'\n",
    "\n",
    "from IPython.display import Image\n",
    "Image(url, width=600, height=500)"
   ]
  },
  {
   "cell_type": "markdown",
   "metadata": {},
   "source": [
    "**ifを使わず内部処理を変える**"
   ]
  },
  {
   "cell_type": "markdown",
   "metadata": {},
   "source": [
    "状況によってアルゴリズムを変更する必要がある場合に有効。  \n",
    "if分の分岐内にアルゴリズムをかき分ける必要がなくなる。\n",
    "\n",
    "各アルゴリズムをカプセル化しアルゴリズムを呼び出すインターフェイスのみ提供する。  \n",
    "クライアントはそのアルゴリズムの実装については知っている必要がない。"
   ]
  },
  {
   "cell_type": "code",
   "execution_count": 14,
   "metadata": {},
   "outputs": [
    {
     "name": "stdout",
     "output_type": "stream",
     "text": [
      "execute 1\n",
      "execute 2\n"
     ]
    }
   ],
   "source": [
    "from abc import ABCMeta, abstractmethod\n",
    "\n",
    "class AbstractStrategy:\n",
    "    '''Abstract Strategy'''\n",
    "    def __init__(self):\n",
    "        pass\n",
    "        \n",
    "    @abstractmethod\n",
    "    def execute(self):\n",
    "        pass\n",
    "\n",
    "class ConcreteStrategy1(AbstractStrategy):\n",
    "    '''Concrete Strategy'''\n",
    "    def __init__(self):\n",
    "        pass\n",
    "    \n",
    "    def execute(self):\n",
    "        print('execute 1')\n",
    "\n",
    "class ConcreteStrategy2(AbstractStrategy):\n",
    "    '''Concrete Strategy'''\n",
    "    def __init__(self):\n",
    "        pass\n",
    "        \n",
    "    def execute(self):\n",
    "        print('execute 2')\n",
    "        \n",
    "class Context():\n",
    "    '''Context'''\n",
    "    def __init__(self, strategy):\n",
    "        self.strategy = strategy\n",
    "\n",
    "    def execute(self):\n",
    "        self.strategy.execute();\n",
    "        \n",
    "if __name__ == '__main__':\n",
    "    context1 = Context(ConcreteStrategy1())\n",
    "    context2 = Context(ConcreteStrategy2())\n",
    "\n",
    "    context1.execute()\n",
    "    context2.execute()"
   ]
  },
  {
   "cell_type": "markdown",
   "metadata": {},
   "source": [
    "## Template Method"
   ]
  },
  {
   "cell_type": "code",
   "execution_count": 31,
   "metadata": {},
   "outputs": [
    {
     "data": {
      "image/png": "[encoded data removed]",
      "text/plain": [
       "<IPython.core.display.Image object>"
      ]
     },
     "execution_count": 31,
     "metadata": {
      "image/png": {
       "height": 500,
       "width": 600
      }
     },
     "output_type": "execute_result"
    }
   ],
   "source": [
    "url='https://upload.wikimedia.org/wikipedia/commons/thumb/2/2a/Template_Method_UML_class_diagram.svg/800px-Template_Method_UML_class_diagram.svg.png\n",
    "\n",
    "from IPython.display import Image\n",
    "Image(url, width=600, height=500)"
   ]
  },
  {
   "cell_type": "markdown",
   "metadata": {},
   "source": [
    "**親クラスで大枠を決めて、子クラスで実装**"
   ]
  },
  {
   "cell_type": "markdown",
   "metadata": {},
   "source": [
    "スーパークラスで処理の枠組みを定め、サブクラスでその具体的内容を定めるようなデザインパターン。   \n",
    "つまり、スーパークラスのテンプレートメソッドでアルゴリズムが記述されていますので、サブクラス側では アルゴリズムをいちいち記述する必要がなくなる。  \n",
    "そして、Template Methodパターンでプログラミングしていれば、テンプレートメソッドに誤りが発見された場合でも、テンプレートメソッドさえ修正すればよいというその後の修正の手間を抑えることができる。\n",
    "\n",
    "つまり、おおまかなアルゴリズムをあらかじめスーパークラスで決めて、アルゴリズムの具体的な設計と処理はサブクラスで行うこと。\n"
   ]
  },
  {
   "cell_type": "code",
   "execution_count": 36,
   "metadata": {},
   "outputs": [
    {
     "name": "stdout",
     "output_type": "stream",
     "text": [
      "+------------+\n",
      "\n",
      "|Hello, World|\n",
      "|Hello, World|\n",
      "|Hello, World|\n",
      "|Hello, World|\n",
      "|Hello, World|\n",
      "+------------+\n",
      "\n",
      "+-----+\n",
      "\n",
      "|こんにちわ|\n",
      "|こんにちわ|\n",
      "|こんにちわ|\n",
      "|こんにちわ|\n",
      "|こんにちわ|\n",
      "+-----+\n",
      "\n"
     ]
    }
   ],
   "source": [
    "from abc import ABCMeta, abstractmethod\n",
    "\n",
    "class AbstractDisplay(metaclass=ABCMeta):\n",
    "    '''Abstract Class'''\n",
    "    @abstractmethod \n",
    "    def opening(self):\n",
    "        pass\n",
    "\n",
    "    @abstractmethod     \n",
    "    def printing(self):\n",
    "        pass\n",
    "\n",
    "    @abstractmethod \n",
    "    def closing(self):\n",
    "        pass\n",
    "\n",
    "    def display(self):\n",
    "        self.opening()\n",
    "        for i in range(5):\n",
    "            self.printing()\n",
    "        self.closing()\n",
    "\n",
    "class StringDisplay(AbstractDisplay):\n",
    "    '''Concrete Class'''\n",
    "    def __init__(self, string):\n",
    "        self.__string = string\n",
    "        self.__width = len(string)\n",
    "\n",
    "    def opening(self):\n",
    "        self.__print_line()\n",
    "\n",
    "    def printing(self):\n",
    "        print('|' + self.__string + '|')\n",
    "\n",
    "    def closing(self):\n",
    "        self.__print_line() \n",
    "\n",
    "    def __print_line(self):\n",
    "        print(''.join(('+', '-' * self.__width, '+\\n')))  # printを使うと出力直後に空白が一文字出てしまうので\n",
    "\n",
    "if __name__ == '__main__':\n",
    "    d1 = StringDisplay('Hello, World')\n",
    "    d2 = StringDisplay('こんにちわ')\n",
    "\n",
    "    d1.display()\n",
    "    d2.display()"
   ]
  },
  {
   "cell_type": "markdown",
   "metadata": {},
   "source": [
    "## Visiter"
   ]
  },
  {
   "cell_type": "code",
   "execution_count": 37,
   "metadata": {},
   "outputs": [
    {
     "data": {
      "image/png": "[encoded data removed]",
      "text/plain": [
       "<IPython.core.display.Image object>"
      ]
     },
     "execution_count": 37,
     "metadata": {
      "image/png": {
       "height": 500,
       "width": 600
      }
     },
     "output_type": "execute_result"
    }
   ],
   "source": [
    "url='https://upload.wikimedia.org/wikipedia/commons/8/8d/VisitorClassDiagram.png'\n",
    "\n",
    "from IPython.display import Image\n",
    "Image(url, width=600, height=500)"
   ]
  },
  {
   "cell_type": "markdown",
   "metadata": {},
   "source": [
    "分離による実用的な結果として、既存のオブジェクトに対する新たな操作を構造を変更せずに追加することができる。\n",
    "\n",
    "基本的には Visitor パターンは一群のクラスに対して新たな仮想関数をクラス自体を変更せずに追加できるようにする。  \n",
    "そのために、全ての仮想関数を適切に特化させた Visitor クラスを作成する。  \n",
    "\n",
    "\n",
    "Visitor パターンの基本的な考えとして、visitor を引数として受け取る accept() メソッドを持ったクラスを複数、要素として持つ構造をとる。  \n",
    "\n",
    "Visitorオブジェクト:\n",
    "> visit()は複数の特化したメソッドで明示されている主たる関数。Visitor は各要素クラスごとにaccept() メソッドを持つインタフェースである。\n",
    "\n",
    "Elementオブジェクト:\n",
    "> accept() 関数は、特定の型のオブジェクトを順次走査して各要素に関数を適用する方法を知っている利用者、マッパーである。  \n",
    "\n",
    "特定の処理を実行する個別の具体的なvisitorクラスを作成することができる。  \n",
    "具体的な visitor の visit()メソッドは、一つのクラスのメソッドとして考えるものではなく、二つのクラスのペア、すなわち具体的な visitor と特定の要素クラスに対するメソッドとして考えることができる。  \n",
    "\n",
    "Visitor パターンは、オブジェクトの構造に繰り返しをどのように行うかを指定する。  \n",
    "最も簡単な場合、各アルゴリズムが繰り返しを全く同じように行う場合、コンテナ要素の accept() メソッドは、visitor の visit() メソッドをコールバックするだけではなく、visitor オブジェクトを 全ての子要素の accept() メソッドに渡す。\n",
    "\n",
    "利点の1つとして、複数の要素オブジェクトを横断して操作を行うことにより、新しい操作を追加するときに既存のオブジェクトのコードやデータ構造を変更しなくて済むという\"関心の分離\"につながります。"
   ]
  },
  {
   "cell_type": "code",
   "execution_count": null,
   "metadata": {},
   "outputs": [],
   "source": [
    "from abc import ABCMeta, abstractmethod\n",
    "\n",
    "class Visitor(metaclass=ABCMeta):\n",
    "    '''Visitor'''\n",
    "    @abstractmethod\n",
    "    def visit(self, acceptor): pass\n",
    "\n",
    "class Element(metaclass=ABCMeta):\n",
    "    '''Element'''\n",
    "    @abstractmethod\n",
    "    def accept(self, visitor): pass\n",
    "\n",
    "class EHAShop(Element):\n",
    "    '''Concrete Element'''\n",
    "    def __init__(self):\n",
    "        self.items = ['tv', 'pc', 'mobile', 'camera']\n",
    "        \n",
    "    def accept(self, visitor):\n",
    "        visitor.visit(self.items)\n",
    "\n",
    "class ErogeShop(Element):\n",
    "    '''Concrete Element'''\n",
    "    def __init__(self):\n",
    "        self.items = ['eroge', 'eroge', 'eroge']\n",
    "    def accept(self, visitor):\n",
    "        visitor.visit(self.items)\n",
    "\n",
    "class ErogeOtaku(Visitor):\n",
    "    '''Concrete Visitor'''\n",
    "    def visit(self, items):\n",
    "        for i in items:\n",
    "            if i == 'eroge':\n",
    "                print(u\"エロゲゲット\")\n",
    "            else:\n",
    "                print(u\"エロゲが無くて（´･ω･`）ｼｮﾎﾞｰﾝ\")\n",
    "    \n",
    "if __name__ == \"__main__\":\n",
    "    '''Client'''\n",
    "    kojima = EHAShop()\n",
    "    getchu = ErogeShop()\n",
    "    taro = ErogeOtaku()\n",
    "    \n",
    "    kojima.accept(taro)\n",
    "    getchu.accept(taro)"
   ]
  },
  {
   "cell_type": "markdown",
   "metadata": {},
   "source": [
    "## Chain of Responsibility"
   ]
  },
  {
   "cell_type": "code",
   "execution_count": 7,
   "metadata": {},
   "outputs": [
    {
     "data": {
      "image/gif": "[encoded data removed]",
      "text/plain": [
       "<IPython.core.display.Image object>"
      ]
     },
     "execution_count": 7,
     "metadata": {
      "image/gif": {
       "height": 500,
       "width": 600
      }
     },
     "output_type": "execute_result"
    }
   ],
   "source": [
    "url='http://www.itsenka.com/images/development/designpattern/designpattern-chain_of_responsibility01.gif'\n",
    "from IPython.display import Image\n",
    "Image(url, width=600, height=500)"
   ]
  },
  {
   "cell_type": "markdown",
   "metadata": {},
   "source": [
    "一つの コマンドオブジェクトと一連の 処理オブジェクトから構成される。  \n",
    "各処理オブジェクトは、処理できるコマンドオブジェクトの種類と、自身が処理できないコマンドオブジェクトをチェーン内の次の処理オブジェクトに渡す方法を記述する情報を保持する。  \n",
    "また、新たな処理オブジェクトをチェーンの最後に追加する機構を備える。\n",
    "\n",
    "標準的な chain-of-responsibility のモデルの派生ハンドラーがディスパッチャとして動作し、  \n",
    "コマンドを様々な方向に送出できるようにすることで、いわば tree of responsibility を形成しているものもある。\n",
    "\n",
    "また、これを再帰的に行うケースもあり、処理オブジェクトが上位の処理オブジェクトを、問題の一部を解決するコマンドとともに呼び出すこともある。    \n",
    "こうした場合再帰はコマンドが処理されるか、全てのツリーを巡回するまで継続される。  "
   ]
  },
  {
   "cell_type": "code",
   "execution_count": 10,
   "metadata": {},
   "outputs": [
    {
     "name": "stdout",
     "output_type": "stream",
     "text": [
      "Softmap\n",
      "Getchu\n",
      "True\n"
     ]
    }
   ],
   "source": [
    "from abc import ABCMeta, abstractmethod\n",
    "\n",
    "class Shop(metaclass=ABCMeta):\n",
    "    '''Handler'''\n",
    "    \n",
    "    @abstractmethod\n",
    "    def __init__(self):\n",
    "        self.__nextshop = None\n",
    "    \n",
    "    def set_next(self, nextshop):\n",
    "        self.__nextshop = nextshop\n",
    "        return self\n",
    "    \n",
    "    @abstractmethod\n",
    "    def has_eroge(self): pass\n",
    "    \n",
    "    def buy_eroge(self):\n",
    "        if self.has_eroge():\n",
    "            return True\n",
    "        elif self.__nextshop is not None:\n",
    "            return self.__nextshop.buy_eroge()\n",
    "        else:\n",
    "            return False\n",
    "\n",
    "class Softmap(Shop):\n",
    "    '''Concrete Handler'''\n",
    "    def __init__(self):\n",
    "        super(Softmap, self).__init__()\n",
    "    \n",
    "    def set_next(self, nextshop):\n",
    "        return super(Softmap, self).set_next(nextshop)\n",
    "\n",
    "    def has_eroge(self):\n",
    "        return False\n",
    "\n",
    "    def buy_eroge(self):\n",
    "        print(\"Softmap\")\n",
    "        return super(Softmap, self).buy_eroge()\n",
    "\n",
    "class Getchu(Shop):\n",
    "    '''Concrete Handler'''\n",
    "    def __init__(self):\n",
    "        super(Getchu, self).__init__()\n",
    "    \n",
    "    def set_next(self, nextshop):\n",
    "        return super(Getchu, self).set_next(nextshop)\n",
    "\n",
    "    def has_eroge(self):\n",
    "        return True\n",
    "\n",
    "    def buy_eroge(self):\n",
    "        print(\"Getchu\")\n",
    "        return super(Getchu, self).buy_eroge()\n",
    "\n",
    "if __name__ == \"__main__\":\n",
    "    '''Client'''\n",
    "    route = Softmap().set_next(Getchu())\n",
    "    result = route.buy_eroge()\n",
    "    print(result)"
   ]
  },
  {
   "cell_type": "markdown",
   "metadata": {},
   "source": [
    "## Command "
   ]
  },
  {
   "cell_type": "markdown",
   "metadata": {},
   "source": [
    "**処理をつなげて一気に実行**"
   ]
  },
  {
   "cell_type": "code",
   "execution_count": 11,
   "metadata": {},
   "outputs": [
    {
     "data": {
      "image/png": "[encoded data removed]",
      "text/plain": [
       "<IPython.core.display.Image object>"
      ]
     },
     "execution_count": 11,
     "metadata": {
      "image/png": {
       "height": 500,
       "width": 600
      }
     },
     "output_type": "execute_result"
    }
   ],
   "source": [
    "url='https://upload.wikimedia.org/wikipedia/commons/thumb/b/bf/Command_pattern.svg/613px-Command_pattern.svg.png'\n",
    "from IPython.display import Image\n",
    "Image(url, width=600, height=500)"
   ]
  },
  {
   "cell_type": "markdown",
   "metadata": {},
   "source": [
    "数多くの操作を蓄え、それらを一気に実行させたい、といった処理をするときに有用なパターン。  \n",
    "実行した処理を戻したい場合は、更に **Undo 処理を実装**することになります。"
   ]
  },
  {
   "cell_type": "code",
   "execution_count": 14,
   "metadata": {},
   "outputs": [
    {
     "name": "stdout",
     "output_type": "stream",
     "text": [
      "touch /tmp/test\n",
      "chmod 600 /tmp/test\n"
     ]
    }
   ],
   "source": [
    "from abc import ABCMeta, abstractmethod\n",
    "\n",
    "class Command(metaclass=ABCMeta):\n",
    "    '''Command'''\n",
    "    @abstractmethod\n",
    "    def execute(): pass\n",
    "\n",
    "class CompositeCommand(Command):\n",
    "    '''Receiver'''\n",
    "    def __init__(self):\n",
    "        self.cmd_list = []\n",
    "\n",
    "    def append_cmd(self, cmd):\n",
    "        self.cmd_list.append(cmd)\n",
    "\n",
    "    def execute(self):\n",
    "        for cmd in self.cmd_list:\n",
    "            cmd.execute()\n",
    "\n",
    "class FileTouchCommand(Command):\n",
    "    '''Concrete Command'''\n",
    "    def __init__(self, path):\n",
    "        self.path = path\n",
    "\n",
    "    def execute(self):\n",
    "        cmd = \"touch %s\" % (self.path)\n",
    "        print(cmd)\n",
    "\n",
    "class ChmodCommand(Command):\n",
    "    '''Concrete Command'''\n",
    "    def __init__(self, path, permission):\n",
    "        self.path = path\n",
    "        self.permission = permission\n",
    "\n",
    "    def execute(self):\n",
    "        cmd = \"chmod %s %s\" % (self.permission, self.path)\n",
    "        print(cmd)\n",
    "\n",
    "if __name__ == \"__main__\":\n",
    "    '''Client'''\n",
    "    cc = CompositeCommand()\n",
    "    cc.append_cmd(FileTouchCommand(\"/tmp/test\"))\n",
    "    cc.append_cmd(ChmodCommand(\"/tmp/test\", \"600\"))\n",
    "    cc.execute()"
   ]
  },
  {
   "cell_type": "markdown",
   "metadata": {},
   "source": [
    "## Interpreter"
   ]
  },
  {
   "cell_type": "code",
   "execution_count": 15,
   "metadata": {},
   "outputs": [
    {
     "data": {
      "image/png": "[encoded data removed]",
      "text/plain": [
       "<IPython.core.display.Image object>"
      ]
     },
     "execution_count": 15,
     "metadata": {
      "image/png": {
       "height": 500,
       "width": 600
      }
     },
     "output_type": "execute_result"
    }
   ],
   "source": [
    "url='https://upload.wikimedia.org/wikipedia/commons/thumb/b/bc/Interpreter_UML_class_diagram.svg/536px-Interpreter_UML_class_diagram.svg.png'\n",
    "from IPython.display import Image\n",
    "Image(url, width=600, height=500)"
   ]
  },
  {
   "cell_type": "markdown",
   "metadata": {},
   "source": [
    "Interpreter パターンの基本的な考えは、定義された種類の問題を素早く解くために、ドメインに特化した言語を実装することである。  \n",
    "特化言語は汎用の言語よりも数倍から数百倍高速に問題を解ける場合が多い。\n",
    "\n",
    "Interpreter パターンの使用例\n",
    "* データベースに特化した問い合わせ言語（SQLなど）\n",
    "* 通信プロトコルを記述するために良く用いられる特化したコンピュータ言語\n",
    "* 特化言語を導入した汎用のコンピュータ言語\n",
    "\n",
    "構文解析を行うパターン。各文規則に対してクラスを割り当て、逐次でパースすることで実行に持っていく。\n",
    "ポイントは\n",
    "\n",
    "* 文規則のクラスを再帰的に呼び出すことで、構文木を生成する\n",
    "* 独自表現が使えるため、プログラムの柔軟性が高まる\n",
    "\n",
    "とかかな。これをうまく実装できるとかなりプログラムの柔軟性が上がりそうな予感がする。一方で、他のパターンに比べてなんとなく毛色が違うように感じなくもない。\n"
   ]
  },
  {
   "cell_type": "code",
   "execution_count": null,
   "metadata": {},
   "outputs": [],
   "source": [
    "from abc import ABCMeta, abstractmethod\n",
    "\n",
    "class AbstractExpression(metaclass=ABCMeta):\n",
    "    \"\"\"\n",
    "    Abstract Expression\n",
    "    Declare an abstract Interpret operation that is common to all nodes\n",
    "    in the abstract syntax tree.\n",
    "    \"\"\"\n",
    "    @abstractmethod\n",
    "    def interpret(self): pass\n",
    "\n",
    "class NonterminalExpression(AbstractExpression):\n",
    "    \"\"\"\n",
    "    Nonterminal Expresssion\n",
    "    Implement an Interpret operation for nonterminal symbols in the grammar.\n",
    "    \"\"\"\n",
    "    def __init__(self, expression):\n",
    "        self._expression = expression\n",
    "        \n",
    "    def interpret(self):\n",
    "        self._expression.interpret()\n",
    "\n",
    "class TerminalExpression(AbstractExpression):\n",
    "    \"\"\"\n",
    "    Terminal Expression\n",
    "    Implement an Interpret operation associated with terminal symbols in\n",
    "    the grammar.\n",
    "    \"\"\"\n",
    "    def interpret(self): pass\n",
    "\n",
    "if __name__ == \"__main__\":\n",
    "    abstract_syntax_tree = NonterminalExpression(TerminalExpression())\n",
    "    abstract_syntax_tree.interpret()"
   ]
  },
  {
   "cell_type": "markdown",
   "metadata": {},
   "source": [
    "## Mediator"
   ]
  },
  {
   "cell_type": "code",
   "execution_count": 18,
   "metadata": {},
   "outputs": [
    {
     "data": {
      "image/png": "[encoded data removed]",
      "text/plain": [
       "<IPython.core.display.Image object>"
      ]
     },
     "execution_count": 18,
     "metadata": {
      "image/png": {
       "height": 500,
       "width": 600
      }
     },
     "output_type": "execute_result"
    }
   ],
   "source": [
    "url='https://upload.wikimedia.org/wikipedia/commons/e/e4/Mediator_design_pattern.png'\n",
    "from IPython.display import Image\n",
    "Image(url, width=600, height=500)"
   ]
  },
  {
   "cell_type": "markdown",
   "metadata": {},
   "source": [
    "統一されたインタフェース のセットを提供するパターンである。  \n",
    "\n",
    "通常、プログラムは複数のクラスからなり、ロジックと計算がクラスに配置される。  \n",
    "しかし、プログラムでクラスの数が増えるに従い、クラス間の通信の問題が複雑になり、プログラムを読んだり保守したりすることが困難になる。  \n",
    "さらに、他のクラスに影響を与える可能性があるため、変更も難しくなる。  \n",
    "Mediator パターンを用いると、オブジェクト間の通信は mediator によってカプセル化され、オブジェクト同士で直接通信せず、mediator を介して行うようになる。  \n",
    "これにより通信するオブジェクト同士の依存関係を削減し、疎結合ができる。"
   ]
  },
  {
   "cell_type": "code",
   "execution_count": 45,
   "metadata": {},
   "outputs": [
    {
     "name": "stdout",
     "output_type": "stream",
     "text": [
      "changed いいんちょ\n",
      "changed いいんちょ\n",
      "changed いいんちょ\n",
      "changed いいんちょ\n",
      "changed いいんちょ\n",
      "changed いいんちょ\n",
      "changed いいんちょ\n",
      "changed いいんちょ\n",
      "changed いいんちょ\n",
      "changed いいんちょ\n",
      "yey!\n",
      "changed あかり\n",
      "yey!\n",
      "changed あかり\n",
      "yey!\n",
      "changed あかり\n",
      "yey!\n",
      "changed あかり\n",
      "yey!\n",
      "changed あかり\n",
      "yey!\n",
      "changed あかり\n",
      "yey!\n",
      "changed あかり\n",
      "yeeeeeeeeeeeeeeeeeey!\n"
     ]
    }
   ],
   "source": [
    "from abc import ABCMeta, abstractmethod\n",
    "\n",
    "class Child(metaclass=ABCMeta):\n",
    "    '''Colleague'''\n",
    "    @abstractmethod\n",
    "    def set_mother(self, mother): pass\n",
    "    \n",
    "    @abstractmethod\n",
    "    def set_enabled(self, enabled): pass\n",
    "\n",
    "class Mother(metaclass=ABCMeta):\n",
    "    '''Mediator'''\n",
    "    @abstractmethod\n",
    "    def child_changed(self, child): pass\n",
    "        \n",
    "class Heroine(Child):\n",
    "    '''Concrete Colleque'''\n",
    "    def __init__(self, name):\n",
    "        self.name = name\n",
    "        self.system = None\n",
    "        self.likelevel = 0\n",
    "        self.h_scene = False\n",
    "    \n",
    "    def set_mother(self, mother):\n",
    "        self.system = mother\n",
    "    \n",
    "    def set_enabled(self, enabled):\n",
    "        self.h_scene = enabled\n",
    "    \n",
    "    def likelevelup(self):\n",
    "        self.likelevel += 1\n",
    "        self.system.child_changed(self) \n",
    "        \n",
    "class ErogeSystem(Mother):\n",
    "    '''Concrete Mediator'''\n",
    "    def __init__(self):\n",
    "        self.iincho = Heroine(\"いいんちょ\")\n",
    "        self.akari = Heroine(\"あかり\")\n",
    "        self.iincho.set_mother(self)\n",
    "        self.akari.set_mother(self)\n",
    "    \n",
    "    def child_changed(self, child):\n",
    "        print(\"changed {0}\".format(child.name))\n",
    "        \n",
    "        if self.iincho.likelevel > 9 and self.akari.likelevel > 6:\n",
    "            self.akari.set_enabled(True)\n",
    "            print('yeeeeeeeeeeeeeeeeeey!')\n",
    "        elif self.iincho.likelevel > 9:\n",
    "            self.iincho.set_enabled(True)\n",
    "            print('yey!')\n",
    "        else:\n",
    "            pass\n",
    "    \n",
    "if __name__ == \"__main__\":\n",
    "    system = ErogeSystem()\n",
    "    for i in range(10):\n",
    "        system.iincho.likelevelup()\n",
    "    for i in range(7):\n",
    "        system.akari.likelevelup()"
   ]
  },
  {
   "cell_type": "markdown",
   "metadata": {},
   "source": [
    "## Memento"
   ]
  },
  {
   "cell_type": "code",
   "execution_count": 1,
   "metadata": {},
   "outputs": [
    {
     "data": {
      "image/png": "[encoded data removed]",
      "text/plain": [
       "<IPython.core.display.Image object>"
      ]
     },
     "execution_count": 1,
     "metadata": {
      "image/png": {
       "height": 500,
       "width": 600
      }
     },
     "output_type": "execute_result"
    }
   ],
   "source": [
    "url='https://upload.wikimedia.org/wikipedia/commons/1/18/Memento_design_pattern.png'\n",
    "from IPython.display import Image\n",
    "Image(url, width=600, height=500)"
   ]
  },
  {
   "cell_type": "markdown",
   "metadata": {},
   "source": [
    "オブジェクトを以前の状態に(ロールバックにより)戻す能力を提供する。  \n",
    "memento パターンは'originator'と'caretaker'という二つのオブジェクトによって用いられる。  \n",
    "* 'originator' は内部状態を持つオブジェクトである。  \n",
    "* caretaker は originator に何らかの動作を行うが、変更を戻す能力を持ちたいとする。  \n",
    "\n",
    "1. まず、caretaker は originator に memento を要求する。  \n",
    "1. 次に任意の操作（あるいは一連の操作）を行う。  \n",
    "1. 操作を行う前の状態に戻すために、memento オブジェクトを originator に返却する。  \n",
    "1. memento オブジェクト自体は、不透明オブジェクト( caretaker が変更してはいけないもの) である。  \n",
    "\n",
    "このパターンを用いる場合、originator がほかのオブジェクトやリソースを変更してしまうかどうか注意が必要である。  \n",
    "memento パターンは単一のオブジェクトに対して働くためである。\n",
    "memento パターンの古典的な例として、擬似乱数発生器や、有限オートマトンの状態などがある。"
   ]
  },
  {
   "cell_type": "code",
   "execution_count": 8,
   "metadata": {},
   "outputs": [
    {
     "name": "stdout",
     "output_type": "stream",
     "text": [
      "<NumObj: -1>\n",
      "<NumObj: 0>\n",
      "<NumObj: 1>\n",
      "<NumObj: 2>\n",
      "-- committed\n",
      "<NumObj: 3>\n",
      "<NumObj: 4>\n",
      "<NumObj: 5>\n",
      "-- rolled back\n",
      "<NumObj: 2>\n",
      "-- now doing stuff ...\n",
      "-> doing stuff failed!\n",
      "Traceback (most recent call last):\n",
      "  File \"<ipython-input-8-452de8aef801>\", line 93, in <module>\n",
      "    num_obj.do_stuff()\n",
      "  File \"<ipython-input-8-452de8aef801>\", line 47, in transaction\n",
      "    raise e\n",
      "  File \"<ipython-input-8-452de8aef801>\", line 44, in transaction\n",
      "    return self.method(obj, *args, **kwargs)\n",
      "  File \"<ipython-input-8-452de8aef801>\", line 66, in do_stuff\n",
      "    self.increment()  # <- will fail and rollback\n",
      "  File \"<ipython-input-8-452de8aef801>\", line 61, in increment\n",
      "    self.value += 1\n",
      "TypeError: must be str, not int\n",
      "<NumObj: 2>\n"
     ]
    }
   ],
   "source": [
    "from copy import copy\n",
    "from copy import deepcopy\n",
    "\n",
    "def memento(obj, deep=False):\n",
    "    state = deepcopy(obj.__dict__) if deep else copy(obj.__dict__)\n",
    "\n",
    "    def restore():\n",
    "        obj.__dict__.clear()\n",
    "        obj.__dict__.update(state)\n",
    "\n",
    "    return restore\n",
    "\n",
    "class Transaction():\n",
    "    \"\"\"A transaction guard.\n",
    "    This is, in fact, just syntactic sugar around a memento closure.\n",
    "    \"\"\"\n",
    "    deep = False\n",
    "    states = []\n",
    "\n",
    "    def __init__(self, deep, *targets):\n",
    "        self.deep = deep\n",
    "        self.targets = targets\n",
    "        self.commit()\n",
    "\n",
    "    def commit(self):\n",
    "        self.states = [memento(target, self.deep) for target in self.targets]\n",
    "\n",
    "    def rollback(self):\n",
    "        for a_state in self.states:\n",
    "            a_state()\n",
    "\n",
    "class Transactional(object):\n",
    "    \"\"\"Adds transactional semantics to methods. Methods decorated  with\n",
    "    @Transactional will rollback to entry-state upon exceptions.\n",
    "    \"\"\"\n",
    "\n",
    "    def __init__(self, method):\n",
    "        self.method = method\n",
    "\n",
    "    def __get__(self, obj, T):\n",
    "        def transaction(*args, **kwargs):\n",
    "            state = memento(obj)\n",
    "            try:\n",
    "                return self.method(obj, *args, **kwargs)\n",
    "            except Exception as e:\n",
    "                state()\n",
    "                raise e\n",
    "\n",
    "        return transaction\n",
    "\n",
    "\n",
    "class NumObj(object):\n",
    "\n",
    "    def __init__(self, value):\n",
    "        self.value = value\n",
    "\n",
    "    def __repr__(self):\n",
    "        return '<%s: %r>' % (self.__class__.__name__, self.value)\n",
    "\n",
    "    def increment(self):\n",
    "        self.value += 1\n",
    "\n",
    "    @Transactional\n",
    "    def do_stuff(self):\n",
    "        self.value = '1111'  # <- invalid value\n",
    "        self.increment()  # <- will fail and rollback\n",
    "\n",
    "\n",
    "if __name__ == '__main__':\n",
    "    num_obj = NumObj(-1)\n",
    "    print(num_obj)\n",
    "\n",
    "    a_transaction = Transaction(True, num_obj)\n",
    "    try:\n",
    "        for i in range(3):\n",
    "            num_obj.increment()\n",
    "            print(num_obj)\n",
    "        a_transaction.commit()\n",
    "        print('-- committed')\n",
    "\n",
    "        for i in range(3):\n",
    "            num_obj.increment()\n",
    "            print(num_obj)\n",
    "        num_obj.value += 'x'  # will fail\n",
    "        print(num_obj)\n",
    "    except Exception as e:\n",
    "        a_transaction.rollback()\n",
    "        print('-- rolled back')\n",
    "    print(num_obj)\n",
    "\n",
    "    print('-- now doing stuff ...')\n",
    "    try:\n",
    "        num_obj.do_stuff()\n",
    "    except Exception as e:\n",
    "        print('-> doing stuff failed!')\n",
    "        import sys\n",
    "        import traceback\n",
    "\n",
    "        traceback.print_exc(file=sys.stdout)\n",
    "    print(num_obj)"
   ]
  },
  {
   "cell_type": "markdown",
   "metadata": {},
   "source": [
    "## Observer"
   ]
  },
  {
   "cell_type": "code",
   "execution_count": 9,
   "metadata": {},
   "outputs": [
    {
     "data": {
      "image/png": "[encoded data removed]",
      "text/plain": [
       "<IPython.core.display.Image object>"
      ]
     },
     "execution_count": 9,
     "metadata": {
      "image/png": {
       "height": 500,
       "width": 600
      }
     },
     "output_type": "execute_result"
    }
   ],
   "source": [
    "url='https://upload.wikimedia.org/wikipedia/commons/thumb/8/8d/Observer.svg/800px-Observer.svg.png'\n",
    "from IPython.display import Image\n",
    "Image(url, width=600, height=500)"
   ]
  },
  {
   "cell_type": "markdown",
   "metadata": {},
   "source": [
    "このパターンの基本は、（オブザーバまたはリスナーと呼ばれる）1つ以上のオブジェクトを、（サブジェクトと呼ばれる）対象オブジェクトが発生するイベントを観察するために登録する。  \n",
    "イベントを発生するオブジェクトは一般に複数のオブザーバを管理する。\n",
    "\n",
    "このパターンに登場する各クラスを以下で解説する。\n",
    "\n",
    "**Subject**  \n",
    "オブザーバの登録・削除のインタフェースを提供するクラス。Subject クラスはオブザーバのリストを保持する。以下の関数を持つ:\n",
    "\n",
    "* Attach - Subject を観察するオブザーバのリストに新たなオブザーバを追加する。\n",
    "* Detach - オブザーバのリストからオブザーバを削除する。\n",
    "* Notify - リストに登録されている各オブザーバの update() 関数を呼び出すことで変化を通知する。\n",
    "\n",
    "**ConcreteSubject**  \n",
    "オブザーバが観察したいと考えている状態を提供する。上位クラス（すなわち Subject クラス）の Notify 関数を呼び出すことで、全オブザーバに状態変化を通知する。以下の関数を持つ:\n",
    "\n",
    "* GetState - サブジェクトの状態を返す。\n",
    "\n",
    "**Observer**\n",
    "Subject からの更新通知を受け取る更新（英: update)インタフェースを定義するクラス。Observer クラスは実際のオブザーバの抽象クラスとして使われる。以下の関数を持つ:\n",
    "\n",
    "* Update - 抽象関数。実際のオブザーバクラスでオーバーライドされる。\n",
    "\n",
    "**ConcreteObserver**\n",
    "実際のオブザーバクラス。ConcreteSubject の状態変化の通知を受ける。以下の関数を持つ:\n",
    "\n",
    "* Update - サブジェクトがこの関数を呼び出すと、Concrete Observer が サブジェクトの Getstate 関数を呼び出してサブジェクトの状態情報を更新する。\n",
    "\n",
    "イベントが発生すると、各オブザーバはコールバックを受け付ける。  \n",
    "これは、オブザーバクラスの仮想関数（上の説明では、update()）の場合もあるし、リスナー登録の際に渡される関数ポインタ（より一般的には関数オブジェクト）の場合もある。  \n",
    "この通知関数にはいくつかの引数が渡され、オブザーバがそれを利用する。\n",
    "\n",
    "それぞれの実体のオブザーバは通知関数を実装し、その定義として実際にイベントを通知されたときの動作を記述する。  \n",
    "\n",
    "典型的用法\n",
    "* ユーザーが何らかの操作をするなどの外部イベントを待つ。イベント駆動型プログラミング参照。\n",
    "* あるオブジェクトの属性値の変化を待つ。なお、複数の属性値の変化でコールバック関数を呼び出すようにしているとイベントの連鎖的発生を引き起こす。\n",
    "* メーリングリストで、何らかのイベント（新製品情報など）があったとき、購読者リストに登録している人にメッセージを送る。\n",
    "\n",
    "Observer パターンは Model View Controller (MVC) パラダイムの実装に使われることも多い。  \n",
    "MVC では、モデルとビューの間のループに Observer パターンが使われる。  \n",
    "通常、モデルの変化を引き金として、ビュー（オブザーバ）にそれを通知する。"
   ]
  },
  {
   "cell_type": "code",
   "execution_count": 42,
   "metadata": {},
   "outputs": [
    {
     "name": "stdout",
     "output_type": "stream",
     "text": [
      "DigitObserver:37\n",
      "GraphObserver:*************************************\n",
      "DigitObserver:46\n",
      "GraphObserver:**********************************************\n",
      "DigitObserver:32\n",
      "GraphObserver:********************************\n",
      "DigitObserver:27\n",
      "GraphObserver:***************************\n",
      "DigitObserver:39\n",
      "GraphObserver:***************************************\n"
     ]
    }
   ],
   "source": [
    "from abc import ABCMeta, abstractmethod\n",
    "import random\n",
    "\n",
    "class Observer(metaclass=ABCMeta):\n",
    "    '''Observer'''\n",
    "    @abstractmethod\n",
    "    def update(self, generator): pass\n",
    "\n",
    "class NumberGenerator(metaclass=ABCMeta):\n",
    "\n",
    "    __observers = []\n",
    "\n",
    "    def add_observer(self, observer):\n",
    "        self.__observers.append(observer)\n",
    "\n",
    "    def delete_observer(self, observer):\n",
    "        self.__observers.remove(observer)\n",
    "\n",
    "    def notify_observers(self):\n",
    "        [o.update(self) for o in self.__observers]\n",
    "            \n",
    "    @abstractmethod\n",
    "    def get_number(): pass\n",
    "\n",
    "    @abstractmethod\n",
    "    def execute(): pass\n",
    "\n",
    "class RandomNumberGenerator(NumberGenerator):\n",
    "    '''Subject'''\n",
    "    __number = 0\n",
    "\n",
    "    def __init__(self):\n",
    "        self.__rand = random\n",
    "\n",
    "    def get_number(self):\n",
    "        return self.__number\n",
    "\n",
    "    def execute(self):\n",
    "        for i in range(0, 5):\n",
    "            self.__number = self.__rand.randint(0, 50)\n",
    "            self.notify_observers()\n",
    "\n",
    "class DigitObserver(Observer):\n",
    "    '''Concrete Observer A'''\n",
    "    def update(self, generator):\n",
    "        print('DigitObserver:' + str(generator.get_number()))\n",
    "\n",
    "class GraphObserver(Observer):\n",
    "    '''Concrete Observer B'''\n",
    "    def update(self, generator):\n",
    "        print('GraphObserver:', end='')\n",
    "        count = generator.get_number()\n",
    "        [print('*', end='')for i in range(0, count)]\n",
    "        print('')\n",
    "\n",
    "if __name__ == \"__main__\":\n",
    "    generator = RandomNumberGenerator()\n",
    "    observer1 = DigitObserver()\n",
    "    observer2 = GraphObserver()\n",
    "    generator.add_observer(observer1)\n",
    "    generator.add_observer(observer2)\n",
    "    generator.execute()"
   ]
  },
  {
   "cell_type": "markdown",
   "metadata": {},
   "source": [
    "## State"
   ]
  },
  {
   "cell_type": "code",
   "execution_count": 36,
   "metadata": {},
   "outputs": [
    {
     "data": {
      "image/png": "[encoded data removed]",
      "text/plain": [
       "<IPython.core.display.Image object>"
      ]
     },
     "execution_count": 36,
     "metadata": {
      "image/png": {
       "height": 500,
       "width": 600
      }
     },
     "output_type": "execute_result"
    }
   ],
   "source": [
    "url='https://upload.wikimedia.org/wikipedia/commons/thumb/e/e8/State_Design_Pattern_UML_Class_Diagram.svg/470px-State_Design_Pattern_UML_Class_Diagram.svg.png'\n",
    "from IPython.display import Image\n",
    "Image(url, width=600, height=500)"
   ]
  },
  {
   "cell_type": "markdown",
   "metadata": {},
   "source": [
    "**状態を持ったコンテキスト内で様々な処理を実行する** "
   ]
  },
  {
   "cell_type": "markdown",
   "metadata": {},
   "source": [
    "このパターンでは、ある物についての各状態をそれに対応した各クラスで表現します。（つまり、状態1つにつき、クラス1つで表現します。）\n",
    "\n",
    "通常、条件(状態)に一致するか否かの処理は、if文を使用し、コーディングしますが、その条件分岐数が多い場合、1つの条件で処理するコード量が多い場合、また同じ条件分岐が複数の箇所に点在する場合等、メンテナンスし辛いものとなってしまいます。  \n",
    "しかし、このパターンを適用すると、その状態状態を個々のクラスで表現するため、単純明快となります。\n",
    "\n",
    "役割り\n",
    "1. **State(状態)  **  \n",
    "    状態を表すクラスです。\n",
    "    状態毎に振舞いが異なるメソッドのインタフェースを定義します。  \n",
    "    \n",
    "\n",
    "2. **ConcreteStateA・B(具体的な状態)**  \n",
    "    「State」のインタフェースを実装し、具体的な状態を、「1クラス」 = 「1状態」 で定義します。\n",
    "    1つ状態を表すのに複数のオブジェクトは必要ないため、「Singleton」パターンを適用します。  \n",
    "    \n",
    "    \n",
    "3. **Context(状況判断)**  \n",
    "    現在の状態(「ConcreteStateA」か「ConcreteStateB」)を保持します。\n",
    "    利用者へのインタフェースを定義します。\n",
    "    状態を変更するメソッドを定義します。(状態の変更は、「ConcreteState」が次ぎの状態として相応しいものを判断し、この状態変更メソッドを呼出すことによって行います。)  \n",
    "    \n",
    "    \n",
    "4. **Client(利用者)**  \n",
    "    「State」パターンを適用したクラスを用い処理を行います。   \n",
    "    "
   ]
  },
  {
   "cell_type": "code",
   "execution_count": 71,
   "metadata": {},
   "outputs": [
    {
     "name": "stdout",
     "output_type": "stream",
     "text": [
      "MONDAY\n",
      "tuesday\n",
      "wednesday\n",
      "THURSDAY\n",
      "friday\n",
      "saturday\n",
      "SUNDAY\n"
     ]
    }
   ],
   "source": [
    "from abc import ABCMeta, abstractmethod\n",
    "\n",
    "class State(metaclass=ABCMeta):\n",
    "    '''State'''\n",
    "    @abstractmethod\n",
    "    def writeName(self, stateContext, name): pass\n",
    "\n",
    "class StateA(State):\n",
    "    '''Concrete State'''\n",
    "    def writeName(self, stateContext, name):\n",
    "        print(name.lower())\n",
    "\n",
    "class StateB(State):\n",
    "    '''Concrete State'''\n",
    "    def writeName(self, stateContext, name): \n",
    "        print(name.upper())\n",
    "\n",
    "class StateContext():\n",
    "    '''Context'''\n",
    "    def __init__(self):\n",
    "        self.count = 0\n",
    "        self.set_state()\n",
    "\n",
    "    # 通常は、Stateインタフェースを実装しているクラスによってのみ呼び出される\n",
    "    def set_state(self):\n",
    "        if self.count % 3:\n",
    "            self.myState = StateA()\n",
    "        else:\n",
    "            self.myState = StateB()\n",
    "\n",
    "    def writeName(self, name):\n",
    "        self.myState.writeName(self, name);\n",
    "        self.count += 1\n",
    "\n",
    "if __name__ == \"__main__\":\n",
    "    sc = StateContext()\n",
    "    week_days = [\"Monday\", \"Tuesday\", \"Wednesday\", \"Thursday\", \"Friday\", \"Saturday\", \"Sunday\"]\n",
    "    for d in week_days:\n",
    "        sc.writeName(d)\n",
    "        sc.set_state()"
   ]
  }
 ],
 "metadata": {
  "kernelspec": {
   "display_name": "Python 3",
   "language": "python",
   "name": "python3"
  },
  "language_info": {
   "codemirror_mode": {
    "name": "ipython",
    "version": 3
   },
   "file_extension": ".py",
   "mimetype": "text/x-python",
   "name": "python",
   "nbconvert_exporter": "python",
   "pygments_lexer": "ipython3",
   "version": "3.6.3"
  },
  "toc": {
   "nav_menu": {},
   "number_sections": true,
   "sideBar": true,
   "skip_h1_title": false,
   "toc_cell": true,
   "toc_position": {},
   "toc_section_display": "block",
   "toc_window_display": true
  }
 },
 "nbformat": 4,
 "nbformat_minor": 2
}
