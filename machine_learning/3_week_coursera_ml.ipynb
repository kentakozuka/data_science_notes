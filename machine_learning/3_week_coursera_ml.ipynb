{
 "cells": [
  {
   "cell_type": "markdown",
   "metadata": {},
   "source": [
    "# ロジスティック回帰 (Logistic Regression)\n",
    "\n",
    "回帰分析 (Regression)は、ある目的変数YYの値を、パラメーターθθによって重み付けされた説明変数XXによって予測する方法でした。  \n",
    "$Y$の予測値である仮定関数$hθ(x)$は以下のようになります。\n",
    "\n",
    "$\n",
    "h_\\theta(x) \\\\\n",
    "= \\theta_{0}x_0 + \\theta_{1}x_1 + \\theta_{2}x_2 + \\cdots + \\theta_{n}x_n  \\\\\n",
    "= \\Theta^T X \\\\\n",
    "$\n",
    "\n",
    "この方法を分類にも使用可能にするのが、ロジスティック回帰です。\n",
    "\n",
    "通常の回帰分析だと、仮定関数$h_θ(x)$は連続した値を取り、特別範囲が定まっていません。  \n",
    "ただ、分類においては、少なくとも予測値の値を$0 \\leq h_θ(x) \\leq 1$にしたい。\n",
    "\n",
    "そのために登場するのが、ロジスティック関数、別名シグモイド関数 (Sigmoid Function)です。\n",
    "\n",
    "$g(z) = \\frac{1}{1 + e^{-z}}$\n",
    "\n"
   ]
  },
  {
   "cell_type": "code",
   "execution_count": 2,
   "metadata": {},
   "outputs": [
    {
     "data": {
      "image/png": "[encoded data removed]",
      "text/plain": [
       "<IPython.core.display.Image object>"
      ]
     },
     "execution_count": 2,
     "metadata": {
      "image/png": {
       "height": 200,
       "width": 250
      }
     },
     "output_type": "execute_result"
    }
   ],
   "source": [
    "url='https://upload.wikimedia.org/wikipedia/commons/thumb/b/b5/SigmoidFunction.png/220px-SigmoidFunction.png'\n",
    "from IPython.display import Image\n",
    "Image(url, width=250, height=200)"
   ]
  },
  {
   "cell_type": "markdown",
   "metadata": {},
   "source": [
    "この関数を使えば、zzにどんな値を入れても、$g(z)$は必ず$0 \\leq g(z) \\leq 1$になります。\n",
    "\n",
    "ロジスティック回帰では、単純に回帰分析の仮定関数をこの$z$に放り込みます。\n",
    "\n",
    "$h_\\theta(x) = \\frac{1}{1 + e^{- \\Theta^T X}}$\n",
    "\n",
    "これがロジスティック回帰における新しい仮定関数で、\n",
    "\n",
    "$\n",
    "h_θ(x) \\geq 0.5 \\ の場合 \\ y=1 \\\\\n",
    "h_θ(x) \\leq 0.5 \\ の場合 \\ y=0 \\\\\n",
    "$\n",
    "\n",
    "というように分類判定をします。"
   ]
  },
  {
   "cell_type": "markdown",
   "metadata": {},
   "source": [
    "## 目的関数 (Cost Function)\n",
    "\n",
    "ロジスティック回帰では、例えば0か1のカテゴリーに分類する課題の場合、$y=0 \\ or \\ 1$の2値しかとりません。  \n",
    "そのため、$h_\\theta(x)$が$y$の値と一致していれば目的関数$J(\\theta)$が最小になり、$h_\\theta(x)$が$y$の値と不一致ならばが最大になるような関数を$J(θ)$に使う必要があります。\n",
    "\n",
    "これを満たす関数が$-log$です。\n",
    "\n"
   ]
  },
  {
   "cell_type": "code",
   "execution_count": 26,
   "metadata": {},
   "outputs": [
    {
     "name": "stderr",
     "output_type": "stream",
     "text": [
      "/usr/lib/python3.5/site-packages/ipykernel_launcher.py:9: RuntimeWarning: divide by zero encountered in log\n",
      "  if __name__ == '__main__':\n"
     ]
    },
    {
     "data": {
      "text/plain": [
       "[<matplotlib.lines.Line2D at 0x7fcd842d0da0>]"
      ]
     },
     "execution_count": 26,
     "metadata": {},
     "output_type": "execute_result"
    },
    {
     "data": {
      "image/png": "[encoded data removed]",
      "text/plain": [
       "<matplotlib.figure.Figure at 0x7fcd842a9e10>"
      ]
     },
     "metadata": {},
     "output_type": "display_data"
    }
   ],
   "source": [
    "import matplotlib as mpl\n",
    "import matplotlib.pyplot as plt\n",
    "import numpy as np\n",
    "%matplotlib inline\n",
    "\n",
    "# 便宜的に領域を決めます。\n",
    "X = np.arange(0,1.2,0.01)\n",
    "# 値を計算します。\n",
    "Y = (-1) * np.log(X)\n",
    "# 描写\n",
    "plt.rc('text', usetex=True)\n",
    "plt.xlabel(\"$h(\\theta)$\", fontsize=20)\n",
    "plt.ylabel(\"$J(\\theta)$\", fontsize=20)\n",
    "plt.grid()\n",
    "plt.plot(X,Y)"
   ]
  },
  {
   "cell_type": "markdown",
   "metadata": {},
   "source": [
    "$y=1$の場合\n",
    "\n",
    "$\n",
    "J(\\theta) = −log(h_\\theta(x)) \\\\\n",
    "$\n",
    "\n",
    "$y=0$の場合\n",
    "\n",
    "$\n",
    "J(\\theta) = −log(1 − h_\\theta(x)) \\\\\n",
    "$\n",
    "\n",
    "とすれば、どちらも$h_\\theta(x)=y$のとき、log内の括弧の中の値が1になり、$J(\\theta)=0$となります。  \n",
    "逆にyがもう一方の値だったとき、$J(\\theta) → \\infty$となります。\n",
    "\n",
    "　この2つをまとめると、以下のように目的関数を表現できます。これにより、場合分けがいらなくなります。\n",
    "$J(\\theta) = − \\frac{1}{m}[ \\displaystyle\\sum_{i=1}^{m}y^{(i)} log(h_\\theta(x^{(i)})) + (1 − y^{(i)}) log(1 − h_{\\theta}(x^{(i)}))]$\n",
    "\n",
    "これで目的関数$J(\\theta)$ができました。\n",
    "\n",
    "これが最小値を取るパラメーター$\\theta$を求めるために、最急降下法を使用します。"
   ]
  },
  {
   "cell_type": "markdown",
   "metadata": {},
   "source": [
    "## 最急降下法 (Gradient Descent)\n",
    "\n",
    "$\n",
    "\\theta_j := \\theta_j - \\alpha\\frac{\\partial}{\\partial\\theta_j}J(\\theta_j) \\\\\n",
    "\\theta_j - \\alpha\\displaystyle{\\sum_{i=1}^{m}}(h_\\theta(x^{(i)}) - y^{(i)}) \\cdot x^{(i)}_j \\\\ \n",
    "$\n",
    "\n",
    "これは、単回帰分析や重回帰分析と変わりません。  \n",
    "ロジスティック回帰の場合は、$hθ(x)$がロジスティック関数である点が唯一の違いです。\n"
   ]
  },
  {
   "cell_type": "markdown",
   "metadata": {},
   "source": [
    "## 複数クラスへの分類 (Multiclass Classification)\n",
    "\n",
    "### one vs all\n",
    "\n",
    "その名の通り、全てのカテゴリー $(j=0,1, \\cdots j=0,1, \\cdots)$それぞれについて、  \n",
    "そのカテゴリー vs その他のカテゴリーと分類するロジスティック回帰モデル$h_\\theta^{(i)}(x)$を作ります。  \n",
    "カテゴリーが$n$個あれば、モデルも$n$個できます$(n \\geq 3n \\geq 3)$。\n",
    "\n",
    "それぞれのモデルは、\n",
    " \n",
    "$h^{(i)}_{\\theta}(x) = P(y=i \\ | \\ x;θ)$\n",
    "\n",
    "というように、$\\theta$によってパラメーターづけられたインプット$x$に対して、$y=i$となる条件付き確率を返します。  \n",
    "新たなインプット$x_{new}$が与えられたとき、それが属するカテゴリーは、$h_\\theta^{(i)}(x_{new})$が最大となるカテゴリー$i$となります。\n"
   ]
  },
  {
   "cell_type": "markdown",
   "metadata": {},
   "source": [
    "# 過学習 (Overfitting)\n",
    "\n",
    "回帰分析では、仮定関数$h_\\theta(x)$は必ずしも直線である必要はありません。  \n",
    "説明変数$x$の次数を増やしていけば、データを曲線でフィットすることができます。  \n",
    "これを、多項回帰 (Polynomial Regression)といいます。\n",
    "\n",
    "ロジスティック回帰でも同様です。データを分類する決定境界 (decision boundary)は、直線のみならず曲線になることができます。\n",
    "\n",
    "多項回帰を使うと、手持ちのデータセット (training set)を100%近い精度で説明するモデルを作ることができます。  \n",
    "ただ、そのモデルはあまりにもtraining setの説明に特化しているため、新しいデータセット (test set)には全く役に立たないかもしれません。  \n",
    "これが、過学習です。\n",
    "\n",
    "多項回帰が問題なわけではなく、線形回帰だけだとモデルの精度が悪いことがあります。  \n",
    "フィッティングが悪すぎる場合、未学習 (Underfitting)と呼ばれます。\n",
    "\n",
    "過学習でも未学習でもない、汎用性があってかつ精度の高いモデルを作るためには、余計な説明変数を減らしたり、必要な説明変数を増やしたりする他、正則化 (Regularization)という方法があります。\n"
   ]
  },
  {
   "cell_type": "markdown",
   "metadata": {},
   "source": [
    "# 正則化 (Regularization)\n",
    "\n",
    "パラメーター$\\theta$の値を十分小さくしてしまえば、説明変数$x$がどんな多項式であっても、  \n",
    "その説明変数の予測値$hθ(x)$への影響を小さくできるから過学習しにくくなる、という考えです。\n",
    "\n",
    "そのために、正則化パラメーター (Regularization Parameter) $\\lambda$ を目的関数$J(\\theta)$に導入します。\n",
    "\n",
    "$J(\\theta) = \\frac{1}{2m}[\\displaystyle{\\sum_{i=1}^{m}}(h_\\theta(x^{(i)}) - y^{(i)})^2 + \\lambda \\displaystyle{\\sum_{j=1}^{n}} \\theta_j^2]$\n",
    "\n",
    "2つ目の$\\Sigma$の項が目的関数$J(\\theta)$に入ることにより、$\\theta$の値を大きく取ると目的関数が最小値に近づけないように設計しています。\n",
    "\n",
    "注目したいのは、この2つ目の$\\Sigma$の項の範囲が$j=1, \\cdots ,nj=1, \\cdots ,n$であること、つまり$\\theta_0$には$\\lambda$がかからないことです。$\\theta_0$は説明変数$x$の重み付けをしない、切片項なので、正則化しなくてよい。\n",
    "\n",
    "この事実は、目的関数$J(\\theta)$の最小値を求めるアルゴリズムである最急降下法にも影響してきます。  \n",
    "$\\theta_0$のアップデートのときは、正規化パラメーターが介入しない。\n",
    "\n",
    "正則化された最急降下法\n",
    "\n",
    "$\n",
    "\\theta_0 := \\theta_0 - \\alpha \\frac{1}{m} \\displaystyle{\\sum_{i=1}^{m}}(h_\\theta(x^{(i)}) - y^{(i)}) \\cdot x^{(i)}_0 \\\\\n",
    "\\theta_j := \\theta_j - \\alpha [ \\frac{1}{m} \\displaystyle{\\sum_{i=1}^{m}}(h_\\theta(x^{(i)}) - y^{(i)}) \\cdot x^{(i)}_j - frac{\\lambda}{m}\\theta_j] \\\\\n",
    "$\n",
    "\n",
    "このように、$j \\geq 1$のときは正則化された項がアップデートに影響します。  \n",
    "収束まで上記アルゴリズムを全ての$j=0,1,...,n$で同時に繰り返すのは、今までと同様です。\n",
    "\n",
    "注意点\n",
    "$\\lambda$を大きくしすぎると (λ=106など)、$\\theta_0$以外の全ての$\\theta$が、限りなく0に近づきます。  \n",
    "すると、$h_\\theta(x)→ \\theta_0$となり、$h_\\theta(x)$はどんなインプット$x$に対しても同じ値$\\theta_0$しか返さないため、アンダーフィットになってしまいます。"
   ]
  },
  {
   "cell_type": "code",
   "execution_count": null,
   "metadata": {},
   "outputs": [],
   "source": []
  }
 ],
 "metadata": {
  "kernelspec": {
   "display_name": "Python 3",
   "language": "python",
   "name": "python3"
  },
  "language_info": {
   "codemirror_mode": {
    "name": "ipython",
    "version": 3
   },
   "file_extension": ".py",
   "mimetype": "text/x-python",
   "name": "python",
   "nbconvert_exporter": "python",
   "pygments_lexer": "ipython3",
   "version": "3.5.4"
  }
 },
 "nbformat": 4,
 "nbformat_minor": 2
}
