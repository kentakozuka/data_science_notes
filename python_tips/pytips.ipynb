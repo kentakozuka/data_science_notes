{
 "cells": [
  {
   "cell_type": "markdown",
   "metadata": {},
   "source": [
    "# パッケージマネジャー\n",
    "```\n",
    "sudo python3 -m pip install -U pip\n",
    "```"
   ]
  },
  {
   "cell_type": "markdown",
   "metadata": {},
   "source": [
    "# 文法\n",
    "## 配列\n",
    "\n",
    "後ろからインデックス指定"
   ]
  },
  {
   "cell_type": "code",
   "execution_count": 29,
   "metadata": {},
   "outputs": [
    {
     "data": {
      "text/plain": [
       "2"
      ]
     },
     "execution_count": 29,
     "metadata": {},
     "output_type": "execute_result"
    }
   ],
   "source": [
    "array = [1,2,3]\n",
    "print(array[-1]\n",
    "array[-2]"
   ]
  },
  {
   "cell_type": "markdown",
   "metadata": {},
   "source": [
    "# 便利な関数\n",
    "\n",
    "# 標準ライブラリ\n",
    "\n",
    "## 組み込み型"
   ]
  },
  {
   "cell_type": "markdown",
   "metadata": {},
   "source": [
    "### 組み込み関数\n",
    "https://docs.python.jp/3/library/functions.html  \n",
    "インタプリタに組み込まれている関数\n",
    "\n",
    "\n"
   ]
  },
  {
   "cell_type": "markdown",
   "metadata": {},
   "source": [
    "##### zip\n",
    "https://docs.python.jp/3/library/functions.html?highlight=zip#zip  \n",
    "それぞれのイテラブルから要素を集めたイテレータを作成する。"
   ]
  },
  {
   "cell_type": "code",
   "execution_count": 4,
   "metadata": {},
   "outputs": [
    {
     "data": {
      "text/plain": [
       "[[1, 4], [2, 5], [3, 6]]"
      ]
     },
     "execution_count": 4,
     "metadata": {},
     "output_type": "execute_result"
    }
   ],
   "source": [
    "x = [1, 2, 3]\n",
    "y = [4, 5, 6]\n",
    "zipped = [[x, y] for x, y in zip(x, y)]\n",
    "zipped"
   ]
  },
  {
   "cell_type": "code",
   "execution_count": 6,
   "metadata": {},
   "outputs": [
    {
     "data": {
      "text/plain": [
       "{4: 1, 5: 2, 6: 3}"
      ]
     },
     "execution_count": 6,
     "metadata": {},
     "output_type": "execute_result"
    }
   ],
   "source": [
    "zipped = {y:x for x, y in zip(x, y)}\n",
    "zipped #{4: 1, 5: 2, 6: 3}"
   ]
  },
  {
   "cell_type": "markdown",
   "metadata": {},
   "source": [
    "##### enumerate\n",
    "https://docs.python.jp/3/library/functions.html?highlight=enumerate#enumerate  \n",
    "インデックスと値を返す。"
   ]
  },
  {
   "cell_type": "code",
   "execution_count": 27,
   "metadata": {},
   "outputs": [
    {
     "data": {
      "text/plain": [
       "[(1, 0), (2, 1), (3, 2)]"
      ]
     },
     "execution_count": 27,
     "metadata": {},
     "output_type": "execute_result"
    }
   ],
   "source": [
    "x = [1, 2, 3]\n",
    "y = [(v, idx) for (idx, v) in enumerate(x)]\n",
    "y"
   ]
  },
  {
   "cell_type": "markdown",
   "metadata": {},
   "source": [
    "##### map\n",
    "https://docs.python.org/ja/3.6/library/functions.html#map  \n",
    "第一引数で指定した関数で第二引数で渡したiterableオブジェクトを処理します。"
   ]
  },
  {
   "cell_type": "code",
   "execution_count": 10,
   "metadata": {},
   "outputs": [
    {
     "name": "stdout",
     "output_type": "stream",
     "text": [
      "[1, 3, 5, 7, 9]\n"
     ]
    }
   ],
   "source": [
    "# 関数 \n",
    "print(list(map(abs, [-1, 3, -5, 7, -9]))) \n",
    "     \n"
   ]
  },
  {
   "cell_type": "code",
   "execution_count": 11,
   "metadata": {},
   "outputs": [
    {
     "name": "stdout",
     "output_type": "stream",
     "text": [
      "[-2, 6, -10, 14, -18]\n"
     ]
    }
   ],
   "source": [
    "# ラムダ式 \n",
    "print(list(map(lambda x: x * 2, [-1, 3, -5, 7, -9]))) "
   ]
  },
  {
   "cell_type": "code",
   "execution_count": 12,
   "metadata": {},
   "outputs": [
    {
     "name": "stdout",
     "output_type": "stream",
     "text": [
      "[1, -3, 5, -7, 9]\n"
     ]
    }
   ],
   "source": [
    "# 関数形式の標準演算子 \n",
    "# operator.negは引数を負にした数値を返す\n",
    "import operator \n",
    "print(list(map(operator.neg, [-1, 3, -5, 7, -9])))"
   ]
  },
  {
   "cell_type": "markdown",
   "metadata": {},
   "source": [
    "##### filter\n",
    "https://docs.python.jp/3/library/functions.html?highlight=filter#filter  \n",
    "第一引数で指定した関数が返したブーリアンがTrueとなるような第二引数の要素を返す。"
   ]
  },
  {
   "cell_type": "code",
   "execution_count": 13,
   "metadata": {},
   "outputs": [
    {
     "name": "stdout",
     "output_type": "stream",
     "text": [
      "[3, 7]\n"
     ]
    }
   ],
   "source": [
    "# ラムダ式 \n",
    "print( list( filter(lambda x: x >= 0, [-1, 3, -5, 7, -9])))"
   ]
  },
  {
   "cell_type": "markdown",
   "metadata": {},
   "source": [
    "### 関数型プログラミング用モジュール\n",
    "\n",
    "#### itertoolsモジュール\n",
    "\n"
   ]
  },
  {
   "cell_type": "markdown",
   "metadata": {},
   "source": [
    "##### accumulate\n",
    "https://docs.python.jp/3/library/itertools.html?highlight=product#itertools.accumulate  \n",
    "第一引数の要素を一つにまとめた値を第二引数で与えた関数で計算する。第二引数を省略した場合は和を計算。"
   ]
  },
  {
   "cell_type": "code",
   "execution_count": 14,
   "metadata": {},
   "outputs": [
    {
     "name": "stdout",
     "output_type": "stream",
     "text": [
      "1\n",
      "3\n",
      "6\n",
      "10\n"
     ]
    }
   ],
   "source": [
    "import itertools\n",
    "for item in itertools.accumulate([1,2,3,4]):\n",
    "    print(item)"
   ]
  },
  {
   "cell_type": "code",
   "execution_count": 26,
   "metadata": {},
   "outputs": [
    {
     "name": "stdout",
     "output_type": "stream",
     "text": [
      "1\n",
      "2\n",
      "6\n",
      "24\n"
     ]
    }
   ],
   "source": [
    "import operator as op\n",
    "for item in itertools.accumulate([1,2,3,4], op.mul):\n",
    "    print(item)"
   ]
  },
  {
   "cell_type": "markdown",
   "metadata": {},
   "source": [
    "##### chain\n",
    "https://docs.python.jp/3/library/itertools.html?highlight=product#itertools.chain  \n",
    "引数全体が一つのイテラブルであるかのように振る舞う。"
   ]
  },
  {
   "cell_type": "code",
   "execution_count": 20,
   "metadata": {},
   "outputs": [
    {
     "name": "stdout",
     "output_type": "stream",
     "text": [
      "1\n",
      "2\n",
      "3\n",
      "4\n"
     ]
    }
   ],
   "source": [
    "import itertools\n",
    "for item in itertools.chain([1,2], [3,4]):\n",
    "    print(item)"
   ]
  },
  {
   "cell_type": "markdown",
   "metadata": {},
   "source": [
    "#### functoolsモジュール\n",
    "https://docs.python.jp/3/library/functools.html\n",
    "> モジュールは高階関数、つまり関数に影響を及ぼしたり他の関数を返したりする関数のためのものです。一般に、どんな呼び出し可能オブジェクトでもこのモジュールの目的には関数として扱えます。\n",
    "\n"
   ]
  },
  {
   "cell_type": "markdown",
   "metadata": {},
   "source": [
    "##### functools.reduce\n",
    "https://docs.python.jp/3/library/functools.html?highlight=reduce#functools.reduce  \n",
    "第一引数の関数をイテラブルの要素に対してに累積的に適用し、単一の値に縮約。畳み込み関数とか呼ばれる。\n",
    "\n"
   ]
  },
  {
   "cell_type": "code",
   "execution_count": 23,
   "metadata": {},
   "outputs": [
    {
     "name": "stdout",
     "output_type": "stream",
     "text": [
      "-5\n"
     ]
    }
   ],
   "source": [
    "from operator import add\n",
    "from functools import reduce\n",
    "# 関数\n",
    "print(reduce(add, [-1, 3, -5, 7, -9]))"
   ]
  },
  {
   "cell_type": "code",
   "execution_count": 24,
   "metadata": {},
   "outputs": [
    {
     "name": "stdout",
     "output_type": "stream",
     "text": [
      "-5\n"
     ]
    }
   ],
   "source": [
    "from functools import reduce\n",
    "# ラムダ\n",
    "print(reduce(lambda x, y: x+y, [-1, 3, -5, 7, -9]))"
   ]
  },
  {
   "cell_type": "markdown",
   "metadata": {},
   "source": [
    "#### operatorモジュール\n",
    "https://docs.python.jp/3/library/operator.html\n",
    "簡単なラムダ式を書くくらいならこっちを使おう。\n",
    "\n"
   ]
  },
  {
   "cell_type": "markdown",
   "metadata": {},
   "source": [
    "# 仮想環境\n",
    "仮想環境の作成\n",
    "\n",
    "```\n",
    "mkdir tmpdir\n",
    "python3 -m venv tmpdir\n",
    "```\n",
    "仮想環境に入る\n",
    "\n",
    "```\n",
    ". tmpdir/bin/activate\n",
    "```\n",
    "\n",
    "仮想環境から出る\n",
    "\n",
    "```\n",
    "deactivate\n",
    "```\n",
    "\n",
    "```\n",
    "sudo dnf install mecab mecab-devel mecab-ipadic\n",
    "```\n",
    "\n",
    "```\n",
    "# Fedora25\n",
    "sudo dnf install redhat-rpm-config\n",
    "pip3 install mecab-python3\n",
    "```\n",
    "\n"
   ]
  },
  {
   "cell_type": "markdown",
   "metadata": {},
   "source": [
    "# 進捗を視覚化する\n",
    "\n",
    "```\n",
    "from tqdm import tqdm\n",
    "for i in tqdm(range(10000)):\n",
    "    ...\n",
    "```\n"
   ]
  },
  {
   "cell_type": "markdown",
   "metadata": {},
   "source": [
    "# データ分析・機会学習・ディープラーニング\n",
    "\n",
    "いろいろダウンロード\n",
    "\n",
    "```\n",
    "sudo pip3 install pystan numpy scipy matplotlib ipython jupyter scikit-learn pandas pillow beautiful-soup html5lib seaborn\n",
    "```"
   ]
  },
  {
   "cell_type": "markdown",
   "metadata": {},
   "source": [
    "## jupyter\n",
    "\n",
    "### 拡張機能の追加\n",
    "\n",
    "```\n",
    "pip3 install jupyter_contrib_nbextensions\n",
    "jupyter contrib nbextension install --user\n",
    "mkdir -p $(jupyter --data-dir)/nbextensions\n",
    "```\n",
    "\n",
    "#### vimバインディング\n",
    "\n",
    "```\n",
    "cd $(jupyter --data-dir)/nbextensions\n",
    "git clone https://github.com/lambdalisue/jupyter-vim-binding vim_binding\n",
    "jupyter nbextension enable vim_binding/vim_binding\n",
    "```\n",
    "\n",
    "vimバインディングにしたときにJupyterモードに入るときのショートカットキーがShift + Escに設定されています。私のPCだとこのShift + Escが入力できなかった（Caps LockをEscにしているが、どうしてもShift + Caps Lockがデフォルトの挙動になってしまう）ので、バインディングをCtrl + Escに変更した。\n",
    "\n",
    "```\n",
    "vim ~/.local/share/jupyter/nbextensions/vim_binding/vim_binding.js\n",
    "```\n",
    "で72行目を変更\n",
    "```\n",
    "...\n",
    "//'Shift-Esc': CodeMirror.prototype.leaveNormalMode,\n",
    "'Ctrl-Esc': CodeMirror.prototype.leaveNormalMode,\n",
    "...\n",
    "```"
   ]
  },
  {
   "cell_type": "markdown",
   "metadata": {},
   "source": [
    "# デバッグ\n",
    "\n",
    "```\n",
    "import pdb; pdb.set_trace()\n",
    "```\n",
    "\n",
    "デバッガコマンドについては以下参照\n",
    "https://docs.python.jp/3/library/pdb.html"
   ]
  }
 ],
 "metadata": {
  "kernelspec": {
   "display_name": "Python 3",
   "language": "python",
   "name": "python3"
  },
  "language_info": {
   "codemirror_mode": {
    "name": "ipython",
    "version": 3
   },
   "file_extension": ".py",
   "mimetype": "text/x-python",
   "name": "python",
   "nbconvert_exporter": "python",
   "pygments_lexer": "ipython3",
   "version": "3.5.4"
  }
 },
 "nbformat": 4,
 "nbformat_minor": 2
}
