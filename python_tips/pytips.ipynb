{
 "cells": [
  {
   "cell_type": "markdown",
   "metadata": {
    "toc": true
   },
   "source": [
    "<h1>Table of Contents<span class=\"tocSkip\"></span></h1>\n",
    "<div class=\"toc\" style=\"margin-top: 1em;\"><ul class=\"toc-item\"><li><span><a href=\"#パッケージマネジャー\" data-toc-modified-id=\"パッケージマネジャー-1\"><span class=\"toc-item-num\">1&nbsp;&nbsp;</span>パッケージマネジャー</a></span></li><li><span><a href=\"#文法\" data-toc-modified-id=\"文法-2\"><span class=\"toc-item-num\">2&nbsp;&nbsp;</span>文法</a></span><ul class=\"toc-item\"><li><span><a href=\"#配列\" data-toc-modified-id=\"配列-2.1\"><span class=\"toc-item-num\">2.1&nbsp;&nbsp;</span>配列</a></span></li></ul></li><li><span><a href=\"#便利な関数\" data-toc-modified-id=\"便利な関数-3\"><span class=\"toc-item-num\">3&nbsp;&nbsp;</span>便利な関数</a></span></li><li><span><a href=\"#標準ライブラリ\" data-toc-modified-id=\"標準ライブラリ-4\"><span class=\"toc-item-num\">4&nbsp;&nbsp;</span>標準ライブラリ</a></span><ul class=\"toc-item\"><li><span><a href=\"#組み込み型\" data-toc-modified-id=\"組み込み型-4.1\"><span class=\"toc-item-num\">4.1&nbsp;&nbsp;</span>組み込み型</a></span><ul class=\"toc-item\"><li><span><a href=\"#組み込み関数\" data-toc-modified-id=\"組み込み関数-4.1.1\"><span class=\"toc-item-num\">4.1.1&nbsp;&nbsp;</span>組み込み関数</a></span><ul class=\"toc-item\"><li><ul class=\"toc-item\"><li><span><a href=\"#zip\" data-toc-modified-id=\"zip-4.1.1.0.1\"><span class=\"toc-item-num\">4.1.1.0.1&nbsp;&nbsp;</span>zip</a></span></li><li><span><a href=\"#enumerate\" data-toc-modified-id=\"enumerate-4.1.1.0.2\"><span class=\"toc-item-num\">4.1.1.0.2&nbsp;&nbsp;</span>enumerate</a></span></li><li><span><a href=\"#map\" data-toc-modified-id=\"map-4.1.1.0.3\"><span class=\"toc-item-num\">4.1.1.0.3&nbsp;&nbsp;</span>map</a></span></li><li><span><a href=\"#filter\" data-toc-modified-id=\"filter-4.1.1.0.4\"><span class=\"toc-item-num\">4.1.1.0.4&nbsp;&nbsp;</span>filter</a></span></li></ul></li></ul></li><li><span><a href=\"#関数型プログラミング用モジュール\" data-toc-modified-id=\"関数型プログラミング用モジュール-4.1.2\"><span class=\"toc-item-num\">4.1.2&nbsp;&nbsp;</span>関数型プログラミング用モジュール</a></span><ul class=\"toc-item\"><li><span><a href=\"#itertoolsモジュール\" data-toc-modified-id=\"itertoolsモジュール-4.1.2.1\"><span class=\"toc-item-num\">4.1.2.1&nbsp;&nbsp;</span>itertoolsモジュール</a></span><ul class=\"toc-item\"><li><span><a href=\"#accumulate\" data-toc-modified-id=\"accumulate-4.1.2.1.1\"><span class=\"toc-item-num\">4.1.2.1.1&nbsp;&nbsp;</span>accumulate</a></span></li><li><span><a href=\"#chain\" data-toc-modified-id=\"chain-4.1.2.1.2\"><span class=\"toc-item-num\">4.1.2.1.2&nbsp;&nbsp;</span>chain</a></span></li><li><span><a href=\"#count()\" data-toc-modified-id=\"count()-4.1.2.1.3\"><span class=\"toc-item-num\">4.1.2.1.3&nbsp;&nbsp;</span>count()</a></span></li><li><span><a href=\"#cycle()\" data-toc-modified-id=\"cycle()-4.1.2.1.4\"><span class=\"toc-item-num\">4.1.2.1.4&nbsp;&nbsp;</span>cycle()</a></span></li><li><span><a href=\"#repeat()\" data-toc-modified-id=\"repeat()-4.1.2.1.5\"><span class=\"toc-item-num\">4.1.2.1.5&nbsp;&nbsp;</span>repeat()</a></span></li><li><span><a href=\"#accumulate()\" data-toc-modified-id=\"accumulate()-4.1.2.1.6\"><span class=\"toc-item-num\">4.1.2.1.6&nbsp;&nbsp;</span>accumulate()</a></span></li><li><span><a href=\"#chain()\" data-toc-modified-id=\"chain()-4.1.2.1.7\"><span class=\"toc-item-num\">4.1.2.1.7&nbsp;&nbsp;</span>chain()</a></span></li><li><span><a href=\"#chain.from_iterable()\" data-toc-modified-id=\"chain.from_iterable()-4.1.2.1.8\"><span class=\"toc-item-num\">4.1.2.1.8&nbsp;&nbsp;</span>chain.from_iterable()</a></span></li><li><span><a href=\"#compress()\" data-toc-modified-id=\"compress()-4.1.2.1.9\"><span class=\"toc-item-num\">4.1.2.1.9&nbsp;&nbsp;</span>compress()</a></span></li><li><span><a href=\"#dropwhile()\" data-toc-modified-id=\"dropwhile()-4.1.2.1.10\"><span class=\"toc-item-num\">4.1.2.1.10&nbsp;&nbsp;</span>dropwhile()</a></span></li><li><span><a href=\"#filterfalse()\" data-toc-modified-id=\"filterfalse()-4.1.2.1.11\"><span class=\"toc-item-num\">4.1.2.1.11&nbsp;&nbsp;</span>filterfalse()</a></span></li><li><span><a href=\"#groupby()\" data-toc-modified-id=\"groupby()-4.1.2.1.12\"><span class=\"toc-item-num\">4.1.2.1.12&nbsp;&nbsp;</span>groupby()</a></span></li><li><span><a href=\"#islice()\" data-toc-modified-id=\"islice()-4.1.2.1.13\"><span class=\"toc-item-num\">4.1.2.1.13&nbsp;&nbsp;</span>islice()</a></span></li><li><span><a href=\"#starmap()\" data-toc-modified-id=\"starmap()-4.1.2.1.14\"><span class=\"toc-item-num\">4.1.2.1.14&nbsp;&nbsp;</span>starmap()</a></span></li><li><span><a href=\"#takewhile()\" data-toc-modified-id=\"takewhile()-4.1.2.1.15\"><span class=\"toc-item-num\">4.1.2.1.15&nbsp;&nbsp;</span>takewhile()</a></span></li><li><span><a href=\"#tee()\" data-toc-modified-id=\"tee()-4.1.2.1.16\"><span class=\"toc-item-num\">4.1.2.1.16&nbsp;&nbsp;</span>tee()</a></span></li><li><span><a href=\"#zip_longest()\" data-toc-modified-id=\"zip_longest()-4.1.2.1.17\"><span class=\"toc-item-num\">4.1.2.1.17&nbsp;&nbsp;</span>zip_longest()</a></span></li><li><span><a href=\"#product()\" data-toc-modified-id=\"product()-4.1.2.1.18\"><span class=\"toc-item-num\">4.1.2.1.18&nbsp;&nbsp;</span>product()</a></span></li><li><span><a href=\"#permutations()\" data-toc-modified-id=\"permutations()-4.1.2.1.19\"><span class=\"toc-item-num\">4.1.2.1.19&nbsp;&nbsp;</span>permutations()</a></span></li><li><span><a href=\"#combinations()\" data-toc-modified-id=\"combinations()-4.1.2.1.20\"><span class=\"toc-item-num\">4.1.2.1.20&nbsp;&nbsp;</span>combinations()</a></span></li><li><span><a href=\"#combinations_with_replacement()\" data-toc-modified-id=\"combinations_with_replacement()-4.1.2.1.21\"><span class=\"toc-item-num\">4.1.2.1.21&nbsp;&nbsp;</span>combinations_with_replacement()</a></span></li><li><span><a href=\"#product('ABCD',-repeat=2)\" data-toc-modified-id=\"product('ABCD',-repeat=2)-4.1.2.1.22\"><span class=\"toc-item-num\">4.1.2.1.22&nbsp;&nbsp;</span>product('ABCD', repeat=2)</a></span></li><li><span><a href=\"#permutations('ABCD',-2)\" data-toc-modified-id=\"permutations('ABCD',-2)-4.1.2.1.23\"><span class=\"toc-item-num\">4.1.2.1.23&nbsp;&nbsp;</span>permutations('ABCD', 2)</a></span></li><li><span><a href=\"#combinations('ABCD',-2)\" data-toc-modified-id=\"combinations('ABCD',-2)-4.1.2.1.24\"><span class=\"toc-item-num\">4.1.2.1.24&nbsp;&nbsp;</span>combinations('ABCD', 2)</a></span></li><li><span><a href=\"#combinations_with_replacement('ABCD',-2)\" data-toc-modified-id=\"combinations_with_replacement('ABCD',-2)-4.1.2.1.25\"><span class=\"toc-item-num\">4.1.2.1.25&nbsp;&nbsp;</span>combinations_with_replacement('ABCD', 2)</a></span></li></ul></li><li><span><a href=\"#functoolsモジュール\" data-toc-modified-id=\"functoolsモジュール-4.1.2.2\"><span class=\"toc-item-num\">4.1.2.2&nbsp;&nbsp;</span>functoolsモジュール</a></span><ul class=\"toc-item\"><li><span><a href=\"#reduce\" data-toc-modified-id=\"reduce-4.1.2.2.1\"><span class=\"toc-item-num\">4.1.2.2.1&nbsp;&nbsp;</span>reduce</a></span></li></ul></li><li><span><a href=\"#operatorモジュール\" data-toc-modified-id=\"operatorモジュール-4.1.2.3\"><span class=\"toc-item-num\">4.1.2.3&nbsp;&nbsp;</span>operatorモジュール</a></span></li></ul></li></ul></li></ul></li><li><span><a href=\"#仮想環境\" data-toc-modified-id=\"仮想環境-5\"><span class=\"toc-item-num\">5&nbsp;&nbsp;</span>仮想環境</a></span></li><li><span><a href=\"#進捗を視覚化する\" data-toc-modified-id=\"進捗を視覚化する-6\"><span class=\"toc-item-num\">6&nbsp;&nbsp;</span>進捗を視覚化する</a></span></li><li><span><a href=\"#データ分析・機会学習・ディープラーニング\" data-toc-modified-id=\"データ分析・機会学習・ディープラーニング-7\"><span class=\"toc-item-num\">7&nbsp;&nbsp;</span>データ分析・機会学習・ディープラーニング</a></span><ul class=\"toc-item\"><li><span><a href=\"#jupyter\" data-toc-modified-id=\"jupyter-7.1\"><span class=\"toc-item-num\">7.1&nbsp;&nbsp;</span>jupyter</a></span><ul class=\"toc-item\"><li><span><a href=\"#拡張機能の追加\" data-toc-modified-id=\"拡張機能の追加-7.1.1\"><span class=\"toc-item-num\">7.1.1&nbsp;&nbsp;</span>拡張機能の追加</a></span><ul class=\"toc-item\"><li><span><a href=\"#vimバインディング\" data-toc-modified-id=\"vimバインディング-7.1.1.1\"><span class=\"toc-item-num\">7.1.1.1&nbsp;&nbsp;</span>vimバインディング</a></span></li></ul></li></ul></li></ul></li><li><span><a href=\"#デバッグ\" data-toc-modified-id=\"デバッグ-8\"><span class=\"toc-item-num\">8&nbsp;&nbsp;</span>デバッグ</a></span></li></ul></div>"
   ]
  },
  {
   "cell_type": "markdown",
   "metadata": {},
   "source": [
    "# パッケージマネジャー\n",
    "```\n",
    "sudo python3 -m pip install -U pip\n",
    "```"
   ]
  },
  {
   "cell_type": "markdown",
   "metadata": {},
   "source": [
    "# 文法\n",
    "## 配列\n",
    "\n",
    "後ろからインデックス指定"
   ]
  },
  {
   "cell_type": "code",
   "execution_count": 30,
   "metadata": {},
   "outputs": [
    {
     "name": "stdout",
     "output_type": "stream",
     "text": [
      "3\n",
      "2\n"
     ]
    }
   ],
   "source": [
    "array = [1,2,3]\n",
    "print(array[-1])\n",
    "print(array[-2])"
   ]
  },
  {
   "cell_type": "markdown",
   "metadata": {},
   "source": [
    "# 便利な関数\n",
    "\n",
    "# 標準ライブラリ\n",
    "\n",
    "## 組み込み型"
   ]
  },
  {
   "cell_type": "markdown",
   "metadata": {},
   "source": [
    "### 組み込み関数\n",
    "https://docs.python.jp/3/library/functions.html  \n",
    "インタプリタに組み込まれている関数\n",
    "\n",
    "\n"
   ]
  },
  {
   "cell_type": "markdown",
   "metadata": {},
   "source": [
    "##### zip\n",
    "https://docs.python.jp/3/library/functions.html?highlight=zip#zip  \n",
    "それぞれのイテラブルから要素を集めたイテレータを作成する。"
   ]
  },
  {
   "cell_type": "code",
   "execution_count": 4,
   "metadata": {},
   "outputs": [
    {
     "data": {
      "text/plain": [
       "[[1, 4], [2, 5], [3, 6]]"
      ]
     },
     "execution_count": 4,
     "metadata": {},
     "output_type": "execute_result"
    }
   ],
   "source": [
    "x = [1, 2, 3]\n",
    "y = [4, 5, 6]\n",
    "zipped = [[x, y] for x, y in zip(x, y)]\n",
    "zipped"
   ]
  },
  {
   "cell_type": "code",
   "execution_count": 6,
   "metadata": {},
   "outputs": [
    {
     "data": {
      "text/plain": [
       "{4: 1, 5: 2, 6: 3}"
      ]
     },
     "execution_count": 6,
     "metadata": {},
     "output_type": "execute_result"
    }
   ],
   "source": [
    "zipped = {y:x for x, y in zip(x, y)}\n",
    "zipped #{4: 1, 5: 2, 6: 3}"
   ]
  },
  {
   "cell_type": "markdown",
   "metadata": {},
   "source": [
    "##### enumerate\n",
    "https://docs.python.jp/3/library/functions.html?highlight=enumerate#enumerate  \n",
    "インデックスと値を返す。"
   ]
  },
  {
   "cell_type": "code",
   "execution_count": 27,
   "metadata": {},
   "outputs": [
    {
     "data": {
      "text/plain": [
       "[(1, 0), (2, 1), (3, 2)]"
      ]
     },
     "execution_count": 27,
     "metadata": {},
     "output_type": "execute_result"
    }
   ],
   "source": [
    "x = [1, 2, 3]\n",
    "y = [(v, idx) for (idx, v) in enumerate(x)]\n",
    "y"
   ]
  },
  {
   "cell_type": "markdown",
   "metadata": {},
   "source": [
    "##### map\n",
    "https://docs.python.org/ja/3.6/library/functions.html#map  \n",
    "第一引数で指定した関数で第二引数で渡したiterableオブジェクトを処理します。"
   ]
  },
  {
   "cell_type": "code",
   "execution_count": 10,
   "metadata": {},
   "outputs": [
    {
     "name": "stdout",
     "output_type": "stream",
     "text": [
      "[1, 3, 5, 7, 9]\n"
     ]
    }
   ],
   "source": [
    "# 関数 \n",
    "print(list(map(abs, [-1, 3, -5, 7, -9]))) \n",
    "     \n"
   ]
  },
  {
   "cell_type": "code",
   "execution_count": 11,
   "metadata": {},
   "outputs": [
    {
     "name": "stdout",
     "output_type": "stream",
     "text": [
      "[-2, 6, -10, 14, -18]\n"
     ]
    }
   ],
   "source": [
    "# ラムダ式 \n",
    "print(list(map(lambda x: x * 2, [-1, 3, -5, 7, -9]))) "
   ]
  },
  {
   "cell_type": "code",
   "execution_count": 12,
   "metadata": {},
   "outputs": [
    {
     "name": "stdout",
     "output_type": "stream",
     "text": [
      "[1, -3, 5, -7, 9]\n"
     ]
    }
   ],
   "source": [
    "# 関数形式の標準演算子 \n",
    "# operator.negは引数を負にした数値を返す\n",
    "import operator \n",
    "print(list(map(operator.neg, [-1, 3, -5, 7, -9])))"
   ]
  },
  {
   "cell_type": "markdown",
   "metadata": {},
   "source": [
    "##### filter\n",
    "https://docs.python.jp/3/library/functions.html?highlight=filter#filter  \n",
    "第一引数で指定した関数が返したブーリアンがTrueとなるような第二引数の要素を返す。"
   ]
  },
  {
   "cell_type": "code",
   "execution_count": 13,
   "metadata": {},
   "outputs": [
    {
     "name": "stdout",
     "output_type": "stream",
     "text": [
      "[3, 7]\n"
     ]
    }
   ],
   "source": [
    "# ラムダ式 \n",
    "print( list( filter(lambda x: x >= 0, [-1, 3, -5, 7, -9])))"
   ]
  },
  {
   "cell_type": "markdown",
   "metadata": {},
   "source": [
    "### 関数型プログラミング用モジュール\n",
    "\n",
    "#### itertoolsモジュール\n",
    "\n"
   ]
  },
  {
   "cell_type": "markdown",
   "metadata": {},
   "source": [
    "##### accumulate\n",
    "https://docs.python.jp/3/library/itertools.html?highlight=product#itertools.accumulate  \n",
    "第一引数の要素を一つにまとめた値を第二引数で与えた関数で計算する。第二引数を省略した場合は和を計算。"
   ]
  },
  {
   "cell_type": "code",
   "execution_count": 14,
   "metadata": {},
   "outputs": [
    {
     "name": "stdout",
     "output_type": "stream",
     "text": [
      "1\n",
      "3\n",
      "6\n",
      "10\n"
     ]
    }
   ],
   "source": [
    "import itertools\n",
    "for item in itertools.accumulate([1,2,3,4]):\n",
    "    print(item)"
   ]
  },
  {
   "cell_type": "code",
   "execution_count": 26,
   "metadata": {},
   "outputs": [
    {
     "name": "stdout",
     "output_type": "stream",
     "text": [
      "1\n",
      "2\n",
      "6\n",
      "24\n"
     ]
    }
   ],
   "source": [
    "import operator as op\n",
    "for item in itertools.accumulate([1,2,3,4], op.mul):\n",
    "    print(item)"
   ]
  },
  {
   "cell_type": "markdown",
   "metadata": {},
   "source": [
    "##### chain\n",
    "https://docs.python.jp/3/library/itertools.html?highlight=product#itertools.chain  \n",
    "引数全体が一つのイテラブルであるかのように振る舞う。"
   ]
  },
  {
   "cell_type": "code",
   "execution_count": 20,
   "metadata": {},
   "outputs": [
    {
     "name": "stdout",
     "output_type": "stream",
     "text": [
      "1\n",
      "2\n",
      "3\n",
      "4\n"
     ]
    }
   ],
   "source": [
    "import itertools\n",
    "for item in itertools.chain([1,2], [3,4]):\n",
    "    print(item)"
   ]
  },
  {
   "cell_type": "markdown",
   "metadata": {},
   "source": [
    "無限イテレータ\n",
    "##### count()"
   ]
  },
  {
   "cell_type": "markdown",
   "metadata": {},
   "source": [
    "##### cycle()"
   ]
  },
  {
   "cell_type": "markdown",
   "metadata": {},
   "source": [
    "##### repeat()"
   ]
  },
  {
   "cell_type": "markdown",
   "metadata": {},
   "source": [
    "一番短い入力シーケンスで止まるイテレータ\n",
    "##### accumulate()"
   ]
  },
  {
   "cell_type": "markdown",
   "metadata": {},
   "source": [
    "##### chain()"
   ]
  },
  {
   "cell_type": "markdown",
   "metadata": {},
   "source": [
    "##### chain.from_iterable()"
   ]
  },
  {
   "cell_type": "markdown",
   "metadata": {},
   "source": [
    "##### compress()"
   ]
  },
  {
   "cell_type": "markdown",
   "metadata": {},
   "source": [
    "##### dropwhile()"
   ]
  },
  {
   "cell_type": "markdown",
   "metadata": {},
   "source": [
    "##### filterfalse()"
   ]
  },
  {
   "cell_type": "markdown",
   "metadata": {},
   "source": [
    "##### groupby()"
   ]
  },
  {
   "cell_type": "markdown",
   "metadata": {},
   "source": [
    "##### islice()"
   ]
  },
  {
   "cell_type": "markdown",
   "metadata": {},
   "source": [
    "##### starmap()"
   ]
  },
  {
   "cell_type": "markdown",
   "metadata": {},
   "source": [
    "##### takewhile()"
   ]
  },
  {
   "cell_type": "markdown",
   "metadata": {},
   "source": [
    "##### tee()"
   ]
  },
  {
   "cell_type": "markdown",
   "metadata": {},
   "source": [
    "##### zip_longest()"
   ]
  },
  {
   "cell_type": "markdown",
   "metadata": {},
   "source": [
    "組合せジェネレータ\n",
    "##### product()"
   ]
  },
  {
   "cell_type": "markdown",
   "metadata": {},
   "source": [
    "##### permutations()"
   ]
  },
  {
   "cell_type": "markdown",
   "metadata": {},
   "source": [
    "##### combinations()"
   ]
  },
  {
   "cell_type": "markdown",
   "metadata": {},
   "source": [
    "##### combinations_with_replacement()"
   ]
  },
  {
   "cell_type": "markdown",
   "metadata": {},
   "source": [
    "##### product('ABCD', repeat=2)"
   ]
  },
  {
   "cell_type": "markdown",
   "metadata": {},
   "source": [
    "##### permutations('ABCD', 2)"
   ]
  },
  {
   "cell_type": "markdown",
   "metadata": {},
   "source": [
    "##### combinations('ABCD', 2)"
   ]
  },
  {
   "cell_type": "markdown",
   "metadata": {},
   "source": [
    "##### combinations_with_replacement('ABCD', 2)"
   ]
  },
  {
   "cell_type": "markdown",
   "metadata": {},
   "source": [
    "#### functoolsモジュール\n",
    "https://docs.python.jp/3/library/functools.html\n",
    "> モジュールは高階関数、つまり関数に影響を及ぼしたり他の関数を返したりする関数のためのものです。一般に、どんな呼び出し可能オブジェクトでもこのモジュールの目的には関数として扱えます。\n",
    "\n"
   ]
  },
  {
   "cell_type": "code",
   "execution_count": null,
   "metadata": {},
   "outputs": [],
   "source": []
  },
  {
   "cell_type": "markdown",
   "metadata": {},
   "source": [
    "##### reduce\n",
    "https://docs.python.jp/3/library/functools.html?highlight=reduce#functools.reduce  \n",
    "第一引数の関数をイテラブルの要素に対してに累積的に適用し、単一の値に縮約。畳み込み関数とか呼ばれる。\n",
    "\n"
   ]
  },
  {
   "cell_type": "code",
   "execution_count": 23,
   "metadata": {},
   "outputs": [
    {
     "name": "stdout",
     "output_type": "stream",
     "text": [
      "-5\n"
     ]
    }
   ],
   "source": [
    "from operator import add\n",
    "from functools import reduce\n",
    "# 関数\n",
    "print(reduce(add, [-1, 3, -5, 7, -9]))"
   ]
  },
  {
   "cell_type": "code",
   "execution_count": 24,
   "metadata": {},
   "outputs": [
    {
     "name": "stdout",
     "output_type": "stream",
     "text": [
      "-5\n"
     ]
    }
   ],
   "source": [
    "from functools import reduce\n",
    "# ラムダ\n",
    "print(reduce(lambda x, y: x+y, [-1, 3, -5, 7, -9]))"
   ]
  },
  {
   "cell_type": "markdown",
   "metadata": {},
   "source": [
    "#### operatorモジュール\n",
    "https://docs.python.jp/3/library/operator.html\n",
    "簡単なラムダ式を書くくらいならこっちを使おう。\n",
    "\n"
   ]
  },
  {
   "cell_type": "markdown",
   "metadata": {},
   "source": [
    "# 仮想環境\n",
    "仮想環境の作成\n",
    "\n",
    "```\n",
    "mkdir tmpdir\n",
    "python3 -m venv tmpdir\n",
    "```\n",
    "仮想環境に入る\n",
    "\n",
    "```\n",
    ". tmpdir/bin/activate\n",
    "```\n",
    "\n",
    "仮想環境から出る\n",
    "\n",
    "```\n",
    "deactivate\n",
    "```\n",
    "\n",
    "```\n",
    "sudo dnf install mecab mecab-devel mecab-ipadic\n",
    "```\n",
    "\n",
    "```\n",
    "# Fedora25\n",
    "sudo dnf install redhat-rpm-config\n",
    "pip3 install mecab-python3\n",
    "```\n",
    "\n"
   ]
  },
  {
   "cell_type": "markdown",
   "metadata": {},
   "source": [
    "# 進捗を視覚化する\n",
    "\n",
    "```\n",
    "from tqdm import tqdm\n",
    "for i in tqdm(range(10000)):\n",
    "    ...\n",
    "```\n"
   ]
  },
  {
   "cell_type": "markdown",
   "metadata": {},
   "source": [
    "# データ分析・機会学習・ディープラーニング\n",
    "\n",
    "いろいろダウンロード\n",
    "\n",
    "```\n",
    "sudo pip3 install pystan numpy scipy matplotlib ipython jupyter scikit-learn pandas pillow beautiful-soup html5lib seaborn\n",
    "```"
   ]
  },
  {
   "cell_type": "markdown",
   "metadata": {},
   "source": [
    "## jupyter\n",
    "\n",
    "### 拡張機能の追加\n",
    "\n",
    "```\n",
    "pip3 install jupyter_contrib_nbextensions\n",
    "jupyter contrib nbextension install --user\n",
    "mkdir -p $(jupyter --data-dir)/nbextensions\n",
    "```\n",
    "\n",
    "#### vimバインディング\n",
    "\n",
    "```\n",
    "cd $(jupyter --data-dir)/nbextensions\n",
    "git clone https://github.com/lambdalisue/jupyter-vim-binding vim_binding\n",
    "jupyter nbextension enable vim_binding/vim_binding\n",
    "```\n",
    "\n",
    "vimバインディングにしたときにJupyterモードに入るときのショートカットキーがShift + Escに設定されています。私のPCだとこのShift + Escが入力できなかった（Caps LockをEscにしているが、どうしてもShift + Caps Lockがデフォルトの挙動になってしまう）ので、バインディングをCtrl + Escに変更した。\n",
    "\n",
    "```\n",
    "vim ~/.local/share/jupyter/nbextensions/vim_binding/vim_binding.js\n",
    "```\n",
    "で72行目を変更\n",
    "```\n",
    "...\n",
    "//'Shift-Esc': CodeMirror.prototype.leaveNormalMode,\n",
    "'Ctrl-Esc': CodeMirror.prototype.leaveNormalMode,\n",
    "...\n",
    "```"
   ]
  },
  {
   "cell_type": "markdown",
   "metadata": {},
   "source": [
    "# デバッグ\n",
    "\n",
    "```\n",
    "import pdb; pdb.set_trace()\n",
    "```\n",
    "\n",
    "デバッガコマンドについては以下参照\n",
    "https://docs.python.jp/3/library/pdb.html"
   ]
  }
 ],
 "metadata": {
  "kernelspec": {
   "display_name": "Python 3",
   "language": "python",
   "name": "python3"
  },
  "language_info": {
   "codemirror_mode": {
    "name": "ipython",
    "version": 3
   },
   "file_extension": ".py",
   "mimetype": "text/x-python",
   "name": "python",
   "nbconvert_exporter": "python",
   "pygments_lexer": "ipython3",
   "version": "3.5.4"
  },
  "toc": {
   "nav_menu": {},
   "number_sections": true,
   "sideBar": true,
   "skip_h1_title": false,
   "toc_cell": true,
   "toc_position": {
    "height": "864px",
    "left": "0px",
    "right": "1408px",
    "top": "111px",
    "width": "307px"
   },
   "toc_section_display": "block",
   "toc_window_display": true
  }
 },
 "nbformat": 4,
 "nbformat_minor": 2
}
