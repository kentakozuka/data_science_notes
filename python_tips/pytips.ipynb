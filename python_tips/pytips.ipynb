{
 "cells": [
  {
   "cell_type": "markdown",
   "metadata": {
    "toc": true
   },
   "source": [
    "<h1>Table of Contents<span class=\"tocSkip\"></span></h1>\n",
    "<div class=\"toc\" style=\"margin-top: 1em;\"><ul class=\"toc-item\"><li><span><a href=\"#パッケージマネジャー\" data-toc-modified-id=\"パッケージマネジャー-1\"><span class=\"toc-item-num\">1&nbsp;&nbsp;</span>パッケージマネジャー</a></span></li><li><span><a href=\"#文法\" data-toc-modified-id=\"文法-2\"><span class=\"toc-item-num\">2&nbsp;&nbsp;</span>文法</a></span><ul class=\"toc-item\"><li><span><a href=\"#可変長引数\" data-toc-modified-id=\"可変長引数-2.1\"><span class=\"toc-item-num\">2.1&nbsp;&nbsp;</span>可変長引数</a></span><ul class=\"toc-item\"><li><span><a href=\"#タプル型（*args）\" data-toc-modified-id=\"タプル型（*args）-2.1.1\"><span class=\"toc-item-num\">2.1.1&nbsp;&nbsp;</span>タプル型（*args）</a></span></li><li><span><a href=\"#辞書型（**kargs）\" data-toc-modified-id=\"辞書型（**kargs）-2.1.2\"><span class=\"toc-item-num\">2.1.2&nbsp;&nbsp;</span>辞書型（**kargs）</a></span></li></ul></li><li><span><a href=\"#配列\" data-toc-modified-id=\"配列-2.2\"><span class=\"toc-item-num\">2.2&nbsp;&nbsp;</span>配列</a></span></li><li><span><a href=\"#False問題\" data-toc-modified-id=\"False問題-2.3\"><span class=\"toc-item-num\">2.3&nbsp;&nbsp;</span>False問題</a></span></li></ul></li><li><span><a href=\"#便利な関数\" data-toc-modified-id=\"便利な関数-3\"><span class=\"toc-item-num\">3&nbsp;&nbsp;</span>便利な関数</a></span></li><li><span><a href=\"#標準ライブラリ\" data-toc-modified-id=\"標準ライブラリ-4\"><span class=\"toc-item-num\">4&nbsp;&nbsp;</span>標準ライブラリ</a></span><ul class=\"toc-item\"><li><span><a href=\"#組み込み型\" data-toc-modified-id=\"組み込み型-4.1\"><span class=\"toc-item-num\">4.1&nbsp;&nbsp;</span>組み込み型</a></span><ul class=\"toc-item\"><li><span><a href=\"#組み込み関数\" data-toc-modified-id=\"組み込み関数-4.1.1\"><span class=\"toc-item-num\">4.1.1&nbsp;&nbsp;</span>組み込み関数</a></span></li><li><span><a href=\"#関数型プログラミング用モジュール\" data-toc-modified-id=\"関数型プログラミング用モジュール-4.1.2\"><span class=\"toc-item-num\">4.1.2&nbsp;&nbsp;</span>関数型プログラミング用モジュール</a></span><ul class=\"toc-item\"><li><span><a href=\"#itertoolsモジュール\" data-toc-modified-id=\"itertoolsモジュール-4.1.2.1\"><span class=\"toc-item-num\">4.1.2.1&nbsp;&nbsp;</span>itertoolsモジュール</a></span></li><li><span><a href=\"#functoolsモジュール\" data-toc-modified-id=\"functoolsモジュール-4.1.2.2\"><span class=\"toc-item-num\">4.1.2.2&nbsp;&nbsp;</span>functoolsモジュール</a></span></li><li><span><a href=\"#operatorモジュール\" data-toc-modified-id=\"operatorモジュール-4.1.2.3\"><span class=\"toc-item-num\">4.1.2.3&nbsp;&nbsp;</span>operatorモジュール</a></span></li></ul></li></ul></li></ul></li><li><span><a href=\"#仮想環境\" data-toc-modified-id=\"仮想環境-5\"><span class=\"toc-item-num\">5&nbsp;&nbsp;</span>仮想環境</a></span></li><li><span><a href=\"#進捗を視覚化する\" data-toc-modified-id=\"進捗を視覚化する-6\"><span class=\"toc-item-num\">6&nbsp;&nbsp;</span>進捗を視覚化する</a></span></li><li><span><a href=\"#データ分析・機会学習・ディープラーニング\" data-toc-modified-id=\"データ分析・機会学習・ディープラーニング-7\"><span class=\"toc-item-num\">7&nbsp;&nbsp;</span>データ分析・機会学習・ディープラーニング</a></span><ul class=\"toc-item\"><li><span><a href=\"#jupyter\" data-toc-modified-id=\"jupyter-7.1\"><span class=\"toc-item-num\">7.1&nbsp;&nbsp;</span>jupyter</a></span><ul class=\"toc-item\"><li><span><a href=\"#拡張機能の追加\" data-toc-modified-id=\"拡張機能の追加-7.1.1\"><span class=\"toc-item-num\">7.1.1&nbsp;&nbsp;</span>拡張機能の追加</a></span><ul class=\"toc-item\"><li><span><a href=\"#vimバインディング\" data-toc-modified-id=\"vimバインディング-7.1.1.1\"><span class=\"toc-item-num\">7.1.1.1&nbsp;&nbsp;</span>vimバインディング</a></span></li></ul></li><li><span><a href=\"#デバッグ\" data-toc-modified-id=\"デバッグ-7.1.2\"><span class=\"toc-item-num\">7.1.2&nbsp;&nbsp;</span>デバッグ</a></span></li></ul></li></ul></li><li><span><a href=\"#デバッグ\" data-toc-modified-id=\"デバッグ-8\"><span class=\"toc-item-num\">8&nbsp;&nbsp;</span>デバッグ</a></span></li><li><span><a href=\"#C拡張\" data-toc-modified-id=\"C拡張-9\"><span class=\"toc-item-num\">9&nbsp;&nbsp;</span>C拡張</a></span></li><li><span><a href=\"#並行処理\" data-toc-modified-id=\"並行処理-10\"><span class=\"toc-item-num\">10&nbsp;&nbsp;</span>並行処理</a></span><ul class=\"toc-item\"><li><span><a href=\"#プロセス\" data-toc-modified-id=\"プロセス-10.1\"><span class=\"toc-item-num\">10.1&nbsp;&nbsp;</span>プロセス</a></span></li><li><span><a href=\"#スレッド\" data-toc-modified-id=\"スレッド-10.2\"><span class=\"toc-item-num\">10.2&nbsp;&nbsp;</span>スレッド</a></span></li></ul></li></ul></div>"
   ]
  },
  {
   "cell_type": "markdown",
   "metadata": {},
   "source": [
    "# パッケージマネジャー\n",
    "```\n",
    "sudo python3 -m pip install -U pip\n",
    "```"
   ]
  },
  {
   "cell_type": "markdown",
   "metadata": {},
   "source": [
    "# 文法"
   ]
  },
  {
   "cell_type": "markdown",
   "metadata": {},
   "source": [
    "## 可変長引数"
   ]
  },
  {
   "cell_type": "markdown",
   "metadata": {},
   "source": [
    "### タプル型（*args）"
   ]
  },
  {
   "cell_type": "code",
   "execution_count": 11,
   "metadata": {},
   "outputs": [
    {
     "name": "stdout",
     "output_type": "stream",
     "text": [
      "(1, 2, 4, 'atr')\n"
     ]
    }
   ],
   "source": [
    "def foo(*args):\n",
    "    print(args)\n",
    "\n",
    "foo(1,2,4,'atr')"
   ]
  },
  {
   "cell_type": "markdown",
   "metadata": {},
   "source": [
    "### 辞書型（**kargs）"
   ]
  },
  {
   "cell_type": "code",
   "execution_count": 10,
   "metadata": {},
   "outputs": [
    {
     "name": "stdout",
     "output_type": "stream",
     "text": [
      "{'bar': 'bar', 'dict': 'dict', 'temp': 1243}\n"
     ]
    }
   ],
   "source": [
    "def foo(**kargs):\n",
    "    print(kargs)\n",
    "\n",
    "foo(bar='bar',dict='dict',temp=1243)"
   ]
  },
  {
   "cell_type": "markdown",
   "metadata": {},
   "source": [
    "## 配列\n",
    "\n",
    "後ろからインデックス指定"
   ]
  },
  {
   "cell_type": "code",
   "execution_count": 1,
   "metadata": {},
   "outputs": [
    {
     "name": "stdout",
     "output_type": "stream",
     "text": [
      "3\n",
      "2\n"
     ]
    }
   ],
   "source": [
    "array = [1,2,3]\n",
    "print(array[-1])\n",
    "print(array[-2])"
   ]
  },
  {
   "cell_type": "markdown",
   "metadata": {},
   "source": [
    "## False問題\n",
    "\n",
    "pythonでは以下がFalseと評価される。それ以外は全てTrue。\n",
    "\n",
    "|型|値|\n",
    "|---|---|\n",
    "|Boolean|False|\n",
    "|null|None|\n",
    "|int|0|\n",
    "|float|0.0|\n",
    "|str|''|\n",
    "|list|[]|\n",
    "|tuple|()|\n",
    "|dic|{}|\n",
    "|set|set()|"
   ]
  },
  {
   "cell_type": "markdown",
   "metadata": {},
   "source": [
    "# 便利な関数\n",
    "\n",
    "# 標準ライブラリ\n",
    "\n",
    "## 組み込み型"
   ]
  },
  {
   "cell_type": "markdown",
   "metadata": {},
   "source": [
    "### 組み込み関数\n",
    "https://docs.python.jp/3/library/functions.html  \n",
    "インタプリタに組み込まれている関数\n",
    "\n",
    "\n"
   ]
  },
  {
   "cell_type": "markdown",
   "metadata": {},
   "source": [
    "##### zip\n",
    "https://docs.python.jp/3/library/functions.html?highlight=zip#zip  \n",
    "それぞれのイテラブルから要素を集めたイテレータを作成する。"
   ]
  },
  {
   "cell_type": "code",
   "execution_count": 4,
   "metadata": {},
   "outputs": [
    {
     "data": {
      "text/plain": [
       "[[1, 4], [2, 5], [3, 6]]"
      ]
     },
     "execution_count": 4,
     "metadata": {},
     "output_type": "execute_result"
    }
   ],
   "source": [
    "x = [1, 2, 3]\n",
    "y = [4, 5, 6]\n",
    "zipped = [[x, y] for x, y in zip(x, y)]\n",
    "zipped"
   ]
  },
  {
   "cell_type": "code",
   "execution_count": 6,
   "metadata": {},
   "outputs": [
    {
     "data": {
      "text/plain": [
       "{4: 1, 5: 2, 6: 3}"
      ]
     },
     "execution_count": 6,
     "metadata": {},
     "output_type": "execute_result"
    }
   ],
   "source": [
    "zipped = {y:x for x, y in zip(x, y)}\n",
    "zipped #{4: 1, 5: 2, 6: 3}"
   ]
  },
  {
   "cell_type": "markdown",
   "metadata": {},
   "source": [
    "##### enumerate\n",
    "https://docs.python.jp/3/library/functions.html?highlight=enumerate#enumerate  \n",
    "インデックスと値を返す。"
   ]
  },
  {
   "cell_type": "code",
   "execution_count": 27,
   "metadata": {},
   "outputs": [
    {
     "data": {
      "text/plain": [
       "[(1, 0), (2, 1), (3, 2)]"
      ]
     },
     "execution_count": 27,
     "metadata": {},
     "output_type": "execute_result"
    }
   ],
   "source": [
    "x = [1, 2, 3]\n",
    "y = [(v, idx) for (idx, v) in enumerate(x)]\n",
    "y"
   ]
  },
  {
   "cell_type": "markdown",
   "metadata": {},
   "source": [
    "##### map\n",
    "https://docs.python.org/ja/3.6/library/functions.html#map  \n",
    "第一引数で指定した関数で第二引数で渡したiterableオブジェクトを処理します。"
   ]
  },
  {
   "cell_type": "code",
   "execution_count": 35,
   "metadata": {},
   "outputs": [
    {
     "data": {
      "text/plain": [
       "[1, 3, 5, 7, 9]"
      ]
     },
     "execution_count": 35,
     "metadata": {},
     "output_type": "execute_result"
    }
   ],
   "source": [
    "# 関数 \n",
    "list(map(abs, [-1, 3, -5, 7, -9]))"
   ]
  },
  {
   "cell_type": "code",
   "execution_count": 37,
   "metadata": {},
   "outputs": [
    {
     "data": {
      "text/plain": [
       "[-2, 6, -10, 14, -18]"
      ]
     },
     "execution_count": 37,
     "metadata": {},
     "output_type": "execute_result"
    }
   ],
   "source": [
    "# ラムダ式 \n",
    "list(map(lambda x: x * 2, [-1, 3, -5, 7, -9]))"
   ]
  },
  {
   "cell_type": "code",
   "execution_count": 38,
   "metadata": {},
   "outputs": [
    {
     "data": {
      "text/plain": [
       "[1, -3, 5, -7, 9]"
      ]
     },
     "execution_count": 38,
     "metadata": {},
     "output_type": "execute_result"
    }
   ],
   "source": [
    "# operator.negは引数を負にした数値を返す\n",
    "from operator import neg\n",
    "list(map(neg, [-1, 3, -5, 7, -9]))"
   ]
  },
  {
   "cell_type": "markdown",
   "metadata": {},
   "source": [
    "##### filter\n",
    "https://docs.python.jp/3/library/functions.html?highlight=filter#filter  \n",
    "第一引数で指定した関数が返したブーリアンがTrueとなるような第二引数の要素を返す。"
   ]
  },
  {
   "cell_type": "code",
   "execution_count": 22,
   "metadata": {},
   "outputs": [
    {
     "data": {
      "text/plain": [
       "[3, 7]"
      ]
     },
     "execution_count": 22,
     "metadata": {},
     "output_type": "execute_result"
    }
   ],
   "source": [
    "# ラムダ式 \n",
    "list( filter(lambda x: x >= 0, [-1, 3, -5, 7, -9]))"
   ]
  },
  {
   "cell_type": "markdown",
   "metadata": {},
   "source": [
    "### 関数型プログラミング用モジュール\n",
    "\n",
    "#### itertoolsモジュール\n",
    "\n"
   ]
  },
  {
   "cell_type": "markdown",
   "metadata": {},
   "source": [
    "##### count\n",
    "\n",
    "count(start=0, step=1)  \n",
    "\n",
    "数 start で始まる等間隔の値を返すイテレータを作成します。map() に渡して連続したデータを生成するのによく使われます。 また、 zip() に連続した番号を追加するのにも使われます。 およそ次と等価です:\n",
    "\n"
   ]
  },
  {
   "cell_type": "code",
   "execution_count": 4,
   "metadata": {},
   "outputs": [
    {
     "name": "stdout",
     "output_type": "stream",
     "text": [
      "2.5\n",
      "3.0\n",
      "3.5\n",
      "4.0\n",
      "4.5\n"
     ]
    }
   ],
   "source": [
    "from itertools import count\n",
    "for i in count(2.5, 0.5):\n",
    "    print(i)\n",
    "    if i > 4:\n",
    "        break"
   ]
  },
  {
   "cell_type": "markdown",
   "metadata": {},
   "source": [
    "##### cycle\n",
    "\n",
    "cycle(iterable)  \n",
    "\n",
    "iterable から要素を取得し、そのコピーを保存するイテレータを作成します。iterable の全要素を返すと、セーブされたコピーから要素を返します。これを無限に繰り返します。"
   ]
  },
  {
   "cell_type": "code",
   "execution_count": 1,
   "metadata": {},
   "outputs": [
    {
     "name": "stdout",
     "output_type": "stream",
     "text": [
      "1\n",
      "2\n",
      "3\n",
      "1\n",
      "2\n",
      "3\n",
      "1\n"
     ]
    }
   ],
   "source": [
    "from itertools import cycle\n",
    "cnt = 0\n",
    "for i in cycle([1,2,3]):\n",
    "    print(i)\n",
    "    if cnt > 5:\n",
    "        break\n",
    "    cnt += 1"
   ]
  },
  {
   "cell_type": "markdown",
   "metadata": {},
   "source": [
    "##### repeat()\n",
    "繰り返し object を返すイテレータを作成します。 times 引数を指定しなければ、無限に値を返し続けます。"
   ]
  },
  {
   "cell_type": "code",
   "execution_count": 23,
   "metadata": {},
   "outputs": [
    {
     "data": {
      "text/plain": [
       "['a', 'a', 'a']"
      ]
     },
     "execution_count": 23,
     "metadata": {},
     "output_type": "execute_result"
    }
   ],
   "source": [
    "from itertools import repeat\n",
    "[ i for i in repeat('a', 3)]"
   ]
  },
  {
   "cell_type": "markdown",
   "metadata": {},
   "source": [
    "##### accumulate()\n",
    "https://docs.python.jp/3/library/itertools.html?highlight=product#itertools.accumulate  \n",
    "第一引数の要素を一つにまとめた値を第二引数で与えた関数で計算する。第二引数を省略した場合は和を計算。"
   ]
  },
  {
   "cell_type": "code",
   "execution_count": 24,
   "metadata": {},
   "outputs": [
    {
     "data": {
      "text/plain": [
       "[8, 8, 8, 8]"
      ]
     },
     "execution_count": 24,
     "metadata": {},
     "output_type": "execute_result"
    }
   ],
   "source": [
    "import itertools\n",
    "[ i for item in itertools.accumulate([1,2,3,4])]"
   ]
  },
  {
   "cell_type": "code",
   "execution_count": 25,
   "metadata": {},
   "outputs": [
    {
     "data": {
      "text/plain": [
       "[8, 8, 8, 8]"
      ]
     },
     "execution_count": 25,
     "metadata": {},
     "output_type": "execute_result"
    }
   ],
   "source": [
    "import operator as op\n",
    "[ i for item in itertools.accumulate([1,2,3,4], op.mul)]"
   ]
  },
  {
   "cell_type": "markdown",
   "metadata": {},
   "source": [
    "##### chain()\n",
    "https://docs.python.jp/3/library/itertools.html?highlight=product#itertools.chain  \n",
    "引数全体が一つのイテラブルであるかのように振る舞う。"
   ]
  },
  {
   "cell_type": "code",
   "execution_count": 26,
   "metadata": {},
   "outputs": [
    {
     "data": {
      "text/plain": [
       "[8, 8, 8, 8]"
      ]
     },
     "execution_count": 26,
     "metadata": {},
     "output_type": "execute_result"
    }
   ],
   "source": [
    "import itertools\n",
    "[ i for item in itertools.chain([1,2], [3,4])]"
   ]
  },
  {
   "cell_type": "markdown",
   "metadata": {},
   "source": [
    "##### chain.from_iterable()\n",
    "先頭の iterable の全要素を返し、次に2番目の iterable の全要素を返し、と全 iterable の要素を返すイテレータを作成します。連続したシーケンスを一つのシーケンスとして扱う場合に使用します。"
   ]
  },
  {
   "cell_type": "code",
   "execution_count": 19,
   "metadata": {},
   "outputs": [
    {
     "data": {
      "text/plain": [
       "['A', 'B', 'C', 'D', 'E']"
      ]
     },
     "execution_count": 19,
     "metadata": {},
     "output_type": "execute_result"
    }
   ],
   "source": [
    "from itertools import chain\n",
    "[ i for i in chain.from_iterable(['AB', 'CDE'])]"
   ]
  },
  {
   "cell_type": "markdown",
   "metadata": {},
   "source": [
    "##### compress()\n",
    "data の要素から selectors の対応する要素が True と評価されるものだけをフィルタしたイテレータを作ります。  \n",
    "data と selectors のいずれかが尽きたときに止まります。"
   ]
  },
  {
   "cell_type": "code",
   "execution_count": 17,
   "metadata": {},
   "outputs": [
    {
     "data": {
      "text/plain": [
       "['A', 'C', 'E', 'F']"
      ]
     },
     "execution_count": 17,
     "metadata": {},
     "output_type": "execute_result"
    }
   ],
   "source": [
    "from itertools import compress\n",
    "[ i for i in compress('ABCDEF', [1,0,1,0,1,1])]"
   ]
  },
  {
   "cell_type": "markdown",
   "metadata": {},
   "source": [
    "##### dropwhile()\n",
    "predicate (述語) が真である間は要素を飛ばし、その後は全ての要素を返すイテレータを作成します。  \n",
    "このイテレータは、predicate が最初に偽になるまで 全く 要素を返さない"
   ]
  },
  {
   "cell_type": "code",
   "execution_count": 16,
   "metadata": {},
   "outputs": [
    {
     "data": {
      "text/plain": [
       "[6, 4, 1]"
      ]
     },
     "execution_count": 16,
     "metadata": {},
     "output_type": "execute_result"
    }
   ],
   "source": [
    "from itertools import dropwhile\n",
    "[ i for i in dropwhile(lambda x: x<5, [1,4,6,4,1])]"
   ]
  },
  {
   "cell_type": "markdown",
   "metadata": {},
   "source": [
    "##### filterfalse()\n",
    "iteable から predicate が False となる要素だけを返すイテレータを作成します。predicate が None の場合、偽の要素だけを返します。"
   ]
  },
  {
   "cell_type": "code",
   "execution_count": 15,
   "metadata": {},
   "outputs": [
    {
     "data": {
      "text/plain": [
       "[0, 2, 4, 6, 8]"
      ]
     },
     "execution_count": 15,
     "metadata": {},
     "output_type": "execute_result"
    }
   ],
   "source": [
    "from itertools import filterfalse\n",
    "[ i for i in filterfalse(lambda x: x%2, range(10))]"
   ]
  },
  {
   "cell_type": "markdown",
   "metadata": {},
   "source": [
    "##### groupby()\n",
    "\n",
    "groupby(iterable, key=None)\n",
    "\n",
    "同じキーをもつような要素からなる iterable 中のグループに対して、キーとグループを返すようなイテレータを作成します。  \n",
    "key は各要素に対するキー値を計算する関数です。キーを指定しない場合や None にした場合、key 関数のデフォルトは恒等関数になり要素をそのまま返します。  \n",
    "通常、iterable は同じキー関数でソート済みである必要があります。"
   ]
  },
  {
   "cell_type": "code",
   "execution_count": 14,
   "metadata": {},
   "outputs": [
    {
     "data": {
      "text/plain": [
       "{'A': ['A', 'A', 'A', 'A'], 'B': ['B', 'B', 'B'], 'C': ['C', 'C'], 'D': ['D']}"
      ]
     },
     "execution_count": 14,
     "metadata": {},
     "output_type": "execute_result"
    }
   ],
   "source": [
    "from itertools import groupby\n",
    "{k:list(g) for k, g in groupby('AAAABBBCCD')}"
   ]
  },
  {
   "cell_type": "code",
   "execution_count": 30,
   "metadata": {},
   "outputs": [
    {
     "data": {
      "text/plain": [
       "{1: [1], 2: [2], 3: [3], 4: [4, 5, 6, 7, 8]}"
      ]
     },
     "execution_count": 30,
     "metadata": {},
     "output_type": "execute_result"
    }
   ],
   "source": [
    "from itertools import groupby\n",
    "{ k:list(g) for k, g in groupby([1,2,3,4,5,6,7,8], lambda x: min(x, 4))}"
   ]
  },
  {
   "cell_type": "markdown",
   "metadata": {},
   "source": [
    "##### islice()\n",
    "\n",
    "islice(iterable, start, stop[, step])\n",
    "\n",
    "iterable から要素を選択して返すイテレータを作成します。 start が0でない場合、iterable の要素は start に達するまでスキップされます。"
   ]
  },
  {
   "cell_type": "code",
   "execution_count": 32,
   "metadata": {},
   "outputs": [
    {
     "data": {
      "text/plain": [
       "['A', 'C', 'E', 'G']"
      ]
     },
     "execution_count": 32,
     "metadata": {},
     "output_type": "execute_result"
    }
   ],
   "source": [
    "from itertools import islice\n",
    "[ i for i in islice('ABCDEFG', 0, None, 2)]"
   ]
  },
  {
   "cell_type": "markdown",
   "metadata": {},
   "source": [
    "##### starmap()\n",
    "\n",
    "starmap(function, iterable)\n",
    "\n",
    "iterables の要素を引数として funtion を計算するイテレータを作成します。  \n",
    "function の引数が一つの iterable からタプルに既にグループ化されている (データが \"zip済み\") 場合、map() の代わりに使用します。"
   ]
  },
  {
   "cell_type": "code",
   "execution_count": 33,
   "metadata": {},
   "outputs": [
    {
     "data": {
      "text/plain": [
       "[32, 9, 1000]"
      ]
     },
     "execution_count": 33,
     "metadata": {},
     "output_type": "execute_result"
    }
   ],
   "source": [
    "from itertools import starmap\n",
    "[i for i in starmap(pow, [(2,5), (3,2), (10,3)])]"
   ]
  },
  {
   "cell_type": "markdown",
   "metadata": {},
   "source": [
    "##### takewhile()\n",
    "\n",
    "takewhile(predicate, iterable)\n",
    "\n",
    "predicate が真である限り iterable から要素を返すイテレータを作成します。"
   ]
  },
  {
   "cell_type": "code",
   "execution_count": 40,
   "metadata": {},
   "outputs": [
    {
     "data": {
      "text/plain": [
       "[1, 4]"
      ]
     },
     "execution_count": 40,
     "metadata": {},
     "output_type": "execute_result"
    }
   ],
   "source": [
    "from itertools import takewhile\n",
    "[ i for i in takewhile(lambda x: x<5, [1,4,6,4,1])]"
   ]
  },
  {
   "cell_type": "markdown",
   "metadata": {},
   "source": [
    "##### tee()\n",
    "\n",
    "tee(iterable, n=2)\n",
    "\n",
    "一つの iterable から n 個の独立したイテレータを返します。  \n",
    "一度 tee() でイテレータを分割すると、もとの iterable を他で使ってはいけません。  \n",
    "さもなければ、 tee() オブジェクトの知らない間に iterable が先の要素に進んでしまうことになります。\n",
    "tee() はかなり大きなメモリ領域を使用するかもしれません (使用するメモリ量はiterableの大きさに依存します)。  \n",
    "一般には、一つのイテレータが他のイテレータよりも先にほとんどまたは全ての要素を消費するような場合には、 tee() よりも list() を使った方が高速です。"
   ]
  },
  {
   "cell_type": "code",
   "execution_count": 45,
   "metadata": {},
   "outputs": [
    {
     "data": {
      "text/plain": [
       "[[1, 4, 9, 16, 25, 36], [1, 4, 9, 16, 25, 36], [1, 4, 9, 16, 25, 36]]"
      ]
     },
     "execution_count": 45,
     "metadata": {},
     "output_type": "execute_result"
    }
   ],
   "source": [
    "from itertools import tee\n",
    "l = [1,2,3,4,5,6]\n",
    "[[j for j in map(lambda x: x**2, i)] for i in tee(l, 3)]"
   ]
  },
  {
   "cell_type": "markdown",
   "metadata": {},
   "source": [
    "##### zip_longest()\n",
    "\n",
    "zip_longest(*iterables, fillvalue=None)\n",
    "\n",
    "各 iterable の要素をまとめるイテレータを作成します。iterable の長さが違う場合、足りない値は fillvalue で埋められます。最も長い itarable が尽きるまでイテレーションします。"
   ]
  },
  {
   "cell_type": "code",
   "execution_count": 48,
   "metadata": {},
   "outputs": [
    {
     "data": {
      "text/plain": [
       "[('A', 'x'), ('B', 'y'), ('C', '-'), ('D', '-')]"
      ]
     },
     "execution_count": 48,
     "metadata": {},
     "output_type": "execute_result"
    }
   ],
   "source": [
    "from itertools import zip_longest\n",
    "[ i for i in zip_longest('ABCD', 'xy', fillvalue='-')]"
   ]
  },
  {
   "cell_type": "markdown",
   "metadata": {},
   "source": [
    "##### product()\n",
    "\n",
    "product(*iterables, repeat=1)\n",
    "\n",
    "入力イテラブルのデカルト積です。"
   ]
  },
  {
   "cell_type": "code",
   "execution_count": 50,
   "metadata": {},
   "outputs": [
    {
     "data": {
      "text/plain": [
       "[('A', 'x'), ('A', 'y'), ('B', 'x'), ('B', 'y'), ('C', 'x'), ('C', 'y')]"
      ]
     },
     "execution_count": 50,
     "metadata": {},
     "output_type": "execute_result"
    }
   ],
   "source": [
    "from itertools import product\n",
    "[ i for i in product('ABC', 'xy')]"
   ]
  },
  {
   "cell_type": "markdown",
   "metadata": {},
   "source": [
    "##### permutations()\n",
    "\n",
    "permutations(iterable, r=None)\n",
    "\n",
    "iterable の要素からなる長さ r の順列 (permutation) を連続的に返します。"
   ]
  },
  {
   "cell_type": "code",
   "execution_count": 55,
   "metadata": {},
   "outputs": [
    {
     "data": {
      "text/plain": [
       "[('A', 'B'), ('A', 'C'), ('B', 'A'), ('B', 'C'), ('C', 'A'), ('C', 'B')]"
      ]
     },
     "execution_count": 55,
     "metadata": {},
     "output_type": "execute_result"
    }
   ],
   "source": [
    "from itertools import permutations\n",
    "[ i for i in permutations('ABC', 2)]"
   ]
  },
  {
   "cell_type": "markdown",
   "metadata": {},
   "source": [
    "##### combinations()\n",
    "\n",
    "combinations(iterable, r)\n",
    "\n",
    "入力 iterable の要素からなる長さ r の部分列を返します。  \n",
    "組合せは辞書式順序で出力されます。したがって、入力 iterable がソートされていれば、組合せのタプルはソートされた順番で生成されます。  \n",
    "各要素は場所に基づいて一意に取り扱われ、値にはよりません。入力された要素がバラバラなら各組合せの中に重複した値は現れません。  "
   ]
  },
  {
   "cell_type": "code",
   "execution_count": 57,
   "metadata": {},
   "outputs": [
    {
     "data": {
      "text/plain": [
       "[('A', 'B'), ('A', 'C'), ('A', 'D'), ('B', 'C'), ('B', 'D'), ('C', 'D')]"
      ]
     },
     "execution_count": 57,
     "metadata": {},
     "output_type": "execute_result"
    }
   ],
   "source": [
    "from itertools import combinations\n",
    "[ i for i in combinations('ABCD', 2)]"
   ]
  },
  {
   "cell_type": "markdown",
   "metadata": {},
   "source": [
    "##### combinations_with_replacement()\n",
    "\n",
    "combinations_with_replacement(iterable, r)\n",
    "\n",
    "入力 iterable から、それぞれの要素が複数回現れることを許して、長さ r の要素の部分列を返します。  \n",
    "組合せは辞書式順序で出力されます。したがって、入力 iterable がソートされていれば、組合せのタプルはソートされた順番で生成されます。  \n",
    "要素は、値ではなく位置に基づいて一意に扱われます。ですから、入力の要素が一意であれば、生成された組合せも一意になります。  "
   ]
  },
  {
   "cell_type": "code",
   "execution_count": 59,
   "metadata": {},
   "outputs": [
    {
     "data": {
      "text/plain": [
       "[('A', 'A'), ('A', 'B'), ('A', 'C'), ('B', 'B'), ('B', 'C'), ('C', 'C')]"
      ]
     },
     "execution_count": 59,
     "metadata": {},
     "output_type": "execute_result"
    }
   ],
   "source": [
    "from itertools import combinations_with_replacement\n",
    "[ i for i in combinations_with_replacement('ABC', 2)]"
   ]
  },
  {
   "cell_type": "markdown",
   "metadata": {},
   "source": [
    "#### functoolsモジュール\n",
    "https://docs.python.jp/3/library/functools.html\n",
    "> モジュールは高階関数、つまり関数に影響を及ぼしたり他の関数を返したりする関数のためのものです。一般に、どんな呼び出し可能オブジェクトでもこのモジュールの目的には関数として扱えます。\n",
    "\n"
   ]
  },
  {
   "cell_type": "markdown",
   "metadata": {},
   "source": [
    "##### reduce\n",
    "https://docs.python.jp/3/library/functools.html?highlight=reduce#functools.reduce  \n",
    "第一引数の関数をイテラブルの要素に対してに累積的に適用し、単一の値に縮約。畳み込み関数とか呼ばれる。\n",
    "\n"
   ]
  },
  {
   "cell_type": "code",
   "execution_count": 23,
   "metadata": {},
   "outputs": [
    {
     "name": "stdout",
     "output_type": "stream",
     "text": [
      "-5\n"
     ]
    }
   ],
   "source": [
    "from operator import add\n",
    "from functools import reduce\n",
    "# 関数\n",
    "print(reduce(add, [-1, 3, -5, 7, -9]))"
   ]
  },
  {
   "cell_type": "code",
   "execution_count": 24,
   "metadata": {},
   "outputs": [
    {
     "name": "stdout",
     "output_type": "stream",
     "text": [
      "-5\n"
     ]
    }
   ],
   "source": [
    "from functools import reduce\n",
    "# ラムダ\n",
    "print(reduce(lambda x, y: x+y, [-1, 3, -5, 7, -9]))"
   ]
  },
  {
   "cell_type": "markdown",
   "metadata": {},
   "source": [
    "#### operatorモジュール\n",
    "https://docs.python.jp/3/library/operator.html\n",
    "簡単なラムダ式を書くくらいならこっちを使おう。\n",
    "\n"
   ]
  },
  {
   "cell_type": "markdown",
   "metadata": {},
   "source": [
    "# 仮想環境\n",
    "仮想環境の作成\n",
    "\n",
    "```\n",
    "mkdir tmpdir\n",
    "python3 -m venv tmpdir\n",
    "```\n",
    "仮想環境に入る\n",
    "\n",
    "```\n",
    ". tmpdir/bin/activate\n",
    "```\n",
    "\n",
    "仮想環境から出る\n",
    "\n",
    "```\n",
    "deactivate\n",
    "```\n",
    "\n",
    "```\n",
    "sudo dnf install mecab mecab-devel mecab-ipadic\n",
    "```\n",
    "\n",
    "```\n",
    "# Fedora25\n",
    "sudo dnf install redhat-rpm-config\n",
    "pip3 install mecab-python3\n",
    "```\n",
    "\n"
   ]
  },
  {
   "cell_type": "markdown",
   "metadata": {},
   "source": [
    "# 進捗を視覚化する\n",
    "\n",
    "```\n",
    "from tqdm import tqdm\n",
    "for i in tqdm(range(10000)):\n",
    "    ...\n",
    "```\n"
   ]
  },
  {
   "cell_type": "markdown",
   "metadata": {},
   "source": [
    "# データ分析・機会学習・ディープラーニング\n",
    "\n",
    "いろいろダウンロード\n",
    "\n",
    "```\n",
    "sudo pip3 install pystan numpy scipy matplotlib ipython jupyter scikit-learn pandas pillow beautiful-soup html5lib seaborn\n",
    "```"
   ]
  },
  {
   "cell_type": "markdown",
   "metadata": {},
   "source": [
    "## jupyter\n",
    "\n",
    "### 拡張機能の追加\n",
    "\n",
    "```\n",
    "pip3 install jupyter_contrib_nbextensions\n",
    "jupyter contrib nbextension install --user\n",
    "mkdir -p $(jupyter --data-dir)/nbextensions\n",
    "```\n",
    "\n",
    "#### vimバインディング\n",
    "\n",
    "```\n",
    "cd $(jupyter --data-dir)/nbextensions\n",
    "git clone https://github.com/lambdalisue/jupyter-vim-binding vim_binding\n",
    "jupyter nbextension enable vim_binding/vim_binding\n",
    "```\n",
    "\n",
    "vimバインディングにしたときにJupyterモードに入るときのショートカットキーがShift + Escに設定されています。私のPCだとこのShift + Escが入力できなかった（Caps LockをEscにしているが、どうしてもShift + Caps Lockがデフォルトの挙動になってしまう）ので、バインディングをCtrl + Escに変更した。\n",
    "\n",
    "```\n",
    "vim ~/.local/share/jupyter/nbextensions/vim_binding/vim_binding.js\n",
    "```\n",
    "で72行目を変更\n",
    "```\n",
    "...\n",
    "//'Shift-Esc': CodeMirror.prototype.leaveNormalMode,\n",
    "'Ctrl-Esc': CodeMirror.prototype.leaveNormalMode,\n",
    "...\n",
    "```\n",
    "\n",
    "### デバッグ\n",
    "\n",
    "%debug"
   ]
  },
  {
   "cell_type": "markdown",
   "metadata": {},
   "source": [
    "# デバッグ\n",
    "\n",
    "```\n",
    "import pdb; pdb.set_trace()\n",
    "```\n",
    "\n",
    "デバッガコマンドについては以下参照\n",
    "https://docs.python.jp/3/library/pdb.html"
   ]
  },
  {
   "cell_type": "markdown",
   "metadata": {},
   "source": [
    "# C拡張\n",
    "\n",
    "https://gist.github.com/physacco/2e1b52415f3a964ad2a542a99bebed8f\n"
   ]
  },
  {
   "cell_type": "markdown",
   "metadata": {},
   "source": [
    "```\n",
    "#include <stdio.h>\n",
    "#include <Python.h>\n",
    "\n",
    "// Module method definitions\n",
    "static PyObject* hello_world(PyObject *self, PyObject *args) {\n",
    "    printf(\"Hello, world!\\n\");\n",
    "    Py_RETURN_NONE;\n",
    "}\n",
    "\n",
    "static PyObject* hello(PyObject *self, PyObject *args) {\n",
    "    const char* name;\n",
    "    if (!PyArg_ParseTuple(args, \"s\", &name)) {\n",
    "        return NULL;\n",
    "    }\n",
    "\n",
    "    printf(\"Hello, %s!\\n\", name);\n",
    "    Py_RETURN_NONE;\n",
    "}\n",
    "\n",
    "// Method definition object for this extension, these argumens mean:\n",
    "// ml_name: The name of the method\n",
    "// ml_meth: Function pointer to the method implementation\n",
    "// ml_flags: Flags indicating special features of this method, such as\n",
    "//          accepting arguments, accepting keyword arguments, being a\n",
    "//          class method, or being a static method of a class.\n",
    "// ml_doc:  Contents of this method's docstring\n",
    "static PyMethodDef hello_methods[] = { \n",
    "    {   \n",
    "        \"hello_world\", hello_world, METH_NOARGS,\n",
    "        \"Print 'hello world' from a method defined in a C extension.\"\n",
    "    },  \n",
    "    {   \n",
    "        \"hello\", hello, METH_VARARGS,\n",
    "        \"Print 'hello xxx' from a method defined in a C extension.\"\n",
    "    },  \n",
    "    {NULL, NULL, 0, NULL}\n",
    "};\n",
    "\n",
    "// Module definition\n",
    "// The arguments of this structure tell Python what to call your extension,\n",
    "// what it's methods are and where to look for it's method definitions\n",
    "static struct PyModuleDef hello_definition = { \n",
    "    PyModuleDef_HEAD_INIT,\n",
    "    \"hello\",\n",
    "    \"A Python module that prints 'hello world' from C code.\",\n",
    "    -1, \n",
    "    hello_methods\n",
    "};\n",
    "\n",
    "// Module initialization\n",
    "// Python calls this function when importing your extension. It is important\n",
    "// that this function is named PyInit_[[your_module_name]] exactly, and matches\n",
    "// the name keyword argument in setup.py's setup() call.\n",
    "PyMODINIT_FUNC PyInit_hello(void) {\n",
    "    Py_Initialize();\n",
    "    return PyModule_Create(&hello_definition);\n",
    "}\n",
    "```"
   ]
  },
  {
   "cell_type": "markdown",
   "metadata": {},
   "source": [
    "```\n",
    "#!/usr/bin/env python3\n",
    "# encoding: utf-8\n",
    "\n",
    "from distutils.core import setup, Extension\n",
    "\n",
    "hello_module = Extension('hello', sources = ['hello.c'])\n",
    "\n",
    "setup(name='hello',\n",
    "      version='0.1.0',\n",
    "      description='Hello world module written in C',\n",
    "ext_modules=[hello_module])\n",
    "```"
   ]
  },
  {
   "cell_type": "markdown",
   "metadata": {},
   "source": [
    "\n",
    "```\n",
    "Build\n",
    "\n",
    "python3 setup.py build\n",
    "\n",
    "Output: build/lib.macosx-10.11-x86_64-3.5/hello.cpython-35m-darwin.so\n",
    "Run\n",
    "\n",
    "cd build/lib.macosx-10.11-x86_64-3.5\n",
    "\n",
    "python3\n",
    "\n",
    ">>> import hello\n",
    ">>> hello.hello_world()\n",
    "Hello, world!\n",
    ">>> hello.hello('world')\n",
    "Hello, world!\n",
    "```"
   ]
  },
  {
   "cell_type": "markdown",
   "metadata": {},
   "source": [
    "# 並行処理\n",
    "\n",
    "並行処理をする理由\n",
    "* I/Oバウンド\n",
    "* CPUバウンド\n",
    "\n",
    "並行処理をする場所\n",
    "* プロセス\n",
    "* スレッド\n",
    "プロセス内で実行され、プロセス内のすべてのものにアクセスできる。\n",
    "\n",
    "ベストプラクティス\n",
    "* スレッドはI/Oバウンド問題の解決のために使う\n",
    "* CPUバウンド問題では、プロセス、ネットワーキング、イベントを使う"
   ]
  },
  {
   "cell_type": "markdown",
   "metadata": {},
   "source": [
    "## プロセス"
   ]
  },
  {
   "cell_type": "code",
   "execution_count": 2,
   "metadata": {},
   "outputs": [
    {
     "name": "stdout",
     "output_type": "stream",
     "text": [
      "Drying salad dish\n",
      "Drying bread dish\n",
      "Drying entree dish\n",
      "Drying dessert dish\n",
      "Washing salad dish\n",
      "Washing bread dish\n",
      "Washing entree dish\n",
      "Washing dessert dish\n"
     ]
    }
   ],
   "source": [
    "import multiprocessing as mp\n",
    "\n",
    "def washer(dishes, output):\n",
    "    for dish in dishes:\n",
    "        print('Washing', dish, 'dish')\n",
    "        output.put(dish)\n",
    "def dryer(input):\n",
    "    while True:\n",
    "        dish = input.get()\n",
    "        print('Drying', dish, 'dish')\n",
    "        input.task_done()\n",
    "\n",
    "dish_queue = mp.JoinableQueue()\n",
    "dryer_proc = mp.Process(target=dryer, args=(dish_queue,))\n",
    "dryer_proc.daemon = True\n",
    "dryer_proc.start()\n",
    "\n",
    "dishes = ['salad', 'bread', 'entree', 'dessert']\n",
    "washer(dishes, dish_queue)\n",
    "dish_queue.join()\n"
   ]
  },
  {
   "cell_type": "markdown",
   "metadata": {},
   "source": [
    "## スレッド"
   ]
  },
  {
   "cell_type": "code",
   "execution_count": null,
   "metadata": {},
   "outputs": [],
   "source": [
    "import threading, queue\n",
    "import time\n",
    "\n",
    "def washer(dishes, dish_queue):\n",
    "    for dish in dishes:\n",
    "        print('Washing', dish)\n",
    "        time.sleep(1)\n",
    "        dish_queue.put(dish)\n",
    "def dryer(dish_queue):\n",
    "    while True:\n",
    "        dish = dish_queue.get()\n",
    "        print('Drying', dish)\n",
    "        time.sleep(2)\n",
    "        dish_queue.task_done()\n",
    "        \n",
    "dish_queue = queue.Queue()\n",
    "for n in range(2):\n",
    "    dryer_thread = threading.Thread(target=dryer, args=(dish_queue))\n",
    "    dryer_thread.start()\n",
    "\n",
    "dishes = ['salad', 'bread', 'entree', 'dessert']\n",
    "washer(dishes, dish_queue)\n",
    "dish_queue.join()\n"
   ]
  },
  {
   "cell_type": "code",
   "execution_count": null,
   "metadata": {},
   "outputs": [],
   "source": []
  }
 ],
 "metadata": {
  "kernelspec": {
   "display_name": "Python 3",
   "language": "python",
   "name": "python3"
  },
  "language_info": {
   "codemirror_mode": {
    "name": "ipython",
    "version": 3
   },
   "file_extension": ".py",
   "mimetype": "text/x-python",
   "name": "python",
   "nbconvert_exporter": "python",
   "pygments_lexer": "ipython3",
   "version": "3.6.2"
  },
  "toc": {
   "nav_menu": {},
   "number_sections": true,
   "sideBar": true,
   "skip_h1_title": false,
   "toc_cell": true,
   "toc_position": {
    "height": "864px",
    "left": "0px",
    "right": "1408px",
    "top": "111px",
    "width": "307px"
   },
   "toc_section_display": "block",
   "toc_window_display": true
  }
 },
 "nbformat": 4,
 "nbformat_minor": 2
}
