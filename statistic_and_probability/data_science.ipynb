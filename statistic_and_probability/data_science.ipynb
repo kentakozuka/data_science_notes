{
 "cells": [
  {
   "cell_type": "markdown",
   "metadata": {},
   "source": [
    "# 参考にした資料\n",
    "\n",
    "\n",
    "小島 寛之, 完全独習 統計学入門 単行本（ソフトカバー）, 2006/9/28  \n",
    "https://mathtrain.jp/  \n",
    "https://ja.wikipedia.org/  \n"
   ]
  },
  {
   "cell_type": "code",
   "execution_count": 26,
   "metadata": {},
   "outputs": [],
   "source": [
    "import matplotlib as mpl\n",
    "import matplotlib.pyplot as plt\n",
    "import numpy as np\n",
    "import pandas as pd\n",
    "import seaborn as sns\n",
    "from pandas import Series,DataFrame\n",
    "\n",
    "# statsライブラリをImportします。\n",
    "from scipy import stats\n",
    "\n",
    "%matplotlib inline"
   ]
  },
  {
   "cell_type": "markdown",
   "metadata": {},
   "source": [
    "# ネイマン・ピアソン統計学とは\n",
    "\n",
    "記述統計:\t得られたデータから特徴を抜き出す技術\n",
    "推測統計:\t確率理論を応用し、全体を把握しきれないほど大きな対象や、未来に起こることを推測する技術\n",
    "縮約:\t\tデータとして並んでいるたくさんの数字を、何かの基準で整理整頓して、意味のある情報だけ抽出すること\n",
    "統計量:\t\t統計的技術で対象のデータから得られた特徴を表す数値\n"
   ]
  },
  {
   "cell_type": "markdown",
   "metadata": {},
   "source": [
    "# ヒストグラム\n",
    "\n",
    "## 度数分布表\n",
    "\n",
    "|階級|階級値|度数|相対度数|累積度数|\n",
    "|---|---|---|---|---|\n",
    "|141-145|143|1|0.0125|1|\n",
    "|146-150|148|6|0.075|7|\n",
    "|151-155|153|19|0.2375|26|\n",
    "|156-160|158|30|0.375|56|\n",
    "|161-165|163|18|0.225|74|\n",
    "|166-170|168|6|0.0725|80|\n",
    "\n",
    "**階級**：  \n",
    "おおよそ範囲が最大値ｆから最小値になるような区切りのいい範囲を作り、その範囲を5〜8程度に区切った小区間  \n",
    "**階級値**：  \n",
    "各階級を代表する値。一般的には真ん中の値。  \n",
    "**度数**：  \n",
    "各階級に入るデータ数。  \n",
    "**相対度数**：  \n",
    "各階級の度数の、全体に占める割合。総和が1になる。  \n",
    "**累積度数**：  \n",
    "その階級までの度数を合計したもの。  \n",
    "\n",
    "\n"
   ]
  },
  {
   "cell_type": "code",
   "execution_count": 30,
   "metadata": {},
   "outputs": [
    {
     "name": "stdout",
     "output_type": "stream",
     "text": [
      "<class 'pandas.core.frame.DataFrame'>\n",
      "RangeIndex: 80 entries, 0 to 79\n",
      "Data columns (total 1 columns):\n",
      "0    80 non-null int64\n",
      "dtypes: int64(1)\n",
      "memory usage: 720.0 bytes\n"
     ]
    }
   ],
   "source": [
    "female_height = np.array([151,154,158,162,\n",
    "                          154,152,151,167,\n",
    "                          160,161,155,159,\n",
    "                          160,160,155,153,\n",
    "                          163,160,165,146,\n",
    "                          156,153,165,156,\n",
    "                          158,155,154,160,\n",
    "                          156,163,148,151,\n",
    "                          154,160,169,151,\n",
    "                          160,159,158,157,\n",
    "                          154,164,146,151,\n",
    "                          162,158,166,156,\n",
    "                          156,150,161,166,\n",
    "                          162,155,143,159,\n",
    "                          157,157,156,157,\n",
    "                          162,161,156,156,\n",
    "                          162,168,149,159,\n",
    "                          169,162,162,156,\n",
    "                          150,153,159,156,\n",
    "                          162,154,164,161])\n",
    "height_df = DataFrame(female_height)\n",
    "height_df.info()"
   ]
  },
  {
   "cell_type": "code",
   "execution_count": 31,
   "metadata": {},
   "outputs": [
    {
     "data": {
      "text/plain": [
       "array([[<matplotlib.axes._subplots.AxesSubplot object at 0x7f8e2fa12b38>]], dtype=object)"
      ]
     },
     "execution_count": 31,
     "metadata": {},
     "output_type": "execute_result"
    },
    {
     "data": {
      "image/png": "[encoded data removed]",
      "text/plain": [
       "<matplotlib.figure.Figure at 0x7f8e2fa2a630>"
      ]
     },
     "metadata": {},
     "output_type": "display_data"
    }
   ],
   "source": [
    "height_df.hist(bins=6)"
   ]
  },
  {
   "cell_type": "markdown",
   "metadata": {},
   "source": [
    "# 基本的な統計量\n",
    "\n",
    "平均値 $\\mu$ (Mean) $= 階級値 * 相対度数の合計 \\\\\\\n",
    "\\approx データの合計 / データ数$  \n",
    "\n",
    "偏差 (Deviation) $= データの数値 - 平均値$  \n",
    "\n",
    "分散 $\\sigma^2$ (Variance) $= 偏差の2乗の合計 / データ数 \\\\\\\n",
    "\\approx (階級値 - 平均値)^2 * 相対度数の合計$  \n",
    "\n",
    "標準偏差 $\\sigma$ (Standard Deviation) $= \\sqrt{分散} = 偏差の二乗平均$  \n",
    "\n",
    ">**ちなみに。。。いろいろな平均値**  \n",
    ">算術平均：\n",
    ">$\\frac{(x+y)}{2}$  \n",
    ">相乗平均：\n",
    ">$\\sqrt{xy}$  \n",
    ">二乗平均：\n",
    ">$\\sqrt{\\frac{(x^2+y^2)}{2}}$  \n",
    ">調和平均：\n",
    ">$\\frac{2}{\\frac{1}{x}+\\frac{1}{y}}$  \n",
    "\n"
   ]
  },
  {
   "cell_type": "markdown",
   "metadata": {},
   "source": [
    "# 区間推定\n",
    "\n",
    "母集団のすべての母数に対して、その母数を仮定したときに観測されるデータの「95パーセント予言的中区間」に現実に観測されたデータが入ることを検証し（検定）、そような母数だけを集める推定の方法。  \n",
    "区間推定によって定められた母数の範囲を「95パーセント信頼区間」という。\n",
    "\n",
    "\n",
    "\n",
    "\n"
   ]
  },
  {
   "cell_type": "markdown",
   "metadata": {},
   "source": [
    "# 仮説検定 (Hypothesis Testing)\n",
    "正規分布している（あるいは正規分布で近似できる）母集団の母数について、その母数がある数値でである仮説の検証は、次の通りに実行する。  \n",
    "その母数の母集団が正規分布していて、その平均値を$\\mu$、S.D.を$\\sigma$としたとき、観測されたデータに対して不等式  \n",
    "\n",
    "検証したい仮説：帰無仮説\n",
    "検証したい仮説ではない結論になる仮説：対立仮説\n",
    "\n",
    "$-1.96 \\leq \\frac{x-\\mu}{\\sigma} \\leq 1.96$  \n",
    "\n",
    "が成立するなら、仮説は棄却されない（採択される）。  \n",
    "成立しないなら、仮説は棄却される。\n",
    "\n",
    "## 有意水準 $\\alpha$\n",
    "\n",
    "帰無仮説を棄却するかしないかの基準となる確率 $\\alpha$。\n",
    "有意水準を決定する科学的根拠は存在しないが、統計学上では一般に5パーセントか1パーセントと設定される。\n",
    "\n",
    "## 95パーセント予測区間\n",
    "\n",
    "95パーセント予測区間$x$は、以下の不等式を解いて得られる。  \n",
    "\n",
    "$-1.96 \\leq \\frac{x-\\mu}{\\sigma} \\leq 1.96$  \n",
    "\n",
    "## 95パーセント信頼区間（Confidence Interval）\n",
    "さまざまな観測値から同じ方法で区間推定をすると、そのうち95パーセントは正しい母数を含んでいるという区間。\n",
    "\n",
    "\n",
    "\n",
    "\n",
    "\n"
   ]
  },
  {
   "cell_type": "markdown",
   "metadata": {},
   "source": [
    "# 母集団と標本と推定値\n",
    "\n",
    "無限母集団 (Infinite Population)：  \n",
    "各データは無限個ずつ存在していて、その「観測されやすさ」はそれぞれことなっている。\n",
    "\n",
    "ランダム・サンプリングの仮定：  \n",
    "十分な回数の観測を行い、ヒストグラムを作成すると、母集団の分布が再現される。\n",
    "\n",
    "母集団の平均値$\\mu$を母平均といい、以下の方法で求められる。  \n",
    "$\\mu = データの数値 * 相対度数の和$\n",
    "\n",
    "\n",
    "大数の法則：  \n",
    "1つの母集団から、$n$個のデータを観測し、その標本平均$\\overline{x}$を作る。このとき、$n$が大きければ大きいほど、標本平均は母平均$\\mu$に近い値を取る可能性が高くなる。\n",
    "\n",
    "正規母集団 (Normal Population)：  \n",
    "正規分布している母集団\n",
    "\n",
    "\n",
    "正規母集団の母平均 (population mean)を$\\mu$、母標準偏差を$\\sigma$とするとき、そこから観測されるデータ$x_i$の$n$個に対する標本平均(Sample Mean)$\\overline{x}$の分布は、正規表現である。  \n",
    "$\\overline{x}$の分布の平均値は$\\mu$のままだが、S.D.は$\\frac{\\sigma}{\\sqrt{n}}$と母集団に比べて$\\sqrt{n}$分の1に縮む。\n",
    "\n",
    "標本数 $n$：  \n",
    "\n",
    "母平均:  \n",
    "母集団の平均値  \n",
    "\n",
    "母分散:  \n",
    "全体の分布（母集団）の分散。未知数であることが多い。  \n",
    "\n",
    "標本平均（Sample Mean）:  \n",
    "標本（データ）の分散。$\\frac{1}{n}\\sum^{n}_{i=1}(x_i - \\overline{x})^2$  \n",
    "\n",
    "標本分散 $s^2$（Sample Variance）：\n",
    "\n",
    "不偏分散:  \n",
    "母分散の不偏推定量。標本分散を$\\frac{n}{n-1}$したもの。$\\frac{1}{n-1}\\sum^{n}_{i=1}(x_i - \\overline{x})^2$\n",
    "\n",
    "\n",
    "\n",
    "\n"
   ]
  },
  {
   "cell_type": "markdown",
   "metadata": {},
   "source": [
    "# 標準正規分布 (Standard Normal Distribution)\n",
    "\n",
    "$f(x) = \\frac{1}{\\sqrt{2\\pi}}e^{-\\frac{1}{2}x^2}$\n",
    "\n"
   ]
  },
  {
   "cell_type": "code",
   "execution_count": 3,
   "metadata": {},
   "outputs": [
    {
     "data": {
      "text/plain": [
       "[<matplotlib.lines.Line2D at 0x7feeb7baec88>]"
      ]
     },
     "execution_count": 3,
     "metadata": {},
     "output_type": "execute_result"
    },
    {
     "data": {
      "image/png": "[encoded data removed]",
      "text/plain": [
       "<matplotlib.figure.Figure at 0x7feec1f1f278>"
      ]
     },
     "metadata": {},
     "output_type": "display_data"
    }
   ],
   "source": [
    "# 平均を0\n",
    "mean = 0\n",
    "# 標準偏差を1\n",
    "std = 1\n",
    "# 領域を決定\n",
    "X = np.arange(-4,4,0.01)\n",
    "# 値を計算\n",
    "Y = stats.norm.pdf(X,mean,std)\n",
    "plt.plot(X,Y)"
   ]
  },
  {
   "cell_type": "markdown",
   "metadata": {},
   "source": [
    "\n",
    "## 標準正規分布の特徴\n",
    "\n",
    "### 正規分布の観測値の平均の性質\n",
    "\n",
    "平均$\\mu$、標準偏差$\\sigma$の正規分布に従って観測される数値を、$n$個観測し、その平均値を$\\overline{x}$と記す。すなわち  \n",
    "\n",
    "$\\overline{x} = (n個の観測値の和) / n$\n",
    "\n",
    "このとき、$\\overline{x}$も正規分布に従い、その平均と標準偏差は、  \n",
    "\n",
    "平均$\\mu$、標準偏差$\\frac{\\sigma}{\\sqrt{n}}$\n",
    "\n",
    "で与えられる。\n",
    "\n",
    "\n",
    "\n",
    "標準正規分布において  \n",
    "**(-1.96)~(+1.96)の範囲のデータの相対度数は0.95（95％）**  \n",
    "\n",
    ">ちなみに、  \n",
    "(-1)~(+1)の範囲のデータの相対度数は0.6826（約70％）  \n",
    "(-2)~(+2)の範囲のデータの相対度数は0.9544（約95％）  \n",
    "\n",
    "標準正規分布のデータを$z$とすると、  \n",
    "一般正規分布のデータ$x$は  \n",
    "\n",
    "$x = \\sigma * z + \\mu$  \n",
    "\n",
    "で得られ、  \n",
    "\n",
    "$平均値 = \\mu, S.D. = \\sigma$  \n",
    "\n",
    "である。\n",
    "\n",
    "よって、  \n",
    "平均値が$\\mu$、S.D.が$\\sigma$の正規分布においては、\n",
    "\n",
    "**$(\\mu-1.96\\sigma)~(\\mu+1.96\\sigma)$の範囲のデータの相対度数は0.95（95％）**  \n"
   ]
  },
  {
   "cell_type": "markdown",
   "metadata": {},
   "source": [
    "# z検定\n",
    "\n",
    "正規分布を用いる統計学的検定法で、標本の平均と母集団の平均とが統計学的にみて有意に異なるかどうかを検定する方法である。\n",
    "\n",
    "次の数値が既知であるとする\n",
    "\n",
    "* σ（母集団の標準偏差）\n",
    "* μ（母集団の平均）\n",
    "* x （標本の平均）\n",
    "* n （標本サイズ）\n",
    "\n"
   ]
  },
  {
   "cell_type": "markdown",
   "metadata": {},
   "source": [
    "# カイ二乗検定 (Chi-squared Test)\n",
    "\n",
    "## カイ二乗分布 (Chi-squared distribution)\n",
    "\n",
    "## 標本分散 $V$\n",
    "母平均$\\mu$、母標準偏差$\\sigma$の正規母集団から$n$個の標本$x_1, x_2, ... x_n$を観測し、  \n",
    "\n",
    "$V = (\\frac{x\\_1-\\mu}{\\sigma})^2 + (\\frac{x\\_2-\\mu}{\\sigma})^2 + ... + (\\frac{x\\_n-\\mu}{\\sigma})^2$\n",
    "\n",
    "という$V$を計算すると、$V$は自由度$n$のカイ二乗分布をする。\n",
    "\n",
    "\n",
    "\n",
    "## 不偏分散 $W$\n",
    "母平均$\\mu$、母標準偏差$\\sigma$の正規母集団から$n$個の標本$x_1, x_2, ... x_n$を観測し、  \n",
    "\n",
    "$W = (\\frac{x\\_1-\\overline{x}}{\\sigma})^2 + (\\frac{x\\_2-\\overline{x}}{\\sigma})^2 + ... + (\\frac{x\\_n-\\overline{x}}{\\sigma})^2$\n",
    "\n",
    "という$W$を計算すると、$V$は自由度$n-1$のカイ二乗分布をする。\n",
    "\n",
    "$n \\times s^2 = \\sigma^2 \\times W$\n",
    "\n",
    "\n",
    "**補論**\n",
    "なぜ$W$が$V$より自由度が1だけ下がるのか？  \n",
    "\n",
    "\n",
    "### 95パーセント予言的中区間\n",
    "\n",
    "\n",
    "\n"
   ]
  },
  {
   "cell_type": "markdown",
   "metadata": {},
   "source": [
    "# t-検定 (Student's t-test)\n",
    "\n",
    "## t-分布 (t-distribution)\n",
    "\n",
    "\n",
    "**定義**  \n",
    "\n",
    "$T = \\frac{z\\sqrt{k}}{\\sqrt{W}} \\\\\\\n",
    "= \\frac{(標準正規分布のデータz) \\times \\sqrt{Wの自由度k}}{\\sqrt{カイ二乗分布W}}$\n"
   ]
  },
  {
   "cell_type": "code",
   "execution_count": 8,
   "metadata": {},
   "outputs": [
    {
     "data": {
      "text/plain": [
       "[<matplotlib.lines.Line2D at 0x7feeb7a622e8>]"
      ]
     },
     "execution_count": 8,
     "metadata": {},
     "output_type": "execute_result"
    },
    {
     "data": {
      "image/png": "[encoded data removed]",
      "text/plain": [
       "<matplotlib.figure.Figure at 0x7feec1b1a940>"
      ]
     },
     "metadata": {},
     "output_type": "display_data"
    }
   ],
   "source": [
    "# x軸の数字を用意\n",
    "x = np.linspace(-5,5,100)\n",
    "\n",
    "# 自由度3のt分布\n",
    "rv = stats.t(3)\n",
    "\n",
    "# 確率密度関数（PDF)\n",
    "plt.plot(x, rv.pdf(x))"
   ]
  },
  {
   "cell_type": "markdown",
   "metadata": {},
   "source": [
    "\n",
    "# ベイズ統計学とは\n",
    "\n",
    "事前確率:  \n",
    "\n",
    "事前分布:  \n",
    "\n",
    "推測の改定:  \n",
    "\n",
    "事後確率（ベイズ逆確率）:  \n",
    "\n",
    "ベイズ更新:  \n",
    "\n",
    "ベイズ推定:  \n",
    "事前確率を行動の観察によって、事後確率へとベイズ更新すること\n",
    "\n",
    "主観確率:  \n",
    "「人が心に思い描く数値」と解釈する確率\n",
    "\n",
    "\n",
    "## 理由不十分の原則\n",
    "\n",
    "## 最尤原理\n",
    "\n",
    "\n",
    "\n"
   ]
  },
  {
   "cell_type": "markdown",
   "metadata": {},
   "source": [
    "# 確率\n",
    "\n",
    "素事象$e$について、その確率は$p({e})$と記す。\n",
    "\n",
    "$p({e, f, g}) = p({e}) + p({f}) + p({g})$\n",
    "\n",
    "**加法法則**  \n",
    "\n",
    "$p(A or B) = p(A) + p(B)$\n",
    "\n",
    "**乗法法則**  \n",
    "\n",
    "$p(A \\& B) = p(A) \\times p(B)$\n",
    "\n",
    "\n",
    "**条件付き確率**  \n",
    "\n",
    "事象$B$という情報を得た下での事象$A$の条件付き確率$p(A|B)$は、以下の式で定義される。\n",
    "\n",
    "$p(A \\mid B) = p(A \\& B) / p(B)$\n",
    "\n",
    "\n",
    "**確率分布**  \n",
    "\n",
    "**確率密度**  \n",
    "\n",
    "**期待値**  "
   ]
  },
  {
   "cell_type": "markdown",
   "metadata": {},
   "source": [
    "# ベータ分布\n",
    "\n",
    "$y = (定数) \\times x^{\\alpha -1} (1-x)^{\\beta -1}$\n",
    "\n",
    "\n",
    "**ベータ分布の期待値**  \n",
    "\n",
    "$\\frac{\\alpha}{\\alpha + \\beta}$"
   ]
  },
  {
   "cell_type": "code",
   "execution_count": null,
   "metadata": {},
   "outputs": [],
   "source": []
  }
 ],
 "metadata": {
  "kernelspec": {
   "display_name": "Python 3",
   "language": "python",
   "name": "python3"
  },
  "language_info": {
   "codemirror_mode": {
    "name": "ipython",
    "version": 3
   },
   "file_extension": ".py",
   "mimetype": "text/x-python",
   "name": "python",
   "nbconvert_exporter": "python",
   "pygments_lexer": "ipython3",
   "version": "3.5.4"
  }
 },
 "nbformat": 4,
 "nbformat_minor": 2
}
